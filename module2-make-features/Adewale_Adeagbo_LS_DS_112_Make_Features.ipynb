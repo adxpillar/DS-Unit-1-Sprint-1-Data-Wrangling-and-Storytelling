{
  "nbformat": 4,
  "nbformat_minor": 0,
  "metadata": {
    "colab": {
      "name": "Adewale Adeagbo LS_DS_112_Make_Features.ipynb",
      "provenance": [],
      "collapsed_sections": [],
      "include_colab_link": true
    },
    "kernelspec": {
      "display_name": "Python 3",
      "language": "python",
      "name": "python3"
    },
    "language_info": {
      "codemirror_mode": {
        "name": "ipython",
        "version": 3
      },
      "file_extension": ".py",
      "mimetype": "text/x-python",
      "name": "python",
      "nbconvert_exporter": "python",
      "pygments_lexer": "ipython3",
      "version": "3.7.1"
    }
  },
  "cells": [
    {
      "cell_type": "markdown",
      "metadata": {
        "id": "view-in-github",
        "colab_type": "text"
      },
      "source": [
        "<a href=\"https://colab.research.google.com/github/adxpillar/DS-Unit-1-Sprint-1-Data-Wrangling-and-Storytelling/blob/master/module2-make-features/Adewale_Adeagbo_LS_DS_112_Make_Features.ipynb\" target=\"_parent\"><img src=\"https://colab.research.google.com/assets/colab-badge.svg\" alt=\"Open In Colab\"/></a>"
      ]
    },
    {
      "cell_type": "markdown",
      "metadata": {
        "id": "7fknoKxGz_jk",
        "colab_type": "text"
      },
      "source": [
        "Lambda School Data Science\n",
        "\n",
        "*Unit 1, Sprint 1, Module 2*\n",
        "\n",
        "---"
      ]
    },
    {
      "cell_type": "markdown",
      "metadata": {
        "colab_type": "text",
        "id": "qacqiXogluN_"
      },
      "source": [
        "# Make Features \n",
        "\n",
        "- Student should be able to understand the purpose of feature engineering\n",
        "- Student should be able to work with strings in pandas\n",
        "- Student should be able to work with dates and times in pandas\n",
        "- Student should be able to modify or create columns of a dataframe using the `.apply()` function\n",
        "\n",
        "\n",
        "Helpful Links:\n",
        "- [Minimally Sufficient Pandas](https://medium.com/dunder-data/minimally-sufficient-pandas-a8e67f2a2428)\n",
        "- [Feature Engineering](https://en.wikipedia.org/wiki/Feature_engineering)\n",
        "- Python Data Science Handbook\n",
        "  - [Chapter 3.10](https://jakevdp.github.io/PythonDataScienceHandbook/03.10-working-with-strings.html), Vectorized String Operations\n",
        "  - [Chapter 3.11](https://jakevdp.github.io/PythonDataScienceHandbook/03.11-working-with-time-series.html), Working with Time Series\n",
        "- [Lambda Learning Method for DS - By Ryan Herr](https://docs.google.com/document/d/1ubOw9B3Hfip27hF2ZFnW3a3z9xAgrUDRReOEo-FHCVs/edit?usp=sharing)"
      ]
    },
    {
      "cell_type": "markdown",
      "metadata": {
        "id": "LZSXUzBm3yvk",
        "colab_type": "text"
      },
      "source": [
        "# [Objective](#feature-engineering) - The Purpose of Feature Engineering\n",
        "\n"
      ]
    },
    {
      "cell_type": "markdown",
      "metadata": {
        "id": "MGHzNUcT30ui",
        "colab_type": "text"
      },
      "source": [
        "## Overview\n",
        "\n",
        "Feature Engineering is the process of using a combination of domain knowledge, creativity and the pre-existing columns of a dataset to create completely new columns.\n",
        "\n",
        " Machine Learning models try to detect patterns in the data and then associate those patterns with certain predictions. The hope is that by creating new columns on our dataset that we can expose our model to new patterns in the data so that it can make better and better predictions.\n",
        "\n",
        "This is largely a matter of understanding how to work with individual columns of a dataframe with Pandas --which is what we'll be practicing today!"
      ]
    },
    {
      "cell_type": "markdown",
      "metadata": {
        "id": "i6vOmj_i35ef",
        "colab_type": "text"
      },
      "source": [
        "## Follow Along\n",
        "\n",
        "Columns of a dataframe hold each hold a specific type of data. Lets inspect some of the common datatypes found in datasets and then we'll make a new feature on a dataset using pre-existing columns."
      ]
    },
    {
      "cell_type": "code",
      "metadata": {
        "id": "Ua6VURnC9Cny",
        "colab_type": "code",
        "colab": {}
      },
      "source": [
        "import pandas as pd"
      ],
      "execution_count": 0,
      "outputs": []
    },
    {
      "cell_type": "code",
      "metadata": {
        "id": "p_Y05YBr32O-",
        "colab_type": "code",
        "colab": {}
      },
      "source": [
        "# Lets take a look at the Ames Iowa Housing Dataset:\n",
        "df = pd.read_csv('https://raw.githubusercontent.com/ryanleeallred/datasets/master/Ames%20Housing%20Data/train.csv')"
      ],
      "execution_count": 0,
      "outputs": []
    },
    {
      "cell_type": "markdown",
      "metadata": {
        "id": "0QmscJ7n9OSB",
        "colab_type": "text"
      },
      "source": [
        "### Specific Columns hold specific kinds of data"
      ]
    },
    {
      "cell_type": "code",
      "metadata": {
        "id": "M8rsw3zl9S3v",
        "colab_type": "code",
        "colab": {
          "base_uri": "https://localhost:8080/",
          "height": 221
        },
        "outputId": "4fdf73df-7691-4ab8-d43a-1976aec04214"
      },
      "source": [
        "df.dtypes"
      ],
      "execution_count": 3,
      "outputs": [
        {
          "output_type": "execute_result",
          "data": {
            "text/plain": [
              "Id                 int64\n",
              "MSSubClass         int64\n",
              "MSZoning          object\n",
              "LotFrontage      float64\n",
              "LotArea            int64\n",
              "                  ...   \n",
              "MoSold             int64\n",
              "YrSold             int64\n",
              "SaleType          object\n",
              "SaleCondition     object\n",
              "SalePrice          int64\n",
              "Length: 81, dtype: object"
            ]
          },
          "metadata": {
            "tags": []
          },
          "execution_count": 3
        }
      ]
    },
    {
      "cell_type": "markdown",
      "metadata": {
        "id": "znph8qpr9q29",
        "colab_type": "text"
      },
      "source": [
        "Some columns hold integer values like the `BedroomAbvGr` which stands for \"Bedrooms Above Grade.\" This is the number of non-basement bedrooms in the home.\n",
        "\n",
        "For more information on specific column meanings view the [data dictionary](https://github.com/ryanleeallred/datasets/blob/master/Ames%20Housing%20Data/data_description.txt)."
      ]
    },
    {
      "cell_type": "code",
      "metadata": {
        "id": "zl-wfFZv-_fo",
        "colab_type": "code",
        "colab": {
          "base_uri": "https://localhost:8080/",
          "height": 204
        },
        "outputId": "f238e826-6c56-43c4-89c4-71a93fe28d0f"
      },
      "source": [
        "# Look at the first ten rows of the `BedroomAbvGr` column.\n",
        "# Looks like integers to me!\n",
        "df['BedroomAbvGr'].head(10)"
      ],
      "execution_count": 39,
      "outputs": [
        {
          "output_type": "execute_result",
          "data": {
            "text/plain": [
              "0    3\n",
              "1    3\n",
              "2    3\n",
              "3    3\n",
              "4    4\n",
              "5    1\n",
              "6    3\n",
              "7    3\n",
              "8    2\n",
              "9    2\n",
              "Name: BedroomAbvGr, dtype: int64"
            ]
          },
          "metadata": {
            "tags": []
          },
          "execution_count": 39
        }
      ]
    },
    {
      "cell_type": "markdown",
      "metadata": {
        "id": "JyfxM5tc_Q1w",
        "colab_type": "text"
      },
      "source": [
        "Some columns hold float values like the `LotFrontage` column."
      ]
    },
    {
      "cell_type": "code",
      "metadata": {
        "id": "pdILA65r_PeY",
        "colab_type": "code",
        "colab": {
          "base_uri": "https://localhost:8080/",
          "height": 204
        },
        "outputId": "31e16b57-5d21-4a41-d144-4cc804c7b2f5"
      },
      "source": [
        "# Look at the first ten rows of the `BedroomAbvGr` column.\n",
        "df['LotFrontage'].head(10)"
      ],
      "execution_count": 40,
      "outputs": [
        {
          "output_type": "execute_result",
          "data": {
            "text/plain": [
              "0    65.0\n",
              "1    80.0\n",
              "2    68.0\n",
              "3    60.0\n",
              "4    84.0\n",
              "5    85.0\n",
              "6    75.0\n",
              "7     NaN\n",
              "8    51.0\n",
              "9    50.0\n",
              "Name: LotFrontage, dtype: float64"
            ]
          },
          "metadata": {
            "tags": []
          },
          "execution_count": 40
        }
      ]
    },
    {
      "cell_type": "markdown",
      "metadata": {
        "id": "yfvyHa9IfGi9",
        "colab_type": "text"
      },
      "source": [
        "Hmmm, do the values above look like floats to you?\n",
        "\n",
        "They all have .0 on them so technically they're being stored as floats, but *should* they be stored as floats?\n",
        "\n",
        "Lets see what all of the possible values for this column are."
      ]
    },
    {
      "cell_type": "code",
      "metadata": {
        "id": "MDLnz1CX_eGc",
        "colab_type": "code",
        "colab": {
          "base_uri": "https://localhost:8080/",
          "height": 1000
        },
        "outputId": "0013cada-8be7-4fac-92c4-0c84a51db84a"
      },
      "source": [
        "pd.set_option('display.max_rows', 150)\n",
        "df['LotFrontage'].value_counts(dropna=False)"
      ],
      "execution_count": 6,
      "outputs": [
        {
          "output_type": "execute_result",
          "data": {
            "text/plain": [
              "NaN      259\n",
              "60.0     143\n",
              "70.0      70\n",
              "80.0      69\n",
              "50.0      57\n",
              "75.0      53\n",
              "65.0      44\n",
              "85.0      40\n",
              "78.0      25\n",
              "21.0      23\n",
              "90.0      23\n",
              "68.0      19\n",
              "24.0      19\n",
              "64.0      19\n",
              "73.0      18\n",
              "72.0      17\n",
              "79.0      17\n",
              "63.0      17\n",
              "55.0      17\n",
              "100.0     16\n",
              "51.0      15\n",
              "66.0      15\n",
              "74.0      15\n",
              "52.0      14\n",
              "59.0      13\n",
              "71.0      12\n",
              "67.0      12\n",
              "57.0      12\n",
              "82.0      12\n",
              "43.0      12\n",
              "40.0      12\n",
              "76.0      11\n",
              "69.0      11\n",
              "53.0      10\n",
              "92.0      10\n",
              "88.0      10\n",
              "34.0      10\n",
              "86.0      10\n",
              "77.0       9\n",
              "35.0       9\n",
              "44.0       9\n",
              "84.0       9\n",
              "62.0       9\n",
              "93.0       8\n",
              "61.0       8\n",
              "98.0       8\n",
              "96.0       8\n",
              "107.0      7\n",
              "95.0       7\n",
              "120.0      7\n",
              "58.0       7\n",
              "41.0       6\n",
              "105.0      6\n",
              "54.0       6\n",
              "94.0       6\n",
              "48.0       6\n",
              "110.0      6\n",
              "30.0       6\n",
              "89.0       6\n",
              "81.0       6\n",
              "91.0       6\n",
              "36.0       6\n",
              "47.0       5\n",
              "83.0       5\n",
              "37.0       5\n",
              "87.0       5\n",
              "32.0       5\n",
              "56.0       5\n",
              "102.0      4\n",
              "42.0       4\n",
              "49.0       4\n",
              "99.0       3\n",
              "45.0       3\n",
              "104.0      3\n",
              "130.0      3\n",
              "103.0      3\n",
              "108.0      3\n",
              "124.0      2\n",
              "174.0      2\n",
              "97.0       2\n",
              "134.0      2\n",
              "129.0      2\n",
              "313.0      2\n",
              "118.0      2\n",
              "122.0      2\n",
              "121.0      2\n",
              "101.0      2\n",
              "109.0      2\n",
              "115.0      2\n",
              "116.0      2\n",
              "114.0      2\n",
              "153.0      1\n",
              "149.0      1\n",
              "150.0      1\n",
              "111.0      1\n",
              "182.0      1\n",
              "46.0       1\n",
              "112.0      1\n",
              "141.0      1\n",
              "33.0       1\n",
              "152.0      1\n",
              "160.0      1\n",
              "168.0      1\n",
              "128.0      1\n",
              "144.0      1\n",
              "39.0       1\n",
              "106.0      1\n",
              "38.0       1\n",
              "138.0      1\n",
              "140.0      1\n",
              "137.0      1\n",
              "Name: LotFrontage, dtype: int64"
            ]
          },
          "metadata": {
            "tags": []
          },
          "execution_count": 6
        }
      ]
    },
    {
      "cell_type": "markdown",
      "metadata": {
        "id": "1IaYU5QzAfgn",
        "colab_type": "text"
      },
      "source": [
        "Looks to me like the `LotFrontage` column originally held integer values but was cast to a `float` meaning that each original integer values was converted to its corresponding float representation. \n",
        "\n",
        "Any guesses as to why that would have happened?\n",
        "\n",
        "\n",
        "HINT: What's the most common `LotFrontage` value for this column?"
      ]
    },
    {
      "cell_type": "code",
      "metadata": {
        "id": "MtkV149OA5je",
        "colab_type": "code",
        "colab": {
          "base_uri": "https://localhost:8080/",
          "height": 34
        },
        "outputId": "f629885b-c99e-4135-85de-cd6736f01c14"
      },
      "source": [
        "# NaN is the most common value in this column. What is a NaN\n",
        "import numpy as np\n",
        "type(np.NaN)"
      ],
      "execution_count": 8,
      "outputs": [
        {
          "output_type": "execute_result",
          "data": {
            "text/plain": [
              "float"
            ]
          },
          "metadata": {
            "tags": []
          },
          "execution_count": 8
        }
      ]
    },
    {
      "cell_type": "code",
      "metadata": {
        "id": "1UEZhFbRSgGD",
        "colab_type": "code",
        "colab": {
          "base_uri": "https://localhost:8080/",
          "height": 1000
        },
        "outputId": "b1bf2293-44c8-4710-fd53-bbe808fd4062"
      },
      "source": [
        "df.isnull().sum()"
      ],
      "execution_count": 10,
      "outputs": [
        {
          "output_type": "execute_result",
          "data": {
            "text/plain": [
              "Id                  0\n",
              "MSSubClass          0\n",
              "MSZoning            0\n",
              "LotFrontage       259\n",
              "LotArea             0\n",
              "Street              0\n",
              "Alley            1369\n",
              "LotShape            0\n",
              "LandContour         0\n",
              "Utilities           0\n",
              "LotConfig           0\n",
              "LandSlope           0\n",
              "Neighborhood        0\n",
              "Condition1          0\n",
              "Condition2          0\n",
              "BldgType            0\n",
              "HouseStyle          0\n",
              "OverallQual         0\n",
              "OverallCond         0\n",
              "YearBuilt           0\n",
              "YearRemodAdd        0\n",
              "RoofStyle           0\n",
              "RoofMatl            0\n",
              "Exterior1st         0\n",
              "Exterior2nd         0\n",
              "MasVnrType          8\n",
              "MasVnrArea          8\n",
              "ExterQual           0\n",
              "ExterCond           0\n",
              "Foundation          0\n",
              "BsmtQual           37\n",
              "BsmtCond           37\n",
              "BsmtExposure       38\n",
              "BsmtFinType1       37\n",
              "BsmtFinSF1          0\n",
              "BsmtFinType2       38\n",
              "BsmtFinSF2          0\n",
              "BsmtUnfSF           0\n",
              "TotalBsmtSF         0\n",
              "Heating             0\n",
              "HeatingQC           0\n",
              "CentralAir          0\n",
              "Electrical          1\n",
              "1stFlrSF            0\n",
              "2ndFlrSF            0\n",
              "LowQualFinSF        0\n",
              "GrLivArea           0\n",
              "BsmtFullBath        0\n",
              "BsmtHalfBath        0\n",
              "FullBath            0\n",
              "HalfBath            0\n",
              "BedroomAbvGr        0\n",
              "KitchenAbvGr        0\n",
              "KitchenQual         0\n",
              "TotRmsAbvGrd        0\n",
              "Functional          0\n",
              "Fireplaces          0\n",
              "FireplaceQu       690\n",
              "GarageType         81\n",
              "GarageYrBlt        81\n",
              "GarageFinish       81\n",
              "GarageCars          0\n",
              "GarageArea          0\n",
              "GarageQual         81\n",
              "GarageCond         81\n",
              "PavedDrive          0\n",
              "WoodDeckSF          0\n",
              "OpenPorchSF         0\n",
              "EnclosedPorch       0\n",
              "3SsnPorch           0\n",
              "ScreenPorch         0\n",
              "PoolArea            0\n",
              "PoolQC           1453\n",
              "Fence            1179\n",
              "MiscFeature      1406\n",
              "MiscVal             0\n",
              "MoSold              0\n",
              "YrSold              0\n",
              "SaleType            0\n",
              "SaleCondition       0\n",
              "SalePrice           0\n",
              "dtype: int64"
            ]
          },
          "metadata": {
            "tags": []
          },
          "execution_count": 10
        }
      ]
    },
    {
      "cell_type": "markdown",
      "metadata": {
        "id": "cJNKPLl_BQh7",
        "colab_type": "text"
      },
      "source": [
        "`NaN` stands stands for \"Not a Number\" and is the default missing value indicator with Pandas. This means there were cells in this column that didn't have a LotFrontage value recorded for those homes. \n",
        "\n",
        "This is where domain knowledge starts to come in. Think about the context we're working with here: houses. What might a null or blank cell representing \"Linear feet of street connected to property\" mean in the context of a housing dataset?\n",
        "\n",
        "Ok, so maybe it makes seanse to have some NaNs in this column. What is the datatype of a NaN value?\n",
        "\n",
        "Perhaps some of this data is truly missing or unrecorded data, but sometimes `NaNs` are more likely to indicate something that was \"NA\" or \"Not Applicable\" to a particular observation. There could be multiple reasons why there was no value recorded for a particular feature.\n",
        "\n",
        "Remember, that Pandas tries to maintain a single datatype for all values in a column, and therefore..."
      ]
    },
    {
      "cell_type": "code",
      "metadata": {
        "id": "2166y9kXB0zZ",
        "colab_type": "code",
        "colab": {}
      },
      "source": [
        "import numpy as np\n",
        "\n",
        "# What is the datatype of NaN?"
      ],
      "execution_count": 0,
      "outputs": []
    },
    {
      "cell_type": "markdown",
      "metadata": {
        "id": "37ZaBu5OB63d",
        "colab_type": "text"
      },
      "source": [
        "The datatype of a NaN is float!  This means that if we have a column of integer values, but the column has even a single `NaN` that column will not be treated with the integer datatype but all of the integers will be converted to floats in order to try and preserve the same datatype throughout the entire column.\n",
        "\n",
        "You can see already how understanding column datatypes is crucial to understanding how Pandas help us manage our data."
      ]
    },
    {
      "cell_type": "markdown",
      "metadata": {
        "id": "Ko_yfcFqg0pj",
        "colab_type": "text"
      },
      "source": [
        "### Making new Features\n",
        "\n",
        "Lets slim down the dataset and consider just a few specific columns:\n",
        "\n",
        "- `TotalBsmtSF`\n",
        "- `1stFlrSF`\n",
        "- `2ndFlrSF`\n",
        "- `SalePrice1`\n"
      ]
    },
    {
      "cell_type": "code",
      "metadata": {
        "id": "_GxPTgevhWnv",
        "colab_type": "code",
        "colab": {
          "base_uri": "https://localhost:8080/",
          "height": 204
        },
        "outputId": "2dd4cbc3-ef89-4a15-f390-ee53809eb3d9"
      },
      "source": [
        "# I can make a smaller dataframe with a few specific column headers\n",
        "# by passing a list of column headers inside of the square brackets\n",
        "\n",
        "df_small = df[['TotalBsmtSF', '1stFlrSF', '2ndFlrSF', 'SalePrice']]\n",
        "df_small.head()"
      ],
      "execution_count": 11,
      "outputs": [
        {
          "output_type": "execute_result",
          "data": {
            "text/html": [
              "<div>\n",
              "<style scoped>\n",
              "    .dataframe tbody tr th:only-of-type {\n",
              "        vertical-align: middle;\n",
              "    }\n",
              "\n",
              "    .dataframe tbody tr th {\n",
              "        vertical-align: top;\n",
              "    }\n",
              "\n",
              "    .dataframe thead th {\n",
              "        text-align: right;\n",
              "    }\n",
              "</style>\n",
              "<table border=\"1\" class=\"dataframe\">\n",
              "  <thead>\n",
              "    <tr style=\"text-align: right;\">\n",
              "      <th></th>\n",
              "      <th>TotalBsmtSF</th>\n",
              "      <th>1stFlrSF</th>\n",
              "      <th>2ndFlrSF</th>\n",
              "      <th>SalePrice</th>\n",
              "    </tr>\n",
              "  </thead>\n",
              "  <tbody>\n",
              "    <tr>\n",
              "      <th>0</th>\n",
              "      <td>856</td>\n",
              "      <td>856</td>\n",
              "      <td>854</td>\n",
              "      <td>208500</td>\n",
              "    </tr>\n",
              "    <tr>\n",
              "      <th>1</th>\n",
              "      <td>1262</td>\n",
              "      <td>1262</td>\n",
              "      <td>0</td>\n",
              "      <td>181500</td>\n",
              "    </tr>\n",
              "    <tr>\n",
              "      <th>2</th>\n",
              "      <td>920</td>\n",
              "      <td>920</td>\n",
              "      <td>866</td>\n",
              "      <td>223500</td>\n",
              "    </tr>\n",
              "    <tr>\n",
              "      <th>3</th>\n",
              "      <td>756</td>\n",
              "      <td>961</td>\n",
              "      <td>756</td>\n",
              "      <td>140000</td>\n",
              "    </tr>\n",
              "    <tr>\n",
              "      <th>4</th>\n",
              "      <td>1145</td>\n",
              "      <td>1145</td>\n",
              "      <td>1053</td>\n",
              "      <td>250000</td>\n",
              "    </tr>\n",
              "  </tbody>\n",
              "</table>\n",
              "</div>"
            ],
            "text/plain": [
              "   TotalBsmtSF  1stFlrSF  2ndFlrSF  SalePrice\n",
              "0          856       856       854     208500\n",
              "1         1262      1262         0     181500\n",
              "2          920       920       866     223500\n",
              "3          756       961       756     140000\n",
              "4         1145      1145      1053     250000"
            ]
          },
          "metadata": {
            "tags": []
          },
          "execution_count": 11
        }
      ]
    },
    {
      "cell_type": "markdown",
      "metadata": {
        "id": "Tw0PzxkbiQmm",
        "colab_type": "text"
      },
      "source": [
        "### Syntax for creating new columns\n",
        "\n",
        "When making a new column on a dataframe, we have to use the square bracket syntax of accessing a column. We can't use \"dot syntax\" here."
      ]
    },
    {
      "cell_type": "code",
      "metadata": {
        "id": "NkXHP57_iJ-U",
        "colab_type": "code",
        "colab": {
          "base_uri": "https://localhost:8080/",
          "height": 306
        },
        "outputId": "237fefb3-2ce8-4825-d461-aee3cdb8e283"
      },
      "source": [
        "# Lets add up all of the square footage to get a single square footage \n",
        "# column for the entire dataset\n",
        "\n",
        "# Using bracket syntax to make a new 'TotalSquareFootage' column\n",
        "\n",
        "df_small['TotalSF'] = df_small['TotalBsmtSF'] + df_small['1stFlrSF'] + df_small['2ndFlrSF']\n",
        "\n",
        "df_small.head()"
      ],
      "execution_count": 13,
      "outputs": [
        {
          "output_type": "stream",
          "text": [
            "/usr/local/lib/python3.6/dist-packages/ipykernel_launcher.py:2: SettingWithCopyWarning: \n",
            "A value is trying to be set on a copy of a slice from a DataFrame.\n",
            "Try using .loc[row_indexer,col_indexer] = value instead\n",
            "\n",
            "See the caveats in the documentation: http://pandas.pydata.org/pandas-docs/stable/user_guide/indexing.html#returning-a-view-versus-a-copy\n",
            "  \n"
          ],
          "name": "stderr"
        },
        {
          "output_type": "execute_result",
          "data": {
            "text/html": [
              "<div>\n",
              "<style scoped>\n",
              "    .dataframe tbody tr th:only-of-type {\n",
              "        vertical-align: middle;\n",
              "    }\n",
              "\n",
              "    .dataframe tbody tr th {\n",
              "        vertical-align: top;\n",
              "    }\n",
              "\n",
              "    .dataframe thead th {\n",
              "        text-align: right;\n",
              "    }\n",
              "</style>\n",
              "<table border=\"1\" class=\"dataframe\">\n",
              "  <thead>\n",
              "    <tr style=\"text-align: right;\">\n",
              "      <th></th>\n",
              "      <th>TotalBsmtSF</th>\n",
              "      <th>1stFlrSF</th>\n",
              "      <th>2ndFlrSF</th>\n",
              "      <th>SalePrice</th>\n",
              "      <th>TotalSF</th>\n",
              "    </tr>\n",
              "  </thead>\n",
              "  <tbody>\n",
              "    <tr>\n",
              "      <th>0</th>\n",
              "      <td>856</td>\n",
              "      <td>856</td>\n",
              "      <td>854</td>\n",
              "      <td>208500</td>\n",
              "      <td>2566</td>\n",
              "    </tr>\n",
              "    <tr>\n",
              "      <th>1</th>\n",
              "      <td>1262</td>\n",
              "      <td>1262</td>\n",
              "      <td>0</td>\n",
              "      <td>181500</td>\n",
              "      <td>2524</td>\n",
              "    </tr>\n",
              "    <tr>\n",
              "      <th>2</th>\n",
              "      <td>920</td>\n",
              "      <td>920</td>\n",
              "      <td>866</td>\n",
              "      <td>223500</td>\n",
              "      <td>2706</td>\n",
              "    </tr>\n",
              "    <tr>\n",
              "      <th>3</th>\n",
              "      <td>756</td>\n",
              "      <td>961</td>\n",
              "      <td>756</td>\n",
              "      <td>140000</td>\n",
              "      <td>2473</td>\n",
              "    </tr>\n",
              "    <tr>\n",
              "      <th>4</th>\n",
              "      <td>1145</td>\n",
              "      <td>1145</td>\n",
              "      <td>1053</td>\n",
              "      <td>250000</td>\n",
              "      <td>3343</td>\n",
              "    </tr>\n",
              "  </tbody>\n",
              "</table>\n",
              "</div>"
            ],
            "text/plain": [
              "   TotalBsmtSF  1stFlrSF  2ndFlrSF  SalePrice  TotalSF\n",
              "0          856       856       854     208500     2566\n",
              "1         1262      1262         0     181500     2524\n",
              "2          920       920       866     223500     2706\n",
              "3          756       961       756     140000     2473\n",
              "4         1145      1145      1053     250000     3343"
            ]
          },
          "metadata": {
            "tags": []
          },
          "execution_count": 13
        }
      ]
    },
    {
      "cell_type": "code",
      "metadata": {
        "id": "Tn7stXsgUT3N",
        "colab_type": "code",
        "colab": {}
      },
      "source": [
        ""
      ],
      "execution_count": 0,
      "outputs": []
    },
    {
      "cell_type": "code",
      "metadata": {
        "id": "fEy-6VQCi08c",
        "colab_type": "code",
        "colab": {}
      },
      "source": [
        "# Lets make a nother new column that is 'PricePerSqFt' by\n",
        "# dividing the price by the square footage\n",
        "df_small['PricePerSQ'] = df_small['SalePrice'] / df_small['TotalSF']\n",
        "df_small.head()"
      ],
      "execution_count": 0,
      "outputs": []
    },
    {
      "cell_type": "markdown",
      "metadata": {
        "id": "nJ-GGFwKkPjF",
        "colab_type": "text"
      },
      "source": [
        "Ok, we have made two new columns on our small dataset.\n",
        "\n",
        "- What does a **high** `PricePerSqFt` say about a home that the square footage and price alone don't capture as directly?\n",
        "\n",
        "- What does a **low** `PricePerSqFt` say about a home that the square footage and price alone don't directly capture?\n",
        "\n"
      ]
    },
    {
      "cell_type": "markdown",
      "metadata": {
        "id": "3BbCu3ii4LK8",
        "colab_type": "text"
      },
      "source": [
        "## Challenge\n",
        "\n",
        "I hope you can see how we have used existing columns to create a new column on a dataset that say something new about our unit of observation. This is what making new features (columns) on a dataset is all about and why it's so essential to data science --particularly predictive modeling \"Machine Learning.\" \n",
        "\n",
        "We'll spend the rest of the lecture and assignment today trying to get as good as we can at manipulating (cleaning) and creating new columns on datasets."
      ]
    },
    {
      "cell_type": "markdown",
      "metadata": {
        "id": "sKnLv6nGmU8N",
        "colab_type": "text"
      },
      "source": [
        "# [Objective](#work-with-strings) Work with Strings with Pandas"
      ]
    },
    {
      "cell_type": "markdown",
      "metadata": {
        "id": "dqd_Lpb9ntwT",
        "colab_type": "text"
      },
      "source": [
        "## Overview\n",
        "\n",
        "So far we have worked with numeric datatypes (ints and floats) but we haven't worked with any columns containing string values. We can't simply use arithmetic to manipulate string values, so we'll need to learn some more techniques in order to work with this datatype."
      ]
    },
    {
      "cell_type": "markdown",
      "metadata": {
        "id": "c6UBXPhQnxzj",
        "colab_type": "text"
      },
      "source": [
        "## Follow Along\n",
        "\n",
        "We're going to import a new dataset here to work with. This dataset is from LendingClub and holds information about loans issued in Q4 of 2018. This dataset is a bit messy so it will give us plenty of opportunities to clean up existing columns as well as create new ones.\n",
        "\n",
        "The `!wget` shell command being used here does exactly the same thing that your browser does when you type a URL in the address. It makes a request or \"gets\" the file at that address. However, in our case the file isn't a webpage, it's a compressed CSV file. \n",
        "\n",
        "Try copying and pasting the URL from below into your browser, did it start an automatic download? Any URLs like this that start automatic downloads when navigated to can be used along with the `!wget` command to bring files directly into your notebook's memory."
      ]
    },
    {
      "cell_type": "markdown",
      "metadata": {
        "id": "r1SkaCMTsCyT",
        "colab_type": "text"
      },
      "source": [
        "### Load a new dataset"
      ]
    },
    {
      "cell_type": "code",
      "metadata": {
        "id": "MeEKWHB0n2fq",
        "colab_type": "code",
        "colab": {
          "base_uri": "https://localhost:8080/",
          "height": 204
        },
        "outputId": "11d40b91-4461-4bc5-ee33-32f556f8a453"
      },
      "source": [
        "!wget https://resources.lendingclub.com/LoanStats_2018Q4.csv.zip"
      ],
      "execution_count": 61,
      "outputs": [
        {
          "output_type": "stream",
          "text": [
            "--2020-02-11 20:31:20--  https://resources.lendingclub.com/LoanStats_2018Q4.csv.zip\n",
            "Resolving resources.lendingclub.com (resources.lendingclub.com)... 64.48.1.20\n",
            "Connecting to resources.lendingclub.com (resources.lendingclub.com)|64.48.1.20|:443... connected.\n",
            "HTTP request sent, awaiting response... 200 OK\n",
            "Length: unspecified [application/zip]\n",
            "Saving to: ‘LoanStats_2018Q4.csv.zip’\n",
            "\n",
            "LoanStats_2018Q4.cs     [        <=>         ]  21.74M   428KB/s    in 54s     \n",
            "\n",
            "2020-02-11 20:32:15 (412 KB/s) - ‘LoanStats_2018Q4.csv.zip’ saved [22793561]\n",
            "\n"
          ],
          "name": "stdout"
        }
      ]
    },
    {
      "cell_type": "markdown",
      "metadata": {
        "id": "TqUSbgIJqAB8",
        "colab_type": "text"
      },
      "source": [
        "We need to use the `!unzip` command to extract the csv from the zipped folder."
      ]
    },
    {
      "cell_type": "code",
      "metadata": {
        "id": "Mbw0l5wyqLeI",
        "colab_type": "code",
        "colab": {
          "base_uri": "https://localhost:8080/",
          "height": 51
        },
        "outputId": "151757d6-4dd8-4388-f19a-9b3eb56533ed"
      },
      "source": [
        "!unzip /content/LoanStats_2018Q4.csv.zip"
      ],
      "execution_count": 62,
      "outputs": [
        {
          "output_type": "stream",
          "text": [
            "Archive:  /content/LoanStats_2018Q4.csv.zip\n",
            "  inflating: LoanStats_2018Q4.csv    \n"
          ],
          "name": "stdout"
        }
      ]
    },
    {
      "cell_type": "markdown",
      "metadata": {
        "id": "ZPB0-7F_qNFT",
        "colab_type": "text"
      },
      "source": [
        "We can also use bash/shell commands to look at the raw file using the `!head` and `!tail` commands"
      ]
    },
    {
      "cell_type": "code",
      "metadata": {
        "id": "ZcWpsAmFqTF4",
        "colab_type": "code",
        "colab": {
          "base_uri": "https://localhost:8080/",
          "height": 207
        },
        "outputId": "49311f89-27a5-48e3-e4c8-f35b2ab8ef28"
      },
      "source": [
        "!head LoanStats_2018Q4.csv"
      ],
      "execution_count": 64,
      "outputs": [
        {
          "output_type": "stream",
          "text": [
            "Notes offered by Prospectus (https://www.lendingclub.com/info/prospectus.action)\n",
            "\"id\",\"member_id\",\"loan_amnt\",\"funded_amnt\",\"funded_amnt_inv\",\"term\",\"int_rate\",\"installment\",\"grade\",\"sub_grade\",\"emp_title\",\"emp_length\",\"home_ownership\",\"annual_inc\",\"verification_status\",\"issue_d\",\"loan_status\",\"pymnt_plan\",\"url\",\"desc\",\"purpose\",\"title\",\"zip_code\",\"addr_state\",\"dti\",\"delinq_2yrs\",\"earliest_cr_line\",\"inq_last_6mths\",\"mths_since_last_delinq\",\"mths_since_last_record\",\"open_acc\",\"pub_rec\",\"revol_bal\",\"revol_util\",\"total_acc\",\"initial_list_status\",\"out_prncp\",\"out_prncp_inv\",\"total_pymnt\",\"total_pymnt_inv\",\"total_rec_prncp\",\"total_rec_int\",\"total_rec_late_fee\",\"recoveries\",\"collection_recovery_fee\",\"last_pymnt_d\",\"last_pymnt_amnt\",\"next_pymnt_d\",\"last_credit_pull_d\",\"collections_12_mths_ex_med\",\"mths_since_last_major_derog\",\"policy_code\",\"application_type\",\"annual_inc_joint\",\"dti_joint\",\"verification_status_joint\",\"acc_now_delinq\",\"tot_coll_amt\",\"tot_cur_bal\",\"open_acc_6m\",\"open_act_il\",\"open_il_12m\",\"open_il_24m\",\"mths_since_rcnt_il\",\"total_bal_il\",\"il_util\",\"open_rv_12m\",\"open_rv_24m\",\"max_bal_bc\",\"all_util\",\"total_rev_hi_lim\",\"inq_fi\",\"total_cu_tl\",\"inq_last_12m\",\"acc_open_past_24mths\",\"avg_cur_bal\",\"bc_open_to_buy\",\"bc_util\",\"chargeoff_within_12_mths\",\"delinq_amnt\",\"mo_sin_old_il_acct\",\"mo_sin_old_rev_tl_op\",\"mo_sin_rcnt_rev_tl_op\",\"mo_sin_rcnt_tl\",\"mort_acc\",\"mths_since_recent_bc\",\"mths_since_recent_bc_dlq\",\"mths_since_recent_inq\",\"mths_since_recent_revol_delinq\",\"num_accts_ever_120_pd\",\"num_actv_bc_tl\",\"num_actv_rev_tl\",\"num_bc_sats\",\"num_bc_tl\",\"num_il_tl\",\"num_op_rev_tl\",\"num_rev_accts\",\"num_rev_tl_bal_gt_0\",\"num_sats\",\"num_tl_120dpd_2m\",\"num_tl_30dpd\",\"num_tl_90g_dpd_24m\",\"num_tl_op_past_12m\",\"pct_tl_nvr_dlq\",\"percent_bc_gt_75\",\"pub_rec_bankruptcies\",\"tax_liens\",\"tot_hi_cred_lim\",\"total_bal_ex_mort\",\"total_bc_limit\",\"total_il_high_credit_limit\",\"revol_bal_joint\",\"sec_app_earliest_cr_line\",\"sec_app_inq_last_6mths\",\"sec_app_mort_acc\",\"sec_app_open_acc\",\"sec_app_revol_util\",\"sec_app_open_act_il\",\"sec_app_num_rev_accts\",\"sec_app_chargeoff_within_12_mths\",\"sec_app_collections_12_mths_ex_med\",\"sec_app_mths_since_last_major_derog\",\"hardship_flag\",\"hardship_type\",\"hardship_reason\",\"hardship_status\",\"deferral_term\",\"hardship_amount\",\"hardship_start_date\",\"hardship_end_date\",\"payment_plan_start_date\",\"hardship_length\",\"hardship_dpd\",\"hardship_loan_status\",\"orig_projected_additional_accrued_interest\",\"hardship_payoff_balance_amount\",\"hardship_last_payment_amount\",\"debt_settlement_flag\",\"debt_settlement_flag_date\",\"settlement_status\",\"settlement_date\",\"settlement_amount\",\"settlement_percentage\",\"settlement_term\"\n",
            "\"\",\"\",\"35000\",\"35000\",\"35000\",\" 36 months\",\" 14.47%\",\"1204.23\",\"C\",\"C2\",\"Staff Physician\",\"8 years\",\"MORTGAGE\",\"360000\",\"Verified\",\"Dec-2018\",\"Fully Paid\",\"n\",\"\",\"\",\"credit_card\",\"Credit card refinancing\",\"336xx\",\"FL\",\"19.9\",\"0\",\"Apr-1995\",\"1\",\"\",\"\",\"24\",\"0\",\"57259\",\"43.2%\",\"51\",\"w\",\"0.00\",\"0.00\",\"38187.0468373662\",\"38187.05\",\"35000.00\",\"3187.05\",\"0.0\",\"0.0\",\"0.0\",\"Aug-2019\",\"29882.16\",\"\",\"Sep-2019\",\"0\",\"\",\"1\",\"Individual\",\"\",\"\",\"\",\"0\",\"0\",\"828060\",\"0\",\"6\",\"1\",\"2\",\"9\",\"112027\",\"29\",\"4\",\"8\",\"19118\",\"36\",\"132400\",\"3\",\"2\",\"5\",\"11\",\"34503\",\"67341\",\"46\",\"0\",\"0\",\"173\",\"284\",\"8\",\"8\",\"3\",\"8\",\"\",\"0\",\"\",\"0\",\"11\",\"11\",\"13\",\"20\",\"23\",\"16\",\"24\",\"11\",\"24\",\"0\",\"0\",\"0\",\"5\",\"100\",\"30.8\",\"0\",\"0\",\"1222051\",\"169286\",\"124600\",\"258401\",\"\",\"\",\"\",\"\",\"\",\"\",\"\",\"\",\"\",\"\",\"\",\"N\",\"\",\"\",\"\",\"\",\"\",\"\",\"\",\"\",\"\",\"\",\"\",\"\",\"\",\"\",\"N\",\"\",\"\",\"\",\"\",\"\",\"\"\n",
            "\"\",\"\",\"5000\",\"5000\",\"5000\",\" 36 months\",\" 22.35%\",\"191.86\",\"D\",\"D5\",\"Director of Sales\",\"10+ years\",\"MORTGAGE\",\"72000\",\"Source Verified\",\"Dec-2018\",\"Fully Paid\",\"n\",\"\",\"\",\"debt_consolidation\",\"Debt consolidation\",\"333xx\",\"FL\",\"20.12\",\"0\",\"Mar-2010\",\"0\",\"\",\"\",\"13\",\"0\",\"11720\",\"47.1%\",\"26\",\"f\",\"0.00\",\"0.00\",\"5615.9776735688\",\"5615.98\",\"5000.00\",\"615.98\",\"0.0\",\"0.0\",\"0.0\",\"Jul-2019\",\"4474.13\",\"\",\"Aug-2019\",\"0\",\"\",\"1\",\"Individual\",\"\",\"\",\"\",\"0\",\"534\",\"189279\",\"0\",\"1\",\"0\",\"1\",\"18\",\"22698\",\"\",\"0\",\"0\",\"4056\",\"47\",\"24900\",\"1\",\"0\",\"1\",\"2\",\"14560\",\"8163\",\"55.1\",\"0\",\"0\",\"105\",\"90\",\"29\",\"8\",\"5\",\"40\",\"\",\"9\",\"\",\"0\",\"6\",\"11\",\"6\",\"8\",\"4\",\"11\",\"17\",\"11\",\"13\",\"0\",\"0\",\"0\",\"1\",\"100\",\"50\",\"0\",\"0\",\"218686\",\"34418\",\"18200\",\"37786\",\"\",\"\",\"\",\"\",\"\",\"\",\"\",\"\",\"\",\"\",\"\",\"N\",\"\",\"\",\"\",\"\",\"\",\"\",\"\",\"\",\"\",\"\",\"\",\"\",\"\",\"\",\"N\",\"\",\"\",\"\",\"\",\"\",\"\"\n",
            "\"\",\"\",\"10000\",\"10000\",\"10000\",\" 60 months\",\" 23.40%\",\"284.21\",\"E\",\"E1\",\"\",\"< 1 year\",\"RENT\",\"55000\",\"Source Verified\",\"Dec-2018\",\"Current\",\"n\",\"\",\"\",\"debt_consolidation\",\"Debt consolidation\",\"902xx\",\"CA\",\"13.51\",\"0\",\"Apr-2007\",\"0\",\"44\",\"88\",\"9\",\"1\",\"11859\",\"53.9%\",\"11\",\"w\",\"8694.39\",\"8694.39\",\"3675.23\",\"3675.23\",\"1305.61\",\"2369.62\",\"0.0\",\"0.0\",\"0.0\",\"Jan-2020\",\"284.21\",\"Feb-2020\",\"Jan-2020\",\"0\",\"\",\"1\",\"Individual\",\"\",\"\",\"\",\"0\",\"0\",\"21235\",\"0\",\"1\",\"0\",\"1\",\"20\",\"9376\",\"76\",\"0\",\"3\",\"3122\",\"62\",\"22000\",\"1\",\"0\",\"0\",\"4\",\"2359\",\"1119\",\"89.3\",\"0\",\"0\",\"140\",\"140\",\"13\",\"13\",\"0\",\"13\",\"\",\"15\",\"44\",\"0\",\"4\",\"7\",\"4\",\"5\",\"2\",\"8\",\"9\",\"7\",\"9\",\"0\",\"0\",\"0\",\"0\",\"90.9\",\"100\",\"1\",\"0\",\"34386\",\"21235\",\"10500\",\"12386\",\"\",\"\",\"\",\"\",\"\",\"\",\"\",\"\",\"\",\"\",\"\",\"N\",\"\",\"\",\"\",\"\",\"\",\"\",\"\",\"\",\"\",\"\",\"\",\"\",\"\",\"\",\"N\",\"\",\"\",\"\",\"\",\"\",\"\"\n",
            "\"\",\"\",\"17100\",\"17100\",\"17100\",\" 36 months\",\" 18.94%\",\"626.3\",\"D\",\"D2\",\"Receptionist \",\"10+ years\",\"RENT\",\"38000\",\"Verified\",\"Dec-2018\",\"Current\",\"n\",\"\",\"\",\"debt_consolidation\",\"Debt consolidation\",\"150xx\",\"PA\",\"38.09\",\"0\",\"Mar-1998\",\"1\",\"47\",\"\",\"14\",\"0\",\"15323\",\"53%\",\"21\",\"w\",\"12001.54\",\"12001.54\",\"8114.91\",\"8114.91\",\"5098.46\",\"3016.45\",\"0.0\",\"0.0\",\"0.0\",\"Jan-2020\",\"626.3\",\"Feb-2020\",\"Jan-2020\",\"0\",\"\",\"1\",\"Individual\",\"\",\"\",\"\",\"0\",\"0\",\"43351\",\"1\",\"2\",\"1\",\"1\",\"10\",\"28028\",\"67\",\"1\",\"5\",\"7533\",\"53\",\"29170\",\"0\",\"0\",\"2\",\"6\",\"3096\",\"4150\",\"77\",\"0\",\"0\",\"125\",\"230\",\"5\",\"5\",\"2\",\"5\",\"\",\"5\",\"\",\"0\",\"4\",\"12\",\"5\",\"5\",\"5\",\"12\",\"14\",\"9\",\"14\",\"\",\"0\",\"0\",\"2\",\"95\",\"75\",\"0\",\"0\",\"70954\",\"43351\",\"16600\",\"41784\",\"\",\"\",\"\",\"\",\"\",\"\",\"\",\"\",\"\",\"\",\"\",\"N\",\"\",\"\",\"\",\"\",\"\",\"\",\"\",\"\",\"\",\"\",\"\",\"\",\"\",\"\",\"N\",\"\",\"\",\"\",\"\",\"\",\"\"\n",
            "\"\",\"\",\"4000\",\"4000\",\"4000\",\" 36 months\",\" 10.72%\",\"130.43\",\"B\",\"B2\",\"Extrusion assistant \",\"10+ years\",\"MORTGAGE\",\"56000\",\"Verified\",\"Dec-2018\",\"Current\",\"n\",\"\",\"\",\"credit_card\",\"Credit card refinancing\",\"301xx\",\"GA\",\"31.03\",\"0\",\"Sep-2006\",\"0\",\"\",\"\",\"7\",\"0\",\"4518\",\"28.6%\",\"11\",\"w\",\"2700.74\",\"2700.74\",\"1682.5\",\"1682.50\",\"1299.26\",\"383.24\",\"0.0\",\"0.0\",\"0.0\",\"Jan-2020\",\"130.43\",\"Feb-2020\",\"Jan-2020\",\"1\",\"\",\"1\",\"Individual\",\"\",\"\",\"\",\"0\",\"136\",\"192983\",\"0\",\"2\",\"0\",\"2\",\"14\",\"66857\",\"\",\"0\",\"3\",\"1608\",\"29\",\"15800\",\"3\",\"0\",\"0\",\"5\",\"27569\",\"7835\",\"36.3\",\"0\",\"0\",\"147\",\"29\",\"22\",\"14\",\"1\",\"22\",\"\",\"17\",\"\",\"0\",\"3\",\"4\",\"3\",\"3\",\"6\",\"4\",\"4\",\"4\",\"7\",\"0\",\"0\",\"0\",\"0\",\"100\",\"0\",\"0\",\"0\",\"221310\",\"71375\",\"12300\",\"77865\",\"\",\"\",\"\",\"\",\"\",\"\",\"\",\"\",\"\",\"\",\"\",\"N\",\"\",\"\",\"\",\"\",\"\",\"\",\"\",\"\",\"\",\"\",\"\",\"\",\"\",\"\",\"N\",\"\",\"\",\"\",\"\",\"\",\"\"\n",
            "\"\",\"\",\"10475\",\"10475\",\"10475\",\" 36 months\",\" 11.31%\",\"344.48\",\"B\",\"B3\",\"Teacher\",\"6 years\",\"RENT\",\"66150\",\"Source Verified\",\"Dec-2018\",\"Current\",\"n\",\"\",\"\",\"debt_consolidation\",\"Debt consolidation\",\"786xx\",\"TX\",\"7.4\",\"0\",\"Jun-1991\",\"0\",\"28\",\"\",\"10\",\"0\",\"10499\",\"40.2%\",\"17\",\"w\",\"7093.15\",\"7093.15\",\"4468.37\",\"4468.37\",\"3381.85\",\"1086.52\",\"0.0\",\"0.0\",\"0.0\",\"Jan-2020\",\"344.48\",\"Feb-2020\",\"Jan-2020\",\"0\",\"\",\"1\",\"Individual\",\"\",\"\",\"\",\"0\",\"0\",\"10499\",\"1\",\"0\",\"0\",\"0\",\"84\",\"0\",\"\",\"3\",\"5\",\"3841\",\"40\",\"26100\",\"2\",\"1\",\"5\",\"5\",\"1312\",\"14847\",\"36.8\",\"0\",\"0\",\"88\",\"330\",\"3\",\"3\",\"2\",\"7\",\"\",\"1\",\"28\",\"0\",\"5\",\"8\",\"7\",\"8\",\"2\",\"10\",\"13\",\"8\",\"10\",\"0\",\"0\",\"0\",\"3\",\"88.2\",\"60\",\"0\",\"0\",\"26100\",\"10499\",\"23500\",\"0\",\"\",\"\",\"\",\"\",\"\",\"\",\"\",\"\",\"\",\"\",\"\",\"N\",\"\",\"\",\"\",\"\",\"\",\"\",\"\",\"\",\"\",\"\",\"\",\"\",\"\",\"\",\"N\",\"\",\"\",\"\",\"\",\"\",\"\"\n",
            "\"\",\"\",\"7500\",\"7500\",\"7500\",\" 36 months\",\" 11.31%\",\"246.65\",\"B\",\"B3\",\"Supervisor\",\"7 years\",\"MORTGAGE\",\"40500\",\"Verified\",\"Dec-2018\",\"Late (31-120 days)\",\"n\",\"\",\"\",\"debt_consolidation\",\"Debt consolidation\",\"604xx\",\"IL\",\"31.61\",\"0\",\"Sep-1996\",\"1\",\"\",\"\",\"23\",\"0\",\"14218\",\"16.3%\",\"33\",\"w\",\"5653.88\",\"5653.88\",\"2491.74\",\"2491.74\",\"1846.12\",\"630.62\",\"15.0\",\"0.0\",\"0.0\",\"Nov-2019\",\"508.3\",\"Feb-2020\",\"Jan-2020\",\"0\",\"\",\"1\",\"Individual\",\"\",\"\",\"\",\"0\",\"0\",\"123779\",\"3\",\"2\",\"1\",\"1\",\"12\",\"8096\",\"29\",\"3\",\"6\",\"2972\",\"19\",\"87000\",\"0\",\"0\",\"2\",\"7\",\"5626\",\"21078\",\"23.9\",\"0\",\"0\",\"59\",\"267\",\"1\",\"1\",\"1\",\"6\",\"\",\"6\",\"\",\"0\",\"4\",\"6\",\"7\",\"10\",\"2\",\"20\",\"30\",\"6\",\"23\",\"0\",\"0\",\"0\",\"4\",\"100\",\"0\",\"0\",\"0\",\"221569\",\"22314\",\"27700\",\"28409\",\"\",\"\",\"\",\"\",\"\",\"\",\"\",\"\",\"\",\"\",\"\",\"N\",\"\",\"\",\"\",\"\",\"\",\"\",\"\",\"\",\"\",\"\",\"\",\"\",\"\",\"\",\"N\",\"\",\"\",\"\",\"\",\"\",\"\"\n",
            "\"\",\"\",\"3600\",\"3600\",\"3600\",\" 36 months\",\" 11.80%\",\"119.23\",\"B\",\"B4\",\"Analyst\",\"5 years\",\"MORTGAGE\",\"50000\",\"Source Verified\",\"Dec-2018\",\"Late (16-30 days)\",\"n\",\"\",\"\",\"other\",\"Other\",\"427xx\",\"KY\",\"16.11\",\"0\",\"Jan-2002\",\"2\",\"\",\"\",\"10\",\"0\",\"5865\",\"17.4%\",\"17\",\"w\",\"2634.82\",\"2634.82\",\"1325.69\",\"1325.69\",\"965.18\",\"360.51\",\"0.0\",\"0.0\",\"0.0\",\"Dec-2019\",\"119.23\",\"Feb-2020\",\"Jan-2020\",\"0\",\"\",\"1\",\"Individual\",\"\",\"\",\"\",\"0\",\"0\",\"243415\",\"3\",\"3\",\"1\",\"2\",\"3\",\"68184\",\"95\",\"1\",\"3\",\"0\",\"53\",\"33700\",\"2\",\"1\",\"10\",\"6\",\"24342\",\"17300\",\"0\",\"0\",\"0\",\"203\",\"198\",\"4\",\"3\",\"1\",\"18\",\"\",\"3\",\"\",\"1\",\"0\",\"1\",\"4\",\"6\",\"6\",\"6\",\"10\",\"1\",\"10\",\"0\",\"0\",\"0\",\"3\",\"93.8\",\"0\",\"0\",\"0\",\"272629\",\"74049\",\"17300\",\"68929\",\"\",\"\",\"\",\"\",\"\",\"\",\"\",\"\",\"\",\"\",\"\",\"N\",\"\",\"\",\"\",\"\",\"\",\"\",\"\",\"\",\"\",\"\",\"\",\"\",\"\",\"\",\"N\",\"\",\"\",\"\",\"\",\"\",\"\"\n"
          ],
          "name": "stdout"
        }
      ]
    },
    {
      "cell_type": "code",
      "metadata": {
        "id": "t-uPShUxqa9O",
        "colab_type": "code",
        "colab": {
          "base_uri": "https://localhost:8080/",
          "height": 207
        },
        "outputId": "43308b58-735f-46d6-e652-24ede54c1e15"
      },
      "source": [
        "!tail LoanStats_2018Q4.csv"
      ],
      "execution_count": 65,
      "outputs": [
        {
          "output_type": "stream",
          "text": [
            "\"\",\"\",\"5600\",\"5600\",\"5600\",\" 36 months\",\" 13.56%\",\"190.21\",\"C\",\"C1\",\"\",\"n/a\",\"RENT\",\"15600\",\"Not Verified\",\"Oct-2018\",\"Current\",\"n\",\"\",\"\",\"credit_card\",\"Credit card refinancing\",\"836xx\",\"ID\",\"15.31\",\"0\",\"Aug-2012\",\"0\",\"\",\"97\",\"9\",\"1\",\"5996\",\"34.5%\",\"11\",\"w\",\"3537.82\",\"3537.82\",\"2842.6\",\"2842.60\",\"2062.18\",\"780.42\",\"0.0\",\"0.0\",\"0.0\",\"Jan-2020\",\"190.21\",\"Feb-2020\",\"Jan-2020\",\"0\",\"\",\"1\",\"Individual\",\"\",\"\",\"\",\"0\",\"0\",\"5996\",\"0\",\"0\",\"0\",\"1\",\"20\",\"0\",\"\",\"0\",\"2\",\"3017\",\"35\",\"17400\",\"1\",\"0\",\"0\",\"3\",\"750\",\"4689\",\"45.5\",\"0\",\"0\",\"20\",\"73\",\"13\",\"13\",\"0\",\"13\",\"\",\"20\",\"\",\"0\",\"3\",\"5\",\"4\",\"4\",\"1\",\"9\",\"10\",\"5\",\"9\",\"0\",\"0\",\"0\",\"0\",\"100\",\"25\",\"1\",\"0\",\"17400\",\"5996\",\"8600\",\"0\",\"\",\"\",\"\",\"\",\"\",\"\",\"\",\"\",\"\",\"\",\"\",\"N\",\"\",\"\",\"\",\"\",\"\",\"\",\"\",\"\",\"\",\"\",\"\",\"\",\"\",\"\",\"N\",\"\",\"\",\"\",\"\",\"\",\"\"\n",
            "\"\",\"\",\"23000\",\"23000\",\"23000\",\" 36 months\",\" 15.02%\",\"797.53\",\"C\",\"C3\",\"Tax Consultant\",\"10+ years\",\"MORTGAGE\",\"75000\",\"Source Verified\",\"Oct-2018\",\"Charged Off\",\"n\",\"\",\"\",\"debt_consolidation\",\"Debt consolidation\",\"352xx\",\"AL\",\"20.95\",\"1\",\"Aug-1985\",\"2\",\"22\",\"\",\"12\",\"0\",\"22465\",\"43.6%\",\"28\",\"w\",\"0.00\",\"0.00\",\"1547.08\",\"1547.08\",\"1025.67\",\"521.41\",\"0.0\",\"0.0\",\"0.0\",\"Dec-2018\",\"797.53\",\"\",\"Nov-2018\",\"0\",\"\",\"1\",\"Individual\",\"\",\"\",\"\",\"0\",\"0\",\"259658\",\"4\",\"2\",\"3\",\"3\",\"6\",\"18149\",\"86\",\"4\",\"6\",\"12843\",\"56\",\"51500\",\"2\",\"2\",\"5\",\"11\",\"21638\",\"26321\",\"44.1\",\"0\",\"0\",\"12\",\"397\",\"4\",\"4\",\"6\",\"5\",\"22\",\"4\",\"22\",\"0\",\"4\",\"5\",\"7\",\"14\",\"3\",\"9\",\"19\",\"5\",\"12\",\"0\",\"0\",\"0\",\"7\",\"96.4\",\"14.3\",\"0\",\"0\",\"296500\",\"40614\",\"47100\",\"21000\",\"\",\"\",\"\",\"\",\"\",\"\",\"\",\"\",\"\",\"\",\"\",\"N\",\"\",\"\",\"\",\"\",\"\",\"\",\"\",\"\",\"\",\"\",\"\",\"\",\"\",\"\",\"N\",\"\",\"\",\"\",\"\",\"\",\"\"\n",
            "\"\",\"\",\"10000\",\"10000\",\"10000\",\" 36 months\",\" 15.02%\",\"346.76\",\"C\",\"C3\",\"security guard\",\"5 years\",\"MORTGAGE\",\"38000\",\"Not Verified\",\"Oct-2018\",\"Current\",\"n\",\"\",\"\",\"debt_consolidation\",\"Debt consolidation\",\"443xx\",\"OH\",\"13.16\",\"3\",\"Jul-1982\",\"0\",\"6\",\"\",\"11\",\"0\",\"5634\",\"37.1%\",\"16\",\"w\",\"6368.47\",\"6368.47\",\"5193.06\",\"5193.06\",\"3631.53\",\"1561.53\",\"0.0\",\"0.0\",\"0.0\",\"Jan-2020\",\"346.76\",\"Feb-2020\",\"Jan-2020\",\"0\",\"\",\"1\",\"Individual\",\"\",\"\",\"\",\"0\",\"155\",\"77424\",\"0\",\"1\",\"0\",\"0\",\"34\",\"200\",\"10\",\"1\",\"1\",\"1866\",\"42\",\"15200\",\"2\",\"0\",\"0\",\"2\",\"7039\",\"4537\",\"50.1\",\"0\",\"0\",\"34\",\"434\",\"11\",\"11\",\"3\",\"11\",\"6\",\"17\",\"6\",\"0\",\"3\",\"5\",\"5\",\"6\",\"1\",\"8\",\"11\",\"5\",\"11\",\"0\",\"0\",\"0\",\"1\",\"73.3\",\"40\",\"0\",\"0\",\"91403\",\"9323\",\"9100\",\"2000\",\"\",\"\",\"\",\"\",\"\",\"\",\"\",\"\",\"\",\"\",\"\",\"N\",\"\",\"\",\"\",\"\",\"\",\"\",\"\",\"\",\"\",\"\",\"\",\"\",\"\",\"\",\"N\",\"\",\"\",\"\",\"\",\"\",\"\"\n",
            "\"\",\"\",\"5000\",\"5000\",\"5000\",\" 36 months\",\" 13.56%\",\"169.83\",\"C\",\"C1\",\"Payoff Clerk\",\"10+ years\",\"MORTGAGE\",\"35360\",\"Not Verified\",\"Oct-2018\",\"Current\",\"n\",\"\",\"\",\"debt_consolidation\",\"Debt consolidation\",\"381xx\",\"TN\",\"11.3\",\"1\",\"Jun-2006\",\"0\",\"21\",\"\",\"9\",\"0\",\"2597\",\"27.3%\",\"15\",\"f\",\"3158.77\",\"3158.77\",\"2543.68\",\"2543.68\",\"1841.23\",\"702.45\",\"0.0\",\"0.0\",\"0.0\",\"Jan-2020\",\"169.83\",\"Feb-2020\",\"Jan-2020\",\"0\",\"\",\"1\",\"Individual\",\"\",\"\",\"\",\"0\",\"1413\",\"69785\",\"0\",\"2\",\"0\",\"1\",\"16\",\"2379\",\"40\",\"3\",\"4\",\"1826\",\"32\",\"9500\",\"0\",\"0\",\"1\",\"5\",\"8723\",\"1174\",\"60.9\",\"0\",\"0\",\"147\",\"85\",\"9\",\"9\",\"2\",\"10\",\"21\",\"9\",\"21\",\"0\",\"1\",\"3\",\"2\",\"2\",\"6\",\"6\",\"7\",\"3\",\"9\",\"0\",\"0\",\"0\",\"3\",\"92.9\",\"50\",\"0\",\"0\",\"93908\",\"4976\",\"3000\",\"6028\",\"\",\"\",\"\",\"\",\"\",\"\",\"\",\"\",\"\",\"\",\"\",\"N\",\"\",\"\",\"\",\"\",\"\",\"\",\"\",\"\",\"\",\"\",\"\",\"\",\"\",\"\",\"N\",\"\",\"\",\"\",\"\",\"\",\"\"\n",
            "\"\",\"\",\"10000\",\"10000\",\"9750\",\" 36 months\",\" 11.06%\",\"327.68\",\"B\",\"B3\",\"\",\"n/a\",\"RENT\",\"44400\",\"Source Verified\",\"Oct-2018\",\"Current\",\"n\",\"\",\"\",\"credit_card\",\"Credit card refinancing\",\"980xx\",\"WA\",\"11.78\",\"0\",\"Oct-2008\",\"2\",\"40\",\"\",\"15\",\"0\",\"6269\",\"13.1%\",\"25\",\"f\",\"6230.02\",\"6074.27\",\"4899.84\",\"4777.34\",\"3769.98\",\"1129.86\",\"0.0\",\"0.0\",\"0.0\",\"Jan-2020\",\"327.68\",\"Feb-2020\",\"Jan-2020\",\"0\",\"53\",\"1\",\"Individual\",\"\",\"\",\"\",\"0\",\"520\",\"16440\",\"3\",\"1\",\"1\",\"1\",\"2\",\"10171\",\"100\",\"2\",\"5\",\"404\",\"28\",\"47700\",\"0\",\"3\",\"5\",\"6\",\"1265\",\"20037\",\"2.3\",\"0\",\"0\",\"61\",\"119\",\"1\",\"1\",\"0\",\"1\",\"\",\"1\",\"40\",\"1\",\"2\",\"4\",\"6\",\"8\",\"3\",\"14\",\"22\",\"4\",\"15\",\"0\",\"0\",\"0\",\"3\",\"92\",\"0\",\"0\",\"0\",\"57871\",\"16440\",\"20500\",\"10171\",\"\",\"\",\"\",\"\",\"\",\"\",\"\",\"\",\"\",\"\",\"\",\"N\",\"\",\"\",\"\",\"\",\"\",\"\",\"\",\"\",\"\",\"\",\"\",\"\",\"\",\"\",\"N\",\"\",\"\",\"\",\"\",\"\",\"\"\n",
            "\"\",\"\",\"10000\",\"10000\",\"10000\",\" 36 months\",\" 16.91%\",\"356.08\",\"C\",\"C5\",\"Key Accounts Manager\",\"2 years\",\"RENT\",\"80000\",\"Not Verified\",\"Oct-2018\",\"Current\",\"n\",\"\",\"\",\"other\",\"Other\",\"021xx\",\"MA\",\"17.72\",\"1\",\"Sep-2006\",\"0\",\"14\",\"\",\"17\",\"0\",\"1942\",\"30.8%\",\"31\",\"w\",\"6433.90\",\"6433.90\",\"5331.81\",\"5331.81\",\"3566.10\",\"1765.71\",\"0.0\",\"0.0\",\"0.0\",\"Jan-2020\",\"356.08\",\"Feb-2020\",\"Jan-2020\",\"0\",\"25\",\"1\",\"Individual\",\"\",\"\",\"\",\"0\",\"0\",\"59194\",\"0\",\"15\",\"1\",\"1\",\"12\",\"57252\",\"85\",\"0\",\"0\",\"1942\",\"80\",\"6300\",\"0\",\"5\",\"0\",\"1\",\"3482\",\"2058\",\"48.5\",\"0\",\"0\",\"144\",\"142\",\"40\",\"12\",\"0\",\"131\",\"30\",\"\",\"30\",\"3\",\"1\",\"1\",\"1\",\"5\",\"22\",\"2\",\"9\",\"1\",\"17\",\"0\",\"0\",\"0\",\"1\",\"74.2\",\"0\",\"0\",\"0\",\"73669\",\"59194\",\"4000\",\"67369\",\"\",\"\",\"\",\"\",\"\",\"\",\"\",\"\",\"\",\"\",\"\",\"N\",\"\",\"\",\"\",\"\",\"\",\"\",\"\",\"\",\"\",\"\",\"\",\"\",\"\",\"\",\"N\",\"\",\"\",\"\",\"\",\"\",\"\"\n",
            "\n",
            "\n",
            "Total amount funded in policy code 1: 2050909275\n",
            "Total amount funded in policy code 2: 820109297\n"
          ],
          "name": "stdout"
        }
      ]
    },
    {
      "cell_type": "markdown",
      "metadata": {
        "id": "C_bEBsHTqduT",
        "colab_type": "text"
      },
      "source": [
        "As we look at the raw file itself, do you see anything that might cause us trouble as we read in the CSV file to a dataframe?"
      ]
    },
    {
      "cell_type": "code",
      "metadata": {
        "id": "ikpjHKeiqlWp",
        "colab_type": "code",
        "colab": {
          "base_uri": "https://localhost:8080/",
          "height": 343
        },
        "outputId": "46b4131d-abc9-4222-dc43-cecaa6464a32"
      },
      "source": [
        "# Read in the C\n",
        "# Read in the CSV\n",
        "df = pd.read_csv('LoanStats_2018Q4.csv')\n",
        "df.head()"
      ],
      "execution_count": 66,
      "outputs": [
        {
          "output_type": "stream",
          "text": [
            "/usr/local/lib/python3.6/dist-packages/IPython/core/interactiveshell.py:2718: DtypeWarning: Columns (0,1,2,3,4,7,13,18,19,24,25,27,28,29,30,31,32,34,36,37,38,39,40,41,42,43,44,46,49,50,51,53,54,56,57,58,59,60,61,62,63,64,65,66,67,68,69,70,71,72,73,74,75,76,77,78,79,80,81,82,83,84,85,86,87,88,89,90,91,92,93,94,95,96,97,98,99,100,101,102,103,104,105,106,107,108,109,110,111,113,114,115,116,117,118,119,120,121,126,127,131,132,134,135,136,141,142,143) have mixed types. Specify dtype option on import or set low_memory=False.\n",
            "  interactivity=interactivity, compiler=compiler, result=result)\n"
          ],
          "name": "stderr"
        },
        {
          "output_type": "execute_result",
          "data": {
            "text/html": [
              "<div>\n",
              "<style scoped>\n",
              "    .dataframe tbody tr th:only-of-type {\n",
              "        vertical-align: middle;\n",
              "    }\n",
              "\n",
              "    .dataframe tbody tr th {\n",
              "        vertical-align: top;\n",
              "    }\n",
              "\n",
              "    .dataframe thead th {\n",
              "        text-align: right;\n",
              "    }\n",
              "</style>\n",
              "<table border=\"1\" class=\"dataframe\">\n",
              "  <thead>\n",
              "    <tr style=\"text-align: right;\">\n",
              "      <th></th>\n",
              "      <th></th>\n",
              "      <th></th>\n",
              "      <th></th>\n",
              "      <th></th>\n",
              "      <th></th>\n",
              "      <th></th>\n",
              "      <th></th>\n",
              "      <th></th>\n",
              "      <th></th>\n",
              "      <th></th>\n",
              "      <th></th>\n",
              "      <th></th>\n",
              "      <th></th>\n",
              "      <th></th>\n",
              "      <th></th>\n",
              "      <th></th>\n",
              "      <th></th>\n",
              "      <th></th>\n",
              "      <th></th>\n",
              "      <th></th>\n",
              "      <th></th>\n",
              "      <th></th>\n",
              "      <th></th>\n",
              "      <th></th>\n",
              "      <th></th>\n",
              "      <th></th>\n",
              "      <th></th>\n",
              "      <th></th>\n",
              "      <th></th>\n",
              "      <th></th>\n",
              "      <th></th>\n",
              "      <th></th>\n",
              "      <th></th>\n",
              "      <th></th>\n",
              "      <th></th>\n",
              "      <th></th>\n",
              "      <th></th>\n",
              "      <th></th>\n",
              "      <th></th>\n",
              "      <th></th>\n",
              "      <th></th>\n",
              "      <th></th>\n",
              "      <th></th>\n",
              "      <th></th>\n",
              "      <th></th>\n",
              "      <th></th>\n",
              "      <th></th>\n",
              "      <th></th>\n",
              "      <th></th>\n",
              "      <th></th>\n",
              "      <th></th>\n",
              "      <th></th>\n",
              "      <th></th>\n",
              "      <th></th>\n",
              "      <th></th>\n",
              "      <th></th>\n",
              "      <th></th>\n",
              "      <th></th>\n",
              "      <th></th>\n",
              "      <th></th>\n",
              "      <th></th>\n",
              "      <th></th>\n",
              "      <th></th>\n",
              "      <th></th>\n",
              "      <th></th>\n",
              "      <th></th>\n",
              "      <th></th>\n",
              "      <th></th>\n",
              "      <th></th>\n",
              "      <th></th>\n",
              "      <th></th>\n",
              "      <th></th>\n",
              "      <th></th>\n",
              "      <th></th>\n",
              "      <th></th>\n",
              "      <th></th>\n",
              "      <th></th>\n",
              "      <th></th>\n",
              "      <th></th>\n",
              "      <th></th>\n",
              "      <th></th>\n",
              "      <th></th>\n",
              "      <th></th>\n",
              "      <th></th>\n",
              "      <th></th>\n",
              "      <th></th>\n",
              "      <th></th>\n",
              "      <th></th>\n",
              "      <th></th>\n",
              "      <th></th>\n",
              "      <th></th>\n",
              "      <th></th>\n",
              "      <th></th>\n",
              "      <th></th>\n",
              "      <th></th>\n",
              "      <th></th>\n",
              "      <th></th>\n",
              "      <th></th>\n",
              "      <th></th>\n",
              "      <th></th>\n",
              "      <th></th>\n",
              "      <th></th>\n",
              "      <th></th>\n",
              "      <th></th>\n",
              "      <th></th>\n",
              "      <th></th>\n",
              "      <th></th>\n",
              "      <th></th>\n",
              "      <th></th>\n",
              "      <th></th>\n",
              "      <th></th>\n",
              "      <th></th>\n",
              "      <th></th>\n",
              "      <th></th>\n",
              "      <th></th>\n",
              "      <th></th>\n",
              "      <th></th>\n",
              "      <th></th>\n",
              "      <th></th>\n",
              "      <th></th>\n",
              "      <th></th>\n",
              "      <th></th>\n",
              "      <th></th>\n",
              "      <th></th>\n",
              "      <th></th>\n",
              "      <th></th>\n",
              "      <th></th>\n",
              "      <th></th>\n",
              "      <th></th>\n",
              "      <th></th>\n",
              "      <th></th>\n",
              "      <th></th>\n",
              "      <th></th>\n",
              "      <th></th>\n",
              "      <th></th>\n",
              "      <th></th>\n",
              "      <th></th>\n",
              "      <th></th>\n",
              "      <th></th>\n",
              "      <th></th>\n",
              "      <th></th>\n",
              "      <th></th>\n",
              "      <th>Notes offered by Prospectus (https://www.lendingclub.com/info/prospectus.action)</th>\n",
              "    </tr>\n",
              "  </thead>\n",
              "  <tbody>\n",
              "    <tr>\n",
              "      <th>id</th>\n",
              "      <th>member_id</th>\n",
              "      <th>loan_amnt</th>\n",
              "      <th>funded_amnt</th>\n",
              "      <th>funded_amnt_inv</th>\n",
              "      <th>term</th>\n",
              "      <th>int_rate</th>\n",
              "      <th>installment</th>\n",
              "      <th>grade</th>\n",
              "      <th>sub_grade</th>\n",
              "      <th>emp_title</th>\n",
              "      <th>emp_length</th>\n",
              "      <th>home_ownership</th>\n",
              "      <th>annual_inc</th>\n",
              "      <th>verification_status</th>\n",
              "      <th>issue_d</th>\n",
              "      <th>loan_status</th>\n",
              "      <th>pymnt_plan</th>\n",
              "      <th>url</th>\n",
              "      <th>desc</th>\n",
              "      <th>purpose</th>\n",
              "      <th>title</th>\n",
              "      <th>zip_code</th>\n",
              "      <th>addr_state</th>\n",
              "      <th>dti</th>\n",
              "      <th>delinq_2yrs</th>\n",
              "      <th>earliest_cr_line</th>\n",
              "      <th>inq_last_6mths</th>\n",
              "      <th>mths_since_last_delinq</th>\n",
              "      <th>mths_since_last_record</th>\n",
              "      <th>open_acc</th>\n",
              "      <th>pub_rec</th>\n",
              "      <th>revol_bal</th>\n",
              "      <th>revol_util</th>\n",
              "      <th>total_acc</th>\n",
              "      <th>initial_list_status</th>\n",
              "      <th>out_prncp</th>\n",
              "      <th>out_prncp_inv</th>\n",
              "      <th>total_pymnt</th>\n",
              "      <th>total_pymnt_inv</th>\n",
              "      <th>total_rec_prncp</th>\n",
              "      <th>total_rec_int</th>\n",
              "      <th>total_rec_late_fee</th>\n",
              "      <th>recoveries</th>\n",
              "      <th>collection_recovery_fee</th>\n",
              "      <th>last_pymnt_d</th>\n",
              "      <th>last_pymnt_amnt</th>\n",
              "      <th>next_pymnt_d</th>\n",
              "      <th>last_credit_pull_d</th>\n",
              "      <th>collections_12_mths_ex_med</th>\n",
              "      <th>mths_since_last_major_derog</th>\n",
              "      <th>policy_code</th>\n",
              "      <th>application_type</th>\n",
              "      <th>annual_inc_joint</th>\n",
              "      <th>dti_joint</th>\n",
              "      <th>verification_status_joint</th>\n",
              "      <th>acc_now_delinq</th>\n",
              "      <th>tot_coll_amt</th>\n",
              "      <th>tot_cur_bal</th>\n",
              "      <th>open_acc_6m</th>\n",
              "      <th>open_act_il</th>\n",
              "      <th>open_il_12m</th>\n",
              "      <th>open_il_24m</th>\n",
              "      <th>mths_since_rcnt_il</th>\n",
              "      <th>total_bal_il</th>\n",
              "      <th>il_util</th>\n",
              "      <th>open_rv_12m</th>\n",
              "      <th>open_rv_24m</th>\n",
              "      <th>max_bal_bc</th>\n",
              "      <th>all_util</th>\n",
              "      <th>total_rev_hi_lim</th>\n",
              "      <th>inq_fi</th>\n",
              "      <th>total_cu_tl</th>\n",
              "      <th>inq_last_12m</th>\n",
              "      <th>acc_open_past_24mths</th>\n",
              "      <th>avg_cur_bal</th>\n",
              "      <th>bc_open_to_buy</th>\n",
              "      <th>bc_util</th>\n",
              "      <th>chargeoff_within_12_mths</th>\n",
              "      <th>delinq_amnt</th>\n",
              "      <th>mo_sin_old_il_acct</th>\n",
              "      <th>mo_sin_old_rev_tl_op</th>\n",
              "      <th>mo_sin_rcnt_rev_tl_op</th>\n",
              "      <th>mo_sin_rcnt_tl</th>\n",
              "      <th>mort_acc</th>\n",
              "      <th>mths_since_recent_bc</th>\n",
              "      <th>mths_since_recent_bc_dlq</th>\n",
              "      <th>mths_since_recent_inq</th>\n",
              "      <th>mths_since_recent_revol_delinq</th>\n",
              "      <th>num_accts_ever_120_pd</th>\n",
              "      <th>num_actv_bc_tl</th>\n",
              "      <th>num_actv_rev_tl</th>\n",
              "      <th>num_bc_sats</th>\n",
              "      <th>num_bc_tl</th>\n",
              "      <th>num_il_tl</th>\n",
              "      <th>num_op_rev_tl</th>\n",
              "      <th>num_rev_accts</th>\n",
              "      <th>num_rev_tl_bal_gt_0</th>\n",
              "      <th>num_sats</th>\n",
              "      <th>num_tl_120dpd_2m</th>\n",
              "      <th>num_tl_30dpd</th>\n",
              "      <th>num_tl_90g_dpd_24m</th>\n",
              "      <th>num_tl_op_past_12m</th>\n",
              "      <th>pct_tl_nvr_dlq</th>\n",
              "      <th>percent_bc_gt_75</th>\n",
              "      <th>pub_rec_bankruptcies</th>\n",
              "      <th>tax_liens</th>\n",
              "      <th>tot_hi_cred_lim</th>\n",
              "      <th>total_bal_ex_mort</th>\n",
              "      <th>total_bc_limit</th>\n",
              "      <th>total_il_high_credit_limit</th>\n",
              "      <th>revol_bal_joint</th>\n",
              "      <th>sec_app_earliest_cr_line</th>\n",
              "      <th>sec_app_inq_last_6mths</th>\n",
              "      <th>sec_app_mort_acc</th>\n",
              "      <th>sec_app_open_acc</th>\n",
              "      <th>sec_app_revol_util</th>\n",
              "      <th>sec_app_open_act_il</th>\n",
              "      <th>sec_app_num_rev_accts</th>\n",
              "      <th>sec_app_chargeoff_within_12_mths</th>\n",
              "      <th>sec_app_collections_12_mths_ex_med</th>\n",
              "      <th>sec_app_mths_since_last_major_derog</th>\n",
              "      <th>hardship_flag</th>\n",
              "      <th>hardship_type</th>\n",
              "      <th>hardship_reason</th>\n",
              "      <th>hardship_status</th>\n",
              "      <th>deferral_term</th>\n",
              "      <th>hardship_amount</th>\n",
              "      <th>hardship_start_date</th>\n",
              "      <th>hardship_end_date</th>\n",
              "      <th>payment_plan_start_date</th>\n",
              "      <th>hardship_length</th>\n",
              "      <th>hardship_dpd</th>\n",
              "      <th>hardship_loan_status</th>\n",
              "      <th>orig_projected_additional_accrued_interest</th>\n",
              "      <th>hardship_payoff_balance_amount</th>\n",
              "      <th>hardship_last_payment_amount</th>\n",
              "      <th>debt_settlement_flag</th>\n",
              "      <th>debt_settlement_flag_date</th>\n",
              "      <th>settlement_status</th>\n",
              "      <th>settlement_date</th>\n",
              "      <th>settlement_amount</th>\n",
              "      <th>settlement_percentage</th>\n",
              "      <td>settlement_term</td>\n",
              "    </tr>\n",
              "    <tr>\n",
              "      <th rowspan=\"4\" valign=\"top\">NaN</th>\n",
              "      <th rowspan=\"4\" valign=\"top\">NaN</th>\n",
              "      <th>35000</th>\n",
              "      <th>35000</th>\n",
              "      <th>35000</th>\n",
              "      <th>36 months</th>\n",
              "      <th>14.47%</th>\n",
              "      <th>1204.23</th>\n",
              "      <th>C</th>\n",
              "      <th>C2</th>\n",
              "      <th>Staff Physician</th>\n",
              "      <th>8 years</th>\n",
              "      <th>MORTGAGE</th>\n",
              "      <th>360000</th>\n",
              "      <th>Verified</th>\n",
              "      <th>Dec-2018</th>\n",
              "      <th>Fully Paid</th>\n",
              "      <th>n</th>\n",
              "      <th>NaN</th>\n",
              "      <th>NaN</th>\n",
              "      <th>credit_card</th>\n",
              "      <th>Credit card refinancing</th>\n",
              "      <th>336xx</th>\n",
              "      <th>FL</th>\n",
              "      <th>19.9</th>\n",
              "      <th>0</th>\n",
              "      <th>Apr-1995</th>\n",
              "      <th>1</th>\n",
              "      <th>NaN</th>\n",
              "      <th>NaN</th>\n",
              "      <th>24</th>\n",
              "      <th>0</th>\n",
              "      <th>57259</th>\n",
              "      <th>43.2%</th>\n",
              "      <th>51</th>\n",
              "      <th>w</th>\n",
              "      <th>0.00</th>\n",
              "      <th>0.00</th>\n",
              "      <th>38187.0468373662</th>\n",
              "      <th>38187.05</th>\n",
              "      <th>35000.00</th>\n",
              "      <th>3187.05</th>\n",
              "      <th>0.0</th>\n",
              "      <th>0.0</th>\n",
              "      <th>0.0</th>\n",
              "      <th>Aug-2019</th>\n",
              "      <th>29882.16</th>\n",
              "      <th>NaN</th>\n",
              "      <th>Sep-2019</th>\n",
              "      <th>0</th>\n",
              "      <th>NaN</th>\n",
              "      <th>1</th>\n",
              "      <th>Individual</th>\n",
              "      <th>NaN</th>\n",
              "      <th>NaN</th>\n",
              "      <th>NaN</th>\n",
              "      <th>0</th>\n",
              "      <th>0</th>\n",
              "      <th>828060</th>\n",
              "      <th>0</th>\n",
              "      <th>6</th>\n",
              "      <th>1</th>\n",
              "      <th>2</th>\n",
              "      <th>9</th>\n",
              "      <th>112027</th>\n",
              "      <th>29</th>\n",
              "      <th>4</th>\n",
              "      <th>8</th>\n",
              "      <th>19118</th>\n",
              "      <th>36</th>\n",
              "      <th>132400</th>\n",
              "      <th>3</th>\n",
              "      <th>2</th>\n",
              "      <th>5</th>\n",
              "      <th>11</th>\n",
              "      <th>34503</th>\n",
              "      <th>67341</th>\n",
              "      <th>46</th>\n",
              "      <th>0</th>\n",
              "      <th>0</th>\n",
              "      <th>173</th>\n",
              "      <th>284</th>\n",
              "      <th>8</th>\n",
              "      <th>8</th>\n",
              "      <th>3</th>\n",
              "      <th>8</th>\n",
              "      <th>NaN</th>\n",
              "      <th>0</th>\n",
              "      <th>NaN</th>\n",
              "      <th>0</th>\n",
              "      <th>11</th>\n",
              "      <th>11</th>\n",
              "      <th>13</th>\n",
              "      <th>20</th>\n",
              "      <th>23</th>\n",
              "      <th>16</th>\n",
              "      <th>24</th>\n",
              "      <th>11</th>\n",
              "      <th>24</th>\n",
              "      <th>0</th>\n",
              "      <th>0</th>\n",
              "      <th>0</th>\n",
              "      <th>5</th>\n",
              "      <th>100</th>\n",
              "      <th>30.8</th>\n",
              "      <th>0</th>\n",
              "      <th>0</th>\n",
              "      <th>1222051</th>\n",
              "      <th>169286</th>\n",
              "      <th>124600</th>\n",
              "      <th>258401</th>\n",
              "      <th>NaN</th>\n",
              "      <th>NaN</th>\n",
              "      <th>NaN</th>\n",
              "      <th>NaN</th>\n",
              "      <th>NaN</th>\n",
              "      <th>NaN</th>\n",
              "      <th>NaN</th>\n",
              "      <th>NaN</th>\n",
              "      <th>NaN</th>\n",
              "      <th>NaN</th>\n",
              "      <th>NaN</th>\n",
              "      <th>N</th>\n",
              "      <th>NaN</th>\n",
              "      <th>NaN</th>\n",
              "      <th>NaN</th>\n",
              "      <th>NaN</th>\n",
              "      <th>NaN</th>\n",
              "      <th>NaN</th>\n",
              "      <th>NaN</th>\n",
              "      <th>NaN</th>\n",
              "      <th>NaN</th>\n",
              "      <th>NaN</th>\n",
              "      <th>NaN</th>\n",
              "      <th>NaN</th>\n",
              "      <th>NaN</th>\n",
              "      <th>NaN</th>\n",
              "      <th>N</th>\n",
              "      <th>NaN</th>\n",
              "      <th>NaN</th>\n",
              "      <th>NaN</th>\n",
              "      <th>NaN</th>\n",
              "      <th>NaN</th>\n",
              "      <td>NaN</td>\n",
              "    </tr>\n",
              "    <tr>\n",
              "      <th>5000</th>\n",
              "      <th>5000</th>\n",
              "      <th>5000</th>\n",
              "      <th>36 months</th>\n",
              "      <th>22.35%</th>\n",
              "      <th>191.86</th>\n",
              "      <th>D</th>\n",
              "      <th>D5</th>\n",
              "      <th>Director of Sales</th>\n",
              "      <th>10+ years</th>\n",
              "      <th>MORTGAGE</th>\n",
              "      <th>72000</th>\n",
              "      <th>Source Verified</th>\n",
              "      <th>Dec-2018</th>\n",
              "      <th>Fully Paid</th>\n",
              "      <th>n</th>\n",
              "      <th>NaN</th>\n",
              "      <th>NaN</th>\n",
              "      <th>debt_consolidation</th>\n",
              "      <th>Debt consolidation</th>\n",
              "      <th>333xx</th>\n",
              "      <th>FL</th>\n",
              "      <th>20.12</th>\n",
              "      <th>0</th>\n",
              "      <th>Mar-2010</th>\n",
              "      <th>0</th>\n",
              "      <th>NaN</th>\n",
              "      <th>NaN</th>\n",
              "      <th>13</th>\n",
              "      <th>0</th>\n",
              "      <th>11720</th>\n",
              "      <th>47.1%</th>\n",
              "      <th>26</th>\n",
              "      <th>f</th>\n",
              "      <th>0.00</th>\n",
              "      <th>0.00</th>\n",
              "      <th>5615.9776735688</th>\n",
              "      <th>5615.98</th>\n",
              "      <th>5000.00</th>\n",
              "      <th>615.98</th>\n",
              "      <th>0.0</th>\n",
              "      <th>0.0</th>\n",
              "      <th>0.0</th>\n",
              "      <th>Jul-2019</th>\n",
              "      <th>4474.13</th>\n",
              "      <th>NaN</th>\n",
              "      <th>Aug-2019</th>\n",
              "      <th>0</th>\n",
              "      <th>NaN</th>\n",
              "      <th>1</th>\n",
              "      <th>Individual</th>\n",
              "      <th>NaN</th>\n",
              "      <th>NaN</th>\n",
              "      <th>NaN</th>\n",
              "      <th>0</th>\n",
              "      <th>534</th>\n",
              "      <th>189279</th>\n",
              "      <th>0</th>\n",
              "      <th>1</th>\n",
              "      <th>0</th>\n",
              "      <th>1</th>\n",
              "      <th>18</th>\n",
              "      <th>22698</th>\n",
              "      <th>NaN</th>\n",
              "      <th>0</th>\n",
              "      <th>0</th>\n",
              "      <th>4056</th>\n",
              "      <th>47</th>\n",
              "      <th>24900</th>\n",
              "      <th>1</th>\n",
              "      <th>0</th>\n",
              "      <th>1</th>\n",
              "      <th>2</th>\n",
              "      <th>14560</th>\n",
              "      <th>8163</th>\n",
              "      <th>55.1</th>\n",
              "      <th>0</th>\n",
              "      <th>0</th>\n",
              "      <th>105</th>\n",
              "      <th>90</th>\n",
              "      <th>29</th>\n",
              "      <th>8</th>\n",
              "      <th>5</th>\n",
              "      <th>40</th>\n",
              "      <th>NaN</th>\n",
              "      <th>9</th>\n",
              "      <th>NaN</th>\n",
              "      <th>0</th>\n",
              "      <th>6</th>\n",
              "      <th>11</th>\n",
              "      <th>6</th>\n",
              "      <th>8</th>\n",
              "      <th>4</th>\n",
              "      <th>11</th>\n",
              "      <th>17</th>\n",
              "      <th>11</th>\n",
              "      <th>13</th>\n",
              "      <th>0</th>\n",
              "      <th>0</th>\n",
              "      <th>0</th>\n",
              "      <th>1</th>\n",
              "      <th>100</th>\n",
              "      <th>50</th>\n",
              "      <th>0</th>\n",
              "      <th>0</th>\n",
              "      <th>218686</th>\n",
              "      <th>34418</th>\n",
              "      <th>18200</th>\n",
              "      <th>37786</th>\n",
              "      <th>NaN</th>\n",
              "      <th>NaN</th>\n",
              "      <th>NaN</th>\n",
              "      <th>NaN</th>\n",
              "      <th>NaN</th>\n",
              "      <th>NaN</th>\n",
              "      <th>NaN</th>\n",
              "      <th>NaN</th>\n",
              "      <th>NaN</th>\n",
              "      <th>NaN</th>\n",
              "      <th>NaN</th>\n",
              "      <th>N</th>\n",
              "      <th>NaN</th>\n",
              "      <th>NaN</th>\n",
              "      <th>NaN</th>\n",
              "      <th>NaN</th>\n",
              "      <th>NaN</th>\n",
              "      <th>NaN</th>\n",
              "      <th>NaN</th>\n",
              "      <th>NaN</th>\n",
              "      <th>NaN</th>\n",
              "      <th>NaN</th>\n",
              "      <th>NaN</th>\n",
              "      <th>NaN</th>\n",
              "      <th>NaN</th>\n",
              "      <th>NaN</th>\n",
              "      <th>N</th>\n",
              "      <th>NaN</th>\n",
              "      <th>NaN</th>\n",
              "      <th>NaN</th>\n",
              "      <th>NaN</th>\n",
              "      <th>NaN</th>\n",
              "      <td>NaN</td>\n",
              "    </tr>\n",
              "    <tr>\n",
              "      <th>10000</th>\n",
              "      <th>10000</th>\n",
              "      <th>10000</th>\n",
              "      <th>60 months</th>\n",
              "      <th>23.40%</th>\n",
              "      <th>284.21</th>\n",
              "      <th>E</th>\n",
              "      <th>E1</th>\n",
              "      <th>NaN</th>\n",
              "      <th>&lt; 1 year</th>\n",
              "      <th>RENT</th>\n",
              "      <th>55000</th>\n",
              "      <th>Source Verified</th>\n",
              "      <th>Dec-2018</th>\n",
              "      <th>Current</th>\n",
              "      <th>n</th>\n",
              "      <th>NaN</th>\n",
              "      <th>NaN</th>\n",
              "      <th>debt_consolidation</th>\n",
              "      <th>Debt consolidation</th>\n",
              "      <th>902xx</th>\n",
              "      <th>CA</th>\n",
              "      <th>13.51</th>\n",
              "      <th>0</th>\n",
              "      <th>Apr-2007</th>\n",
              "      <th>0</th>\n",
              "      <th>44</th>\n",
              "      <th>88</th>\n",
              "      <th>9</th>\n",
              "      <th>1</th>\n",
              "      <th>11859</th>\n",
              "      <th>53.9%</th>\n",
              "      <th>11</th>\n",
              "      <th>w</th>\n",
              "      <th>8694.39</th>\n",
              "      <th>8694.39</th>\n",
              "      <th>3675.23</th>\n",
              "      <th>3675.23</th>\n",
              "      <th>1305.61</th>\n",
              "      <th>2369.62</th>\n",
              "      <th>0.0</th>\n",
              "      <th>0.0</th>\n",
              "      <th>0.0</th>\n",
              "      <th>Jan-2020</th>\n",
              "      <th>284.21</th>\n",
              "      <th>Feb-2020</th>\n",
              "      <th>Jan-2020</th>\n",
              "      <th>0</th>\n",
              "      <th>NaN</th>\n",
              "      <th>1</th>\n",
              "      <th>Individual</th>\n",
              "      <th>NaN</th>\n",
              "      <th>NaN</th>\n",
              "      <th>NaN</th>\n",
              "      <th>0</th>\n",
              "      <th>0</th>\n",
              "      <th>21235</th>\n",
              "      <th>0</th>\n",
              "      <th>1</th>\n",
              "      <th>0</th>\n",
              "      <th>1</th>\n",
              "      <th>20</th>\n",
              "      <th>9376</th>\n",
              "      <th>76</th>\n",
              "      <th>0</th>\n",
              "      <th>3</th>\n",
              "      <th>3122</th>\n",
              "      <th>62</th>\n",
              "      <th>22000</th>\n",
              "      <th>1</th>\n",
              "      <th>0</th>\n",
              "      <th>0</th>\n",
              "      <th>4</th>\n",
              "      <th>2359</th>\n",
              "      <th>1119</th>\n",
              "      <th>89.3</th>\n",
              "      <th>0</th>\n",
              "      <th>0</th>\n",
              "      <th>140</th>\n",
              "      <th>140</th>\n",
              "      <th>13</th>\n",
              "      <th>13</th>\n",
              "      <th>0</th>\n",
              "      <th>13</th>\n",
              "      <th>NaN</th>\n",
              "      <th>15</th>\n",
              "      <th>44</th>\n",
              "      <th>0</th>\n",
              "      <th>4</th>\n",
              "      <th>7</th>\n",
              "      <th>4</th>\n",
              "      <th>5</th>\n",
              "      <th>2</th>\n",
              "      <th>8</th>\n",
              "      <th>9</th>\n",
              "      <th>7</th>\n",
              "      <th>9</th>\n",
              "      <th>0</th>\n",
              "      <th>0</th>\n",
              "      <th>0</th>\n",
              "      <th>0</th>\n",
              "      <th>90.9</th>\n",
              "      <th>100</th>\n",
              "      <th>1</th>\n",
              "      <th>0</th>\n",
              "      <th>34386</th>\n",
              "      <th>21235</th>\n",
              "      <th>10500</th>\n",
              "      <th>12386</th>\n",
              "      <th>NaN</th>\n",
              "      <th>NaN</th>\n",
              "      <th>NaN</th>\n",
              "      <th>NaN</th>\n",
              "      <th>NaN</th>\n",
              "      <th>NaN</th>\n",
              "      <th>NaN</th>\n",
              "      <th>NaN</th>\n",
              "      <th>NaN</th>\n",
              "      <th>NaN</th>\n",
              "      <th>NaN</th>\n",
              "      <th>N</th>\n",
              "      <th>NaN</th>\n",
              "      <th>NaN</th>\n",
              "      <th>NaN</th>\n",
              "      <th>NaN</th>\n",
              "      <th>NaN</th>\n",
              "      <th>NaN</th>\n",
              "      <th>NaN</th>\n",
              "      <th>NaN</th>\n",
              "      <th>NaN</th>\n",
              "      <th>NaN</th>\n",
              "      <th>NaN</th>\n",
              "      <th>NaN</th>\n",
              "      <th>NaN</th>\n",
              "      <th>NaN</th>\n",
              "      <th>N</th>\n",
              "      <th>NaN</th>\n",
              "      <th>NaN</th>\n",
              "      <th>NaN</th>\n",
              "      <th>NaN</th>\n",
              "      <th>NaN</th>\n",
              "      <td>NaN</td>\n",
              "    </tr>\n",
              "    <tr>\n",
              "      <th>17100</th>\n",
              "      <th>17100</th>\n",
              "      <th>17100</th>\n",
              "      <th>36 months</th>\n",
              "      <th>18.94%</th>\n",
              "      <th>626.3</th>\n",
              "      <th>D</th>\n",
              "      <th>D2</th>\n",
              "      <th>Receptionist</th>\n",
              "      <th>10+ years</th>\n",
              "      <th>RENT</th>\n",
              "      <th>38000</th>\n",
              "      <th>Verified</th>\n",
              "      <th>Dec-2018</th>\n",
              "      <th>Current</th>\n",
              "      <th>n</th>\n",
              "      <th>NaN</th>\n",
              "      <th>NaN</th>\n",
              "      <th>debt_consolidation</th>\n",
              "      <th>Debt consolidation</th>\n",
              "      <th>150xx</th>\n",
              "      <th>PA</th>\n",
              "      <th>38.09</th>\n",
              "      <th>0</th>\n",
              "      <th>Mar-1998</th>\n",
              "      <th>1</th>\n",
              "      <th>47</th>\n",
              "      <th>NaN</th>\n",
              "      <th>14</th>\n",
              "      <th>0</th>\n",
              "      <th>15323</th>\n",
              "      <th>53%</th>\n",
              "      <th>21</th>\n",
              "      <th>w</th>\n",
              "      <th>12001.54</th>\n",
              "      <th>12001.54</th>\n",
              "      <th>8114.91</th>\n",
              "      <th>8114.91</th>\n",
              "      <th>5098.46</th>\n",
              "      <th>3016.45</th>\n",
              "      <th>0.0</th>\n",
              "      <th>0.0</th>\n",
              "      <th>0.0</th>\n",
              "      <th>Jan-2020</th>\n",
              "      <th>626.3</th>\n",
              "      <th>Feb-2020</th>\n",
              "      <th>Jan-2020</th>\n",
              "      <th>0</th>\n",
              "      <th>NaN</th>\n",
              "      <th>1</th>\n",
              "      <th>Individual</th>\n",
              "      <th>NaN</th>\n",
              "      <th>NaN</th>\n",
              "      <th>NaN</th>\n",
              "      <th>0</th>\n",
              "      <th>0</th>\n",
              "      <th>43351</th>\n",
              "      <th>1</th>\n",
              "      <th>2</th>\n",
              "      <th>1</th>\n",
              "      <th>1</th>\n",
              "      <th>10</th>\n",
              "      <th>28028</th>\n",
              "      <th>67</th>\n",
              "      <th>1</th>\n",
              "      <th>5</th>\n",
              "      <th>7533</th>\n",
              "      <th>53</th>\n",
              "      <th>29170</th>\n",
              "      <th>0</th>\n",
              "      <th>0</th>\n",
              "      <th>2</th>\n",
              "      <th>6</th>\n",
              "      <th>3096</th>\n",
              "      <th>4150</th>\n",
              "      <th>77</th>\n",
              "      <th>0</th>\n",
              "      <th>0</th>\n",
              "      <th>125</th>\n",
              "      <th>230</th>\n",
              "      <th>5</th>\n",
              "      <th>5</th>\n",
              "      <th>2</th>\n",
              "      <th>5</th>\n",
              "      <th>NaN</th>\n",
              "      <th>5</th>\n",
              "      <th>NaN</th>\n",
              "      <th>0</th>\n",
              "      <th>4</th>\n",
              "      <th>12</th>\n",
              "      <th>5</th>\n",
              "      <th>5</th>\n",
              "      <th>5</th>\n",
              "      <th>12</th>\n",
              "      <th>14</th>\n",
              "      <th>9</th>\n",
              "      <th>14</th>\n",
              "      <th>NaN</th>\n",
              "      <th>0</th>\n",
              "      <th>0</th>\n",
              "      <th>2</th>\n",
              "      <th>95</th>\n",
              "      <th>75</th>\n",
              "      <th>0</th>\n",
              "      <th>0</th>\n",
              "      <th>70954</th>\n",
              "      <th>43351</th>\n",
              "      <th>16600</th>\n",
              "      <th>41784</th>\n",
              "      <th>NaN</th>\n",
              "      <th>NaN</th>\n",
              "      <th>NaN</th>\n",
              "      <th>NaN</th>\n",
              "      <th>NaN</th>\n",
              "      <th>NaN</th>\n",
              "      <th>NaN</th>\n",
              "      <th>NaN</th>\n",
              "      <th>NaN</th>\n",
              "      <th>NaN</th>\n",
              "      <th>NaN</th>\n",
              "      <th>N</th>\n",
              "      <th>NaN</th>\n",
              "      <th>NaN</th>\n",
              "      <th>NaN</th>\n",
              "      <th>NaN</th>\n",
              "      <th>NaN</th>\n",
              "      <th>NaN</th>\n",
              "      <th>NaN</th>\n",
              "      <th>NaN</th>\n",
              "      <th>NaN</th>\n",
              "      <th>NaN</th>\n",
              "      <th>NaN</th>\n",
              "      <th>NaN</th>\n",
              "      <th>NaN</th>\n",
              "      <th>NaN</th>\n",
              "      <th>N</th>\n",
              "      <th>NaN</th>\n",
              "      <th>NaN</th>\n",
              "      <th>NaN</th>\n",
              "      <th>NaN</th>\n",
              "      <th>NaN</th>\n",
              "      <td>NaN</td>\n",
              "    </tr>\n",
              "  </tbody>\n",
              "</table>\n",
              "</div>"
            ],
            "text/plain": [
              "                                                                                                                                                                                                                                                                                                                                                                                                                                                                                                                                                                                                                                                                                                                                                                                                                                                                                                                                                                                                                                                                                                                                                                                                                                                                                                                                                                                                                                                                                                                                                                                                                                                                                                                                                                                                                                                                                                                                                                                                                                                                                                                                                                                                                                                                                                                                                                                                               Notes offered by Prospectus (https://www.lendingclub.com/info/prospectus.action)\n",
              "id  member_id loan_amnt funded_amnt funded_amnt_inv term       int_rate installment grade sub_grade emp_title         emp_length home_ownership annual_inc verification_status issue_d  loan_status pymnt_plan url desc purpose            title                   zip_code addr_state dti   delinq_2yrs earliest_cr_line inq_last_6mths mths_since_last_delinq mths_since_last_record open_acc pub_rec revol_bal revol_util total_acc initial_list_status out_prncp out_prncp_inv total_pymnt      total_pymnt_inv total_rec_prncp total_rec_int total_rec_late_fee recoveries collection_recovery_fee last_pymnt_d last_pymnt_amnt next_pymnt_d last_credit_pull_d collections_12_mths_ex_med mths_since_last_major_derog policy_code application_type annual_inc_joint dti_joint verification_status_joint acc_now_delinq tot_coll_amt tot_cur_bal open_acc_6m open_act_il open_il_12m open_il_24m mths_since_rcnt_il total_bal_il il_util open_rv_12m open_rv_24m max_bal_bc all_util total_rev_hi_lim inq_fi total_cu_tl inq_last_12m acc_open_past_24mths avg_cur_bal bc_open_to_buy bc_util chargeoff_within_12_mths delinq_amnt mo_sin_old_il_acct mo_sin_old_rev_tl_op mo_sin_rcnt_rev_tl_op mo_sin_rcnt_tl mort_acc mths_since_recent_bc mths_since_recent_bc_dlq mths_since_recent_inq mths_since_recent_revol_delinq num_accts_ever_120_pd num_actv_bc_tl num_actv_rev_tl num_bc_sats num_bc_tl num_il_tl num_op_rev_tl num_rev_accts num_rev_tl_bal_gt_0 num_sats num_tl_120dpd_2m num_tl_30dpd num_tl_90g_dpd_24m num_tl_op_past_12m pct_tl_nvr_dlq percent_bc_gt_75 pub_rec_bankruptcies tax_liens tot_hi_cred_lim total_bal_ex_mort total_bc_limit total_il_high_credit_limit revol_bal_joint sec_app_earliest_cr_line sec_app_inq_last_6mths sec_app_mort_acc sec_app_open_acc sec_app_revol_util sec_app_open_act_il sec_app_num_rev_accts sec_app_chargeoff_within_12_mths sec_app_collections_12_mths_ex_med sec_app_mths_since_last_major_derog hardship_flag hardship_type hardship_reason hardship_status deferral_term hardship_amount hardship_start_date hardship_end_date payment_plan_start_date hardship_length hardship_dpd hardship_loan_status orig_projected_additional_accrued_interest hardship_payoff_balance_amount hardship_last_payment_amount debt_settlement_flag debt_settlement_flag_date settlement_status settlement_date settlement_amount settlement_percentage                                    settlement_term                              \n",
              "NaN NaN       35000     35000       35000            36 months  14.47%  1204.23     C     C2        Staff Physician   8 years    MORTGAGE       360000     Verified            Dec-2018 Fully Paid  n          NaN NaN  credit_card        Credit card refinancing 336xx    FL         19.9  0           Apr-1995         1              NaN                    NaN                    24       0       57259     43.2%      51        w                   0.00      0.00          38187.0468373662 38187.05        35000.00        3187.05       0.0                0.0        0.0                     Aug-2019     29882.16        NaN          Sep-2019           0                          NaN                         1           Individual       NaN              NaN       NaN                       0              0            828060      0           6           1           2           9                  112027       29      4           8           19118      36       132400           3      2           5            11                   34503       67341          46      0                        0           173                284                  8                     8              3        8                    NaN                      0                     NaN                            0                     11             11              13          20        23        16            24            11                  24       0                0            0                  5                  100            30.8             0                    0         1222051         169286            124600         258401                     NaN             NaN                      NaN                    NaN              NaN              NaN                NaN                 NaN                   NaN                              NaN                                NaN                                 N             NaN           NaN             NaN             NaN           NaN             NaN                 NaN               NaN                     NaN             NaN          NaN                  NaN                                        NaN                            NaN                          N                    NaN                       NaN               NaN             NaN               NaN                                                                  NaN                              \n",
              "              5000      5000        5000             36 months  22.35%  191.86      D     D5        Director of Sales 10+ years  MORTGAGE       72000      Source Verified     Dec-2018 Fully Paid  n          NaN NaN  debt_consolidation Debt consolidation      333xx    FL         20.12 0           Mar-2010         0              NaN                    NaN                    13       0       11720     47.1%      26        f                   0.00      0.00          5615.9776735688  5615.98         5000.00         615.98        0.0                0.0        0.0                     Jul-2019     4474.13         NaN          Aug-2019           0                          NaN                         1           Individual       NaN              NaN       NaN                       0              534          189279      0           1           0           1           18                 22698        NaN     0           0           4056       47       24900            1      0           1            2                    14560       8163           55.1    0                        0           105                90                   29                    8              5        40                   NaN                      9                     NaN                            0                     6              11              6           8         4         11            17            11                  13       0                0            0                  1                  100            50               0                    0         218686          34418             18200          37786                      NaN             NaN                      NaN                    NaN              NaN              NaN                NaN                 NaN                   NaN                              NaN                                NaN                                 N             NaN           NaN             NaN             NaN           NaN             NaN                 NaN               NaN                     NaN             NaN          NaN                  NaN                                        NaN                            NaN                          N                    NaN                       NaN               NaN             NaN               NaN                                                                  NaN                              \n",
              "              10000     10000       10000            60 months  23.40%  284.21      E     E1        NaN               < 1 year   RENT           55000      Source Verified     Dec-2018 Current     n          NaN NaN  debt_consolidation Debt consolidation      902xx    CA         13.51 0           Apr-2007         0              44                     88                     9        1       11859     53.9%      11        w                   8694.39   8694.39       3675.23          3675.23         1305.61         2369.62       0.0                0.0        0.0                     Jan-2020     284.21          Feb-2020     Jan-2020           0                          NaN                         1           Individual       NaN              NaN       NaN                       0              0            21235       0           1           0           1           20                 9376         76      0           3           3122       62       22000            1      0           0            4                    2359        1119           89.3    0                        0           140                140                  13                    13             0        13                   NaN                      15                    44                             0                     4              7               4           5         2         8             9             7                   9        0                0            0                  0                  90.9           100              1                    0         34386           21235             10500          12386                      NaN             NaN                      NaN                    NaN              NaN              NaN                NaN                 NaN                   NaN                              NaN                                NaN                                 N             NaN           NaN             NaN             NaN           NaN             NaN                 NaN               NaN                     NaN             NaN          NaN                  NaN                                        NaN                            NaN                          N                    NaN                       NaN               NaN             NaN               NaN                                                                  NaN                              \n",
              "              17100     17100       17100            36 months  18.94%  626.3       D     D2        Receptionist      10+ years  RENT           38000      Verified            Dec-2018 Current     n          NaN NaN  debt_consolidation Debt consolidation      150xx    PA         38.09 0           Mar-1998         1              47                     NaN                    14       0       15323     53%        21        w                   12001.54  12001.54      8114.91          8114.91         5098.46         3016.45       0.0                0.0        0.0                     Jan-2020     626.3           Feb-2020     Jan-2020           0                          NaN                         1           Individual       NaN              NaN       NaN                       0              0            43351       1           2           1           1           10                 28028        67      1           5           7533       53       29170            0      0           2            6                    3096        4150           77      0                        0           125                230                  5                     5              2        5                    NaN                      5                     NaN                            0                     4              12              5           5         5         12            14            9                   14       NaN              0            0                  2                  95             75               0                    0         70954           43351             16600          41784                      NaN             NaN                      NaN                    NaN              NaN              NaN                NaN                 NaN                   NaN                              NaN                                NaN                                 N             NaN           NaN             NaN             NaN           NaN             NaN                 NaN               NaN                     NaN             NaN          NaN                  NaN                                        NaN                            NaN                          N                    NaN                       NaN               NaN             NaN               NaN                                                                  NaN                              "
            ]
          },
          "metadata": {
            "tags": []
          },
          "execution_count": 66
        }
      ]
    },
    {
      "cell_type": "markdown",
      "metadata": {
        "id": "wvqwNrQlq5fr",
        "colab_type": "text"
      },
      "source": [
        "The extra rows at the top and bottom of the file have done two things:\n",
        "\n",
        "1) The top row has made it so that the entire dataset is being interpreted as column headers\n",
        "\n",
        "2) The bottom two rows have been read into the 'id' column and are causing every column to have at least two `NaN` values in it."
      ]
    },
    {
      "cell_type": "code",
      "metadata": {
        "id": "PKM5P0RzrLh8",
        "colab_type": "code",
        "colab": {
          "base_uri": "https://localhost:8080/",
          "height": 372
        },
        "outputId": "460d0bb9-ae36-4060-f01d-e0dc878ff50f"
      },
      "source": [
        "# We can fix the header problem by using the 'skiprows' parameter\n",
        "df = pd.read_csv('LoanStats_2018Q4.csv', skiprows=1)\n",
        "df.head()"
      ],
      "execution_count": 68,
      "outputs": [
        {
          "output_type": "stream",
          "text": [
            "/usr/local/lib/python3.6/dist-packages/IPython/core/interactiveshell.py:2718: DtypeWarning: Columns (0) have mixed types. Specify dtype option on import or set low_memory=False.\n",
            "  interactivity=interactivity, compiler=compiler, result=result)\n"
          ],
          "name": "stderr"
        },
        {
          "output_type": "execute_result",
          "data": {
            "text/html": [
              "<div>\n",
              "<style scoped>\n",
              "    .dataframe tbody tr th:only-of-type {\n",
              "        vertical-align: middle;\n",
              "    }\n",
              "\n",
              "    .dataframe tbody tr th {\n",
              "        vertical-align: top;\n",
              "    }\n",
              "\n",
              "    .dataframe thead th {\n",
              "        text-align: right;\n",
              "    }\n",
              "</style>\n",
              "<table border=\"1\" class=\"dataframe\">\n",
              "  <thead>\n",
              "    <tr style=\"text-align: right;\">\n",
              "      <th></th>\n",
              "      <th>id</th>\n",
              "      <th>member_id</th>\n",
              "      <th>loan_amnt</th>\n",
              "      <th>funded_amnt</th>\n",
              "      <th>funded_amnt_inv</th>\n",
              "      <th>term</th>\n",
              "      <th>int_rate</th>\n",
              "      <th>installment</th>\n",
              "      <th>grade</th>\n",
              "      <th>sub_grade</th>\n",
              "      <th>emp_title</th>\n",
              "      <th>emp_length</th>\n",
              "      <th>home_ownership</th>\n",
              "      <th>annual_inc</th>\n",
              "      <th>verification_status</th>\n",
              "      <th>issue_d</th>\n",
              "      <th>loan_status</th>\n",
              "      <th>pymnt_plan</th>\n",
              "      <th>url</th>\n",
              "      <th>desc</th>\n",
              "      <th>purpose</th>\n",
              "      <th>title</th>\n",
              "      <th>zip_code</th>\n",
              "      <th>addr_state</th>\n",
              "      <th>dti</th>\n",
              "      <th>delinq_2yrs</th>\n",
              "      <th>earliest_cr_line</th>\n",
              "      <th>inq_last_6mths</th>\n",
              "      <th>mths_since_last_delinq</th>\n",
              "      <th>mths_since_last_record</th>\n",
              "      <th>open_acc</th>\n",
              "      <th>pub_rec</th>\n",
              "      <th>revol_bal</th>\n",
              "      <th>revol_util</th>\n",
              "      <th>total_acc</th>\n",
              "      <th>initial_list_status</th>\n",
              "      <th>out_prncp</th>\n",
              "      <th>out_prncp_inv</th>\n",
              "      <th>total_pymnt</th>\n",
              "      <th>total_pymnt_inv</th>\n",
              "      <th>...</th>\n",
              "      <th>percent_bc_gt_75</th>\n",
              "      <th>pub_rec_bankruptcies</th>\n",
              "      <th>tax_liens</th>\n",
              "      <th>tot_hi_cred_lim</th>\n",
              "      <th>total_bal_ex_mort</th>\n",
              "      <th>total_bc_limit</th>\n",
              "      <th>total_il_high_credit_limit</th>\n",
              "      <th>revol_bal_joint</th>\n",
              "      <th>sec_app_earliest_cr_line</th>\n",
              "      <th>sec_app_inq_last_6mths</th>\n",
              "      <th>sec_app_mort_acc</th>\n",
              "      <th>sec_app_open_acc</th>\n",
              "      <th>sec_app_revol_util</th>\n",
              "      <th>sec_app_open_act_il</th>\n",
              "      <th>sec_app_num_rev_accts</th>\n",
              "      <th>sec_app_chargeoff_within_12_mths</th>\n",
              "      <th>sec_app_collections_12_mths_ex_med</th>\n",
              "      <th>sec_app_mths_since_last_major_derog</th>\n",
              "      <th>hardship_flag</th>\n",
              "      <th>hardship_type</th>\n",
              "      <th>hardship_reason</th>\n",
              "      <th>hardship_status</th>\n",
              "      <th>deferral_term</th>\n",
              "      <th>hardship_amount</th>\n",
              "      <th>hardship_start_date</th>\n",
              "      <th>hardship_end_date</th>\n",
              "      <th>payment_plan_start_date</th>\n",
              "      <th>hardship_length</th>\n",
              "      <th>hardship_dpd</th>\n",
              "      <th>hardship_loan_status</th>\n",
              "      <th>orig_projected_additional_accrued_interest</th>\n",
              "      <th>hardship_payoff_balance_amount</th>\n",
              "      <th>hardship_last_payment_amount</th>\n",
              "      <th>debt_settlement_flag</th>\n",
              "      <th>debt_settlement_flag_date</th>\n",
              "      <th>settlement_status</th>\n",
              "      <th>settlement_date</th>\n",
              "      <th>settlement_amount</th>\n",
              "      <th>settlement_percentage</th>\n",
              "      <th>settlement_term</th>\n",
              "    </tr>\n",
              "  </thead>\n",
              "  <tbody>\n",
              "    <tr>\n",
              "      <th>0</th>\n",
              "      <td>NaN</td>\n",
              "      <td>NaN</td>\n",
              "      <td>35000.0</td>\n",
              "      <td>35000.0</td>\n",
              "      <td>35000.0</td>\n",
              "      <td>36 months</td>\n",
              "      <td>14.47%</td>\n",
              "      <td>1204.23</td>\n",
              "      <td>C</td>\n",
              "      <td>C2</td>\n",
              "      <td>Staff Physician</td>\n",
              "      <td>8 years</td>\n",
              "      <td>MORTGAGE</td>\n",
              "      <td>360000.0</td>\n",
              "      <td>Verified</td>\n",
              "      <td>Dec-2018</td>\n",
              "      <td>Fully Paid</td>\n",
              "      <td>n</td>\n",
              "      <td>NaN</td>\n",
              "      <td>NaN</td>\n",
              "      <td>credit_card</td>\n",
              "      <td>Credit card refinancing</td>\n",
              "      <td>336xx</td>\n",
              "      <td>FL</td>\n",
              "      <td>19.90</td>\n",
              "      <td>0.0</td>\n",
              "      <td>Apr-1995</td>\n",
              "      <td>1.0</td>\n",
              "      <td>NaN</td>\n",
              "      <td>NaN</td>\n",
              "      <td>24.0</td>\n",
              "      <td>0.0</td>\n",
              "      <td>57259.0</td>\n",
              "      <td>43.2%</td>\n",
              "      <td>51.0</td>\n",
              "      <td>w</td>\n",
              "      <td>0.00</td>\n",
              "      <td>0.00</td>\n",
              "      <td>38187.046837</td>\n",
              "      <td>38187.05</td>\n",
              "      <td>...</td>\n",
              "      <td>30.8</td>\n",
              "      <td>0.0</td>\n",
              "      <td>0.0</td>\n",
              "      <td>1222051.0</td>\n",
              "      <td>169286.0</td>\n",
              "      <td>124600.0</td>\n",
              "      <td>258401.0</td>\n",
              "      <td>NaN</td>\n",
              "      <td>NaN</td>\n",
              "      <td>NaN</td>\n",
              "      <td>NaN</td>\n",
              "      <td>NaN</td>\n",
              "      <td>NaN</td>\n",
              "      <td>NaN</td>\n",
              "      <td>NaN</td>\n",
              "      <td>NaN</td>\n",
              "      <td>NaN</td>\n",
              "      <td>NaN</td>\n",
              "      <td>N</td>\n",
              "      <td>NaN</td>\n",
              "      <td>NaN</td>\n",
              "      <td>NaN</td>\n",
              "      <td>NaN</td>\n",
              "      <td>NaN</td>\n",
              "      <td>NaN</td>\n",
              "      <td>NaN</td>\n",
              "      <td>NaN</td>\n",
              "      <td>NaN</td>\n",
              "      <td>NaN</td>\n",
              "      <td>NaN</td>\n",
              "      <td>NaN</td>\n",
              "      <td>NaN</td>\n",
              "      <td>NaN</td>\n",
              "      <td>N</td>\n",
              "      <td>NaN</td>\n",
              "      <td>NaN</td>\n",
              "      <td>NaN</td>\n",
              "      <td>NaN</td>\n",
              "      <td>NaN</td>\n",
              "      <td>NaN</td>\n",
              "    </tr>\n",
              "    <tr>\n",
              "      <th>1</th>\n",
              "      <td>NaN</td>\n",
              "      <td>NaN</td>\n",
              "      <td>5000.0</td>\n",
              "      <td>5000.0</td>\n",
              "      <td>5000.0</td>\n",
              "      <td>36 months</td>\n",
              "      <td>22.35%</td>\n",
              "      <td>191.86</td>\n",
              "      <td>D</td>\n",
              "      <td>D5</td>\n",
              "      <td>Director of Sales</td>\n",
              "      <td>10+ years</td>\n",
              "      <td>MORTGAGE</td>\n",
              "      <td>72000.0</td>\n",
              "      <td>Source Verified</td>\n",
              "      <td>Dec-2018</td>\n",
              "      <td>Fully Paid</td>\n",
              "      <td>n</td>\n",
              "      <td>NaN</td>\n",
              "      <td>NaN</td>\n",
              "      <td>debt_consolidation</td>\n",
              "      <td>Debt consolidation</td>\n",
              "      <td>333xx</td>\n",
              "      <td>FL</td>\n",
              "      <td>20.12</td>\n",
              "      <td>0.0</td>\n",
              "      <td>Mar-2010</td>\n",
              "      <td>0.0</td>\n",
              "      <td>NaN</td>\n",
              "      <td>NaN</td>\n",
              "      <td>13.0</td>\n",
              "      <td>0.0</td>\n",
              "      <td>11720.0</td>\n",
              "      <td>47.1%</td>\n",
              "      <td>26.0</td>\n",
              "      <td>f</td>\n",
              "      <td>0.00</td>\n",
              "      <td>0.00</td>\n",
              "      <td>5615.977674</td>\n",
              "      <td>5615.98</td>\n",
              "      <td>...</td>\n",
              "      <td>50.0</td>\n",
              "      <td>0.0</td>\n",
              "      <td>0.0</td>\n",
              "      <td>218686.0</td>\n",
              "      <td>34418.0</td>\n",
              "      <td>18200.0</td>\n",
              "      <td>37786.0</td>\n",
              "      <td>NaN</td>\n",
              "      <td>NaN</td>\n",
              "      <td>NaN</td>\n",
              "      <td>NaN</td>\n",
              "      <td>NaN</td>\n",
              "      <td>NaN</td>\n",
              "      <td>NaN</td>\n",
              "      <td>NaN</td>\n",
              "      <td>NaN</td>\n",
              "      <td>NaN</td>\n",
              "      <td>NaN</td>\n",
              "      <td>N</td>\n",
              "      <td>NaN</td>\n",
              "      <td>NaN</td>\n",
              "      <td>NaN</td>\n",
              "      <td>NaN</td>\n",
              "      <td>NaN</td>\n",
              "      <td>NaN</td>\n",
              "      <td>NaN</td>\n",
              "      <td>NaN</td>\n",
              "      <td>NaN</td>\n",
              "      <td>NaN</td>\n",
              "      <td>NaN</td>\n",
              "      <td>NaN</td>\n",
              "      <td>NaN</td>\n",
              "      <td>NaN</td>\n",
              "      <td>N</td>\n",
              "      <td>NaN</td>\n",
              "      <td>NaN</td>\n",
              "      <td>NaN</td>\n",
              "      <td>NaN</td>\n",
              "      <td>NaN</td>\n",
              "      <td>NaN</td>\n",
              "    </tr>\n",
              "    <tr>\n",
              "      <th>2</th>\n",
              "      <td>NaN</td>\n",
              "      <td>NaN</td>\n",
              "      <td>10000.0</td>\n",
              "      <td>10000.0</td>\n",
              "      <td>10000.0</td>\n",
              "      <td>60 months</td>\n",
              "      <td>23.40%</td>\n",
              "      <td>284.21</td>\n",
              "      <td>E</td>\n",
              "      <td>E1</td>\n",
              "      <td>NaN</td>\n",
              "      <td>&lt; 1 year</td>\n",
              "      <td>RENT</td>\n",
              "      <td>55000.0</td>\n",
              "      <td>Source Verified</td>\n",
              "      <td>Dec-2018</td>\n",
              "      <td>Current</td>\n",
              "      <td>n</td>\n",
              "      <td>NaN</td>\n",
              "      <td>NaN</td>\n",
              "      <td>debt_consolidation</td>\n",
              "      <td>Debt consolidation</td>\n",
              "      <td>902xx</td>\n",
              "      <td>CA</td>\n",
              "      <td>13.51</td>\n",
              "      <td>0.0</td>\n",
              "      <td>Apr-2007</td>\n",
              "      <td>0.0</td>\n",
              "      <td>44.0</td>\n",
              "      <td>88.0</td>\n",
              "      <td>9.0</td>\n",
              "      <td>1.0</td>\n",
              "      <td>11859.0</td>\n",
              "      <td>53.9%</td>\n",
              "      <td>11.0</td>\n",
              "      <td>w</td>\n",
              "      <td>8694.39</td>\n",
              "      <td>8694.39</td>\n",
              "      <td>3675.230000</td>\n",
              "      <td>3675.23</td>\n",
              "      <td>...</td>\n",
              "      <td>100.0</td>\n",
              "      <td>1.0</td>\n",
              "      <td>0.0</td>\n",
              "      <td>34386.0</td>\n",
              "      <td>21235.0</td>\n",
              "      <td>10500.0</td>\n",
              "      <td>12386.0</td>\n",
              "      <td>NaN</td>\n",
              "      <td>NaN</td>\n",
              "      <td>NaN</td>\n",
              "      <td>NaN</td>\n",
              "      <td>NaN</td>\n",
              "      <td>NaN</td>\n",
              "      <td>NaN</td>\n",
              "      <td>NaN</td>\n",
              "      <td>NaN</td>\n",
              "      <td>NaN</td>\n",
              "      <td>NaN</td>\n",
              "      <td>N</td>\n",
              "      <td>NaN</td>\n",
              "      <td>NaN</td>\n",
              "      <td>NaN</td>\n",
              "      <td>NaN</td>\n",
              "      <td>NaN</td>\n",
              "      <td>NaN</td>\n",
              "      <td>NaN</td>\n",
              "      <td>NaN</td>\n",
              "      <td>NaN</td>\n",
              "      <td>NaN</td>\n",
              "      <td>NaN</td>\n",
              "      <td>NaN</td>\n",
              "      <td>NaN</td>\n",
              "      <td>NaN</td>\n",
              "      <td>N</td>\n",
              "      <td>NaN</td>\n",
              "      <td>NaN</td>\n",
              "      <td>NaN</td>\n",
              "      <td>NaN</td>\n",
              "      <td>NaN</td>\n",
              "      <td>NaN</td>\n",
              "    </tr>\n",
              "    <tr>\n",
              "      <th>3</th>\n",
              "      <td>NaN</td>\n",
              "      <td>NaN</td>\n",
              "      <td>17100.0</td>\n",
              "      <td>17100.0</td>\n",
              "      <td>17100.0</td>\n",
              "      <td>36 months</td>\n",
              "      <td>18.94%</td>\n",
              "      <td>626.30</td>\n",
              "      <td>D</td>\n",
              "      <td>D2</td>\n",
              "      <td>Receptionist</td>\n",
              "      <td>10+ years</td>\n",
              "      <td>RENT</td>\n",
              "      <td>38000.0</td>\n",
              "      <td>Verified</td>\n",
              "      <td>Dec-2018</td>\n",
              "      <td>Current</td>\n",
              "      <td>n</td>\n",
              "      <td>NaN</td>\n",
              "      <td>NaN</td>\n",
              "      <td>debt_consolidation</td>\n",
              "      <td>Debt consolidation</td>\n",
              "      <td>150xx</td>\n",
              "      <td>PA</td>\n",
              "      <td>38.09</td>\n",
              "      <td>0.0</td>\n",
              "      <td>Mar-1998</td>\n",
              "      <td>1.0</td>\n",
              "      <td>47.0</td>\n",
              "      <td>NaN</td>\n",
              "      <td>14.0</td>\n",
              "      <td>0.0</td>\n",
              "      <td>15323.0</td>\n",
              "      <td>53%</td>\n",
              "      <td>21.0</td>\n",
              "      <td>w</td>\n",
              "      <td>12001.54</td>\n",
              "      <td>12001.54</td>\n",
              "      <td>8114.910000</td>\n",
              "      <td>8114.91</td>\n",
              "      <td>...</td>\n",
              "      <td>75.0</td>\n",
              "      <td>0.0</td>\n",
              "      <td>0.0</td>\n",
              "      <td>70954.0</td>\n",
              "      <td>43351.0</td>\n",
              "      <td>16600.0</td>\n",
              "      <td>41784.0</td>\n",
              "      <td>NaN</td>\n",
              "      <td>NaN</td>\n",
              "      <td>NaN</td>\n",
              "      <td>NaN</td>\n",
              "      <td>NaN</td>\n",
              "      <td>NaN</td>\n",
              "      <td>NaN</td>\n",
              "      <td>NaN</td>\n",
              "      <td>NaN</td>\n",
              "      <td>NaN</td>\n",
              "      <td>NaN</td>\n",
              "      <td>N</td>\n",
              "      <td>NaN</td>\n",
              "      <td>NaN</td>\n",
              "      <td>NaN</td>\n",
              "      <td>NaN</td>\n",
              "      <td>NaN</td>\n",
              "      <td>NaN</td>\n",
              "      <td>NaN</td>\n",
              "      <td>NaN</td>\n",
              "      <td>NaN</td>\n",
              "      <td>NaN</td>\n",
              "      <td>NaN</td>\n",
              "      <td>NaN</td>\n",
              "      <td>NaN</td>\n",
              "      <td>NaN</td>\n",
              "      <td>N</td>\n",
              "      <td>NaN</td>\n",
              "      <td>NaN</td>\n",
              "      <td>NaN</td>\n",
              "      <td>NaN</td>\n",
              "      <td>NaN</td>\n",
              "      <td>NaN</td>\n",
              "    </tr>\n",
              "    <tr>\n",
              "      <th>4</th>\n",
              "      <td>NaN</td>\n",
              "      <td>NaN</td>\n",
              "      <td>4000.0</td>\n",
              "      <td>4000.0</td>\n",
              "      <td>4000.0</td>\n",
              "      <td>36 months</td>\n",
              "      <td>10.72%</td>\n",
              "      <td>130.43</td>\n",
              "      <td>B</td>\n",
              "      <td>B2</td>\n",
              "      <td>Extrusion assistant</td>\n",
              "      <td>10+ years</td>\n",
              "      <td>MORTGAGE</td>\n",
              "      <td>56000.0</td>\n",
              "      <td>Verified</td>\n",
              "      <td>Dec-2018</td>\n",
              "      <td>Current</td>\n",
              "      <td>n</td>\n",
              "      <td>NaN</td>\n",
              "      <td>NaN</td>\n",
              "      <td>credit_card</td>\n",
              "      <td>Credit card refinancing</td>\n",
              "      <td>301xx</td>\n",
              "      <td>GA</td>\n",
              "      <td>31.03</td>\n",
              "      <td>0.0</td>\n",
              "      <td>Sep-2006</td>\n",
              "      <td>0.0</td>\n",
              "      <td>NaN</td>\n",
              "      <td>NaN</td>\n",
              "      <td>7.0</td>\n",
              "      <td>0.0</td>\n",
              "      <td>4518.0</td>\n",
              "      <td>28.6%</td>\n",
              "      <td>11.0</td>\n",
              "      <td>w</td>\n",
              "      <td>2700.74</td>\n",
              "      <td>2700.74</td>\n",
              "      <td>1682.500000</td>\n",
              "      <td>1682.50</td>\n",
              "      <td>...</td>\n",
              "      <td>0.0</td>\n",
              "      <td>0.0</td>\n",
              "      <td>0.0</td>\n",
              "      <td>221310.0</td>\n",
              "      <td>71375.0</td>\n",
              "      <td>12300.0</td>\n",
              "      <td>77865.0</td>\n",
              "      <td>NaN</td>\n",
              "      <td>NaN</td>\n",
              "      <td>NaN</td>\n",
              "      <td>NaN</td>\n",
              "      <td>NaN</td>\n",
              "      <td>NaN</td>\n",
              "      <td>NaN</td>\n",
              "      <td>NaN</td>\n",
              "      <td>NaN</td>\n",
              "      <td>NaN</td>\n",
              "      <td>NaN</td>\n",
              "      <td>N</td>\n",
              "      <td>NaN</td>\n",
              "      <td>NaN</td>\n",
              "      <td>NaN</td>\n",
              "      <td>NaN</td>\n",
              "      <td>NaN</td>\n",
              "      <td>NaN</td>\n",
              "      <td>NaN</td>\n",
              "      <td>NaN</td>\n",
              "      <td>NaN</td>\n",
              "      <td>NaN</td>\n",
              "      <td>NaN</td>\n",
              "      <td>NaN</td>\n",
              "      <td>NaN</td>\n",
              "      <td>NaN</td>\n",
              "      <td>N</td>\n",
              "      <td>NaN</td>\n",
              "      <td>NaN</td>\n",
              "      <td>NaN</td>\n",
              "      <td>NaN</td>\n",
              "      <td>NaN</td>\n",
              "      <td>NaN</td>\n",
              "    </tr>\n",
              "  </tbody>\n",
              "</table>\n",
              "<p>5 rows × 144 columns</p>\n",
              "</div>"
            ],
            "text/plain": [
              "    id  member_id  ...  settlement_percentage  settlement_term\n",
              "0  NaN        NaN  ...                    NaN              NaN\n",
              "1  NaN        NaN  ...                    NaN              NaN\n",
              "2  NaN        NaN  ...                    NaN              NaN\n",
              "3  NaN        NaN  ...                    NaN              NaN\n",
              "4  NaN        NaN  ...                    NaN              NaN\n",
              "\n",
              "[5 rows x 144 columns]"
            ]
          },
          "metadata": {
            "tags": []
          },
          "execution_count": 68
        }
      ]
    },
    {
      "cell_type": "code",
      "metadata": {
        "id": "LyVMqIdk_bJH",
        "colab_type": "code",
        "colab": {
          "base_uri": "https://localhost:8080/",
          "height": 34
        },
        "outputId": "2281cbed-170c-4f72-a85f-413a20f79e07"
      },
      "source": [
        "df.shape"
      ],
      "execution_count": 69,
      "outputs": [
        {
          "output_type": "execute_result",
          "data": {
            "text/plain": [
              "(128414, 144)"
            ]
          },
          "metadata": {
            "tags": []
          },
          "execution_count": 69
        }
      ]
    },
    {
      "cell_type": "markdown",
      "metadata": {
        "id": "CuLO7bhTrY0z",
        "colab_type": "text"
      },
      "source": [
        "Lets look at the NaN values of each column so that you can see the problem that the extra rows at the bottom of the file are creating for us"
      ]
    },
    {
      "cell_type": "code",
      "metadata": {
        "id": "12OtVOd9rdb-",
        "colab_type": "code",
        "colab": {
          "base_uri": "https://localhost:8080/",
          "height": 1000
        },
        "outputId": "5d43ba2c-f699-40c1-a1e4-30e2bf8b5a2b"
      },
      "source": [
        "# Sum null values by column and sort from least to greatest\n",
        "df.isnull().sum().sort_values()"
      ],
      "execution_count": 71,
      "outputs": [
        {
          "output_type": "execute_result",
          "data": {
            "text/plain": [
              "inq_fi                                             2\n",
              "delinq_amnt                                        2\n",
              "chargeoff_within_12_mths                           2\n",
              "acc_open_past_24mths                               2\n",
              "inq_last_12m                                       2\n",
              "total_cu_tl                                        2\n",
              "total_rev_hi_lim                                   2\n",
              "max_bal_bc                                         2\n",
              "open_rv_24m                                        2\n",
              "open_rv_12m                                        2\n",
              "total_bal_il                                       2\n",
              "open_il_24m                                        2\n",
              "hardship_flag                                      2\n",
              "open_act_il                                        2\n",
              "open_acc_6m                                        2\n",
              "tot_cur_bal                                        2\n",
              "tot_coll_amt                                       2\n",
              "acc_now_delinq                                     2\n",
              "application_type                                   2\n",
              "policy_code                                        2\n",
              "mo_sin_old_rev_tl_op                               2\n",
              "mo_sin_rcnt_rev_tl_op                              2\n",
              "mo_sin_rcnt_tl                                     2\n",
              "mort_acc                                           2\n",
              "total_il_high_credit_limit                         2\n",
              "total_bc_limit                                     2\n",
              "total_bal_ex_mort                                  2\n",
              "tot_hi_cred_lim                                    2\n",
              "tax_liens                                          2\n",
              "pub_rec_bankruptcies                               2\n",
              "pct_tl_nvr_dlq                                     2\n",
              "num_tl_op_past_12m                                 2\n",
              "num_tl_90g_dpd_24m                                 2\n",
              "collections_12_mths_ex_med                         2\n",
              "num_tl_30dpd                                       2\n",
              "num_rev_tl_bal_gt_0                                2\n",
              "num_rev_accts                                      2\n",
              "num_op_rev_tl                                      2\n",
              "num_il_tl                                          2\n",
              "num_bc_tl                                          2\n",
              "num_bc_sats                                        2\n",
              "num_actv_rev_tl                                    2\n",
              "num_actv_bc_tl                                     2\n",
              "num_accts_ever_120_pd                              2\n",
              "num_sats                                           2\n",
              "last_pymnt_amnt                                    2\n",
              "open_il_12m                                        2\n",
              "debt_settlement_flag                               2\n",
              "pub_rec                                            2\n",
              "open_acc                                           2\n",
              "grade                                              2\n",
              "sub_grade                                          2\n",
              "home_ownership                                     2\n",
              "inq_last_6mths                                     2\n",
              "annual_inc                                         2\n",
              "verification_status                                2\n",
              "earliest_cr_line                                   2\n",
              "delinq_2yrs                                        2\n",
              "issue_d                                            2\n",
              "addr_state                                         2\n",
              "zip_code                                           2\n",
              "title                                              2\n",
              "loan_status                                        2\n",
              "pymnt_plan                                         2\n",
              "installment                                        2\n",
              "revol_bal                                          2\n",
              "term                                               2\n",
              "collection_recovery_fee                            2\n",
              "loan_amnt                                          2\n",
              "recoveries                                         2\n",
              "total_rec_late_fee                                 2\n",
              "funded_amnt                                        2\n",
              "funded_amnt_inv                                    2\n",
              "total_acc                                          2\n",
              "total_rec_int                                      2\n",
              "purpose                                            2\n",
              "total_rec_prncp                                    2\n",
              "total_pymnt_inv                                    2\n",
              "total_pymnt                                        2\n",
              "out_prncp_inv                                      2\n",
              "out_prncp                                          2\n",
              "initial_list_status                                2\n",
              "int_rate                                           2\n",
              "last_credit_pull_d                                 3\n",
              "avg_cur_bal                                       15\n",
              "all_util                                          39\n",
              "revol_util                                       158\n",
              "last_pymnt_d                                     161\n",
              "dti                                              239\n",
              "mths_since_recent_bc                            1593\n",
              "bc_open_to_buy                                  1693\n",
              "percent_bc_gt_75                                1694\n",
              "bc_util                                         1756\n",
              "num_tl_120dpd_2m                                2861\n",
              "mths_since_rcnt_il                              4480\n",
              "mo_sin_old_il_acct                              4480\n",
              "emp_length                                     11706\n",
              "mths_since_recent_inq                          16049\n",
              "il_util                                        20276\n",
              "emp_title                                      20949\n",
              "next_pymnt_d                                   29646\n",
              "mths_since_last_delinq                         72198\n",
              "mths_since_recent_revol_delinq                 91632\n",
              "mths_since_last_major_derog                    99234\n",
              "mths_since_recent_bc_dlq                      103245\n",
              "sec_app_open_acc                              111632\n",
              "sec_app_mort_acc                              111632\n",
              "sec_app_inq_last_6mths                        111632\n",
              "sec_app_earliest_cr_line                      111632\n",
              "revol_bal_joint                               111632\n",
              "sec_app_open_act_il                           111632\n",
              "annual_inc_joint                              111632\n",
              "dti_joint                                     111632\n",
              "sec_app_collections_12_mths_ex_med            111632\n",
              "sec_app_chargeoff_within_12_mths              111632\n",
              "sec_app_num_rev_accts                         111632\n",
              "sec_app_revol_util                            111890\n",
              "mths_since_last_record                        112964\n",
              "verification_status_joint                     113566\n",
              "sec_app_mths_since_last_major_derog           123260\n",
              "debt_settlement_flag_date                     127859\n",
              "settlement_date                               127859\n",
              "settlement_amount                             127859\n",
              "settlement_status                             127859\n",
              "settlement_term                               127859\n",
              "settlement_percentage                         127859\n",
              "hardship_status                               128132\n",
              "deferral_term                                 128132\n",
              "hardship_amount                               128132\n",
              "hardship_start_date                           128132\n",
              "hardship_end_date                             128132\n",
              "payment_plan_start_date                       128132\n",
              "hardship_length                               128132\n",
              "hardship_dpd                                  128132\n",
              "hardship_loan_status                          128132\n",
              "hardship_reason                               128132\n",
              "hardship_payoff_balance_amount                128132\n",
              "hardship_last_payment_amount                  128132\n",
              "hardship_type                                 128132\n",
              "orig_projected_additional_accrued_interest    128174\n",
              "id                                            128412\n",
              "url                                           128414\n",
              "member_id                                     128414\n",
              "desc                                          128414\n",
              "dtype: int64"
            ]
          },
          "metadata": {
            "tags": []
          },
          "execution_count": 71
        }
      ]
    },
    {
      "cell_type": "code",
      "metadata": {
        "id": "4793LweyroFI",
        "colab_type": "code",
        "colab": {}
      },
      "source": [
        "# Address the extra NaNs in each column by skipping the footer as well."
      ],
      "execution_count": 0,
      "outputs": []
    },
    {
      "cell_type": "code",
      "metadata": {
        "id": "P7w8iGhyr0Bu",
        "colab_type": "code",
        "colab": {
          "base_uri": "https://localhost:8080/",
          "height": 389
        },
        "outputId": "32181f3f-3b30-4a7c-8229-2bec2678b81f"
      },
      "source": [
        "df = pd.read_csv('LoanStats_2018Q4.csv', skiprows=1,skipfooter=2)\n",
        "print(df.shape)\n",
        "df.head()"
      ],
      "execution_count": 72,
      "outputs": [
        {
          "output_type": "stream",
          "text": [
            "/usr/local/lib/python3.6/dist-packages/ipykernel_launcher.py:1: ParserWarning: Falling back to the 'python' engine because the 'c' engine does not support skipfooter; you can avoid this warning by specifying engine='python'.\n",
            "  \"\"\"Entry point for launching an IPython kernel.\n"
          ],
          "name": "stderr"
        },
        {
          "output_type": "stream",
          "text": [
            "(128412, 144)\n"
          ],
          "name": "stdout"
        },
        {
          "output_type": "execute_result",
          "data": {
            "text/html": [
              "<div>\n",
              "<style scoped>\n",
              "    .dataframe tbody tr th:only-of-type {\n",
              "        vertical-align: middle;\n",
              "    }\n",
              "\n",
              "    .dataframe tbody tr th {\n",
              "        vertical-align: top;\n",
              "    }\n",
              "\n",
              "    .dataframe thead th {\n",
              "        text-align: right;\n",
              "    }\n",
              "</style>\n",
              "<table border=\"1\" class=\"dataframe\">\n",
              "  <thead>\n",
              "    <tr style=\"text-align: right;\">\n",
              "      <th></th>\n",
              "      <th>id</th>\n",
              "      <th>member_id</th>\n",
              "      <th>loan_amnt</th>\n",
              "      <th>funded_amnt</th>\n",
              "      <th>funded_amnt_inv</th>\n",
              "      <th>term</th>\n",
              "      <th>int_rate</th>\n",
              "      <th>installment</th>\n",
              "      <th>grade</th>\n",
              "      <th>sub_grade</th>\n",
              "      <th>emp_title</th>\n",
              "      <th>emp_length</th>\n",
              "      <th>home_ownership</th>\n",
              "      <th>annual_inc</th>\n",
              "      <th>verification_status</th>\n",
              "      <th>issue_d</th>\n",
              "      <th>loan_status</th>\n",
              "      <th>pymnt_plan</th>\n",
              "      <th>url</th>\n",
              "      <th>desc</th>\n",
              "      <th>purpose</th>\n",
              "      <th>title</th>\n",
              "      <th>zip_code</th>\n",
              "      <th>addr_state</th>\n",
              "      <th>dti</th>\n",
              "      <th>delinq_2yrs</th>\n",
              "      <th>earliest_cr_line</th>\n",
              "      <th>inq_last_6mths</th>\n",
              "      <th>mths_since_last_delinq</th>\n",
              "      <th>mths_since_last_record</th>\n",
              "      <th>open_acc</th>\n",
              "      <th>pub_rec</th>\n",
              "      <th>revol_bal</th>\n",
              "      <th>revol_util</th>\n",
              "      <th>total_acc</th>\n",
              "      <th>initial_list_status</th>\n",
              "      <th>out_prncp</th>\n",
              "      <th>out_prncp_inv</th>\n",
              "      <th>total_pymnt</th>\n",
              "      <th>total_pymnt_inv</th>\n",
              "      <th>...</th>\n",
              "      <th>percent_bc_gt_75</th>\n",
              "      <th>pub_rec_bankruptcies</th>\n",
              "      <th>tax_liens</th>\n",
              "      <th>tot_hi_cred_lim</th>\n",
              "      <th>total_bal_ex_mort</th>\n",
              "      <th>total_bc_limit</th>\n",
              "      <th>total_il_high_credit_limit</th>\n",
              "      <th>revol_bal_joint</th>\n",
              "      <th>sec_app_earliest_cr_line</th>\n",
              "      <th>sec_app_inq_last_6mths</th>\n",
              "      <th>sec_app_mort_acc</th>\n",
              "      <th>sec_app_open_acc</th>\n",
              "      <th>sec_app_revol_util</th>\n",
              "      <th>sec_app_open_act_il</th>\n",
              "      <th>sec_app_num_rev_accts</th>\n",
              "      <th>sec_app_chargeoff_within_12_mths</th>\n",
              "      <th>sec_app_collections_12_mths_ex_med</th>\n",
              "      <th>sec_app_mths_since_last_major_derog</th>\n",
              "      <th>hardship_flag</th>\n",
              "      <th>hardship_type</th>\n",
              "      <th>hardship_reason</th>\n",
              "      <th>hardship_status</th>\n",
              "      <th>deferral_term</th>\n",
              "      <th>hardship_amount</th>\n",
              "      <th>hardship_start_date</th>\n",
              "      <th>hardship_end_date</th>\n",
              "      <th>payment_plan_start_date</th>\n",
              "      <th>hardship_length</th>\n",
              "      <th>hardship_dpd</th>\n",
              "      <th>hardship_loan_status</th>\n",
              "      <th>orig_projected_additional_accrued_interest</th>\n",
              "      <th>hardship_payoff_balance_amount</th>\n",
              "      <th>hardship_last_payment_amount</th>\n",
              "      <th>debt_settlement_flag</th>\n",
              "      <th>debt_settlement_flag_date</th>\n",
              "      <th>settlement_status</th>\n",
              "      <th>settlement_date</th>\n",
              "      <th>settlement_amount</th>\n",
              "      <th>settlement_percentage</th>\n",
              "      <th>settlement_term</th>\n",
              "    </tr>\n",
              "  </thead>\n",
              "  <tbody>\n",
              "    <tr>\n",
              "      <th>0</th>\n",
              "      <td>NaN</td>\n",
              "      <td>NaN</td>\n",
              "      <td>35000</td>\n",
              "      <td>35000</td>\n",
              "      <td>35000.0</td>\n",
              "      <td>36 months</td>\n",
              "      <td>14.47%</td>\n",
              "      <td>1204.23</td>\n",
              "      <td>C</td>\n",
              "      <td>C2</td>\n",
              "      <td>Staff Physician</td>\n",
              "      <td>8 years</td>\n",
              "      <td>MORTGAGE</td>\n",
              "      <td>360000.0</td>\n",
              "      <td>Verified</td>\n",
              "      <td>Dec-2018</td>\n",
              "      <td>Fully Paid</td>\n",
              "      <td>n</td>\n",
              "      <td>NaN</td>\n",
              "      <td>NaN</td>\n",
              "      <td>credit_card</td>\n",
              "      <td>Credit card refinancing</td>\n",
              "      <td>336xx</td>\n",
              "      <td>FL</td>\n",
              "      <td>19.90</td>\n",
              "      <td>0</td>\n",
              "      <td>Apr-1995</td>\n",
              "      <td>1</td>\n",
              "      <td>NaN</td>\n",
              "      <td>NaN</td>\n",
              "      <td>24</td>\n",
              "      <td>0</td>\n",
              "      <td>57259</td>\n",
              "      <td>43.2%</td>\n",
              "      <td>51</td>\n",
              "      <td>w</td>\n",
              "      <td>0.00</td>\n",
              "      <td>0.00</td>\n",
              "      <td>38187.046837</td>\n",
              "      <td>38187.05</td>\n",
              "      <td>...</td>\n",
              "      <td>30.8</td>\n",
              "      <td>0</td>\n",
              "      <td>0</td>\n",
              "      <td>1222051</td>\n",
              "      <td>169286</td>\n",
              "      <td>124600</td>\n",
              "      <td>258401</td>\n",
              "      <td>NaN</td>\n",
              "      <td>NaN</td>\n",
              "      <td>NaN</td>\n",
              "      <td>NaN</td>\n",
              "      <td>NaN</td>\n",
              "      <td>NaN</td>\n",
              "      <td>NaN</td>\n",
              "      <td>NaN</td>\n",
              "      <td>NaN</td>\n",
              "      <td>NaN</td>\n",
              "      <td>NaN</td>\n",
              "      <td>N</td>\n",
              "      <td>NaN</td>\n",
              "      <td>NaN</td>\n",
              "      <td>NaN</td>\n",
              "      <td>NaN</td>\n",
              "      <td>NaN</td>\n",
              "      <td>NaN</td>\n",
              "      <td>NaN</td>\n",
              "      <td>NaN</td>\n",
              "      <td>NaN</td>\n",
              "      <td>NaN</td>\n",
              "      <td>NaN</td>\n",
              "      <td>NaN</td>\n",
              "      <td>NaN</td>\n",
              "      <td>NaN</td>\n",
              "      <td>N</td>\n",
              "      <td>NaN</td>\n",
              "      <td>NaN</td>\n",
              "      <td>NaN</td>\n",
              "      <td>NaN</td>\n",
              "      <td>NaN</td>\n",
              "      <td>NaN</td>\n",
              "    </tr>\n",
              "    <tr>\n",
              "      <th>1</th>\n",
              "      <td>NaN</td>\n",
              "      <td>NaN</td>\n",
              "      <td>5000</td>\n",
              "      <td>5000</td>\n",
              "      <td>5000.0</td>\n",
              "      <td>36 months</td>\n",
              "      <td>22.35%</td>\n",
              "      <td>191.86</td>\n",
              "      <td>D</td>\n",
              "      <td>D5</td>\n",
              "      <td>Director of Sales</td>\n",
              "      <td>10+ years</td>\n",
              "      <td>MORTGAGE</td>\n",
              "      <td>72000.0</td>\n",
              "      <td>Source Verified</td>\n",
              "      <td>Dec-2018</td>\n",
              "      <td>Fully Paid</td>\n",
              "      <td>n</td>\n",
              "      <td>NaN</td>\n",
              "      <td>NaN</td>\n",
              "      <td>debt_consolidation</td>\n",
              "      <td>Debt consolidation</td>\n",
              "      <td>333xx</td>\n",
              "      <td>FL</td>\n",
              "      <td>20.12</td>\n",
              "      <td>0</td>\n",
              "      <td>Mar-2010</td>\n",
              "      <td>0</td>\n",
              "      <td>NaN</td>\n",
              "      <td>NaN</td>\n",
              "      <td>13</td>\n",
              "      <td>0</td>\n",
              "      <td>11720</td>\n",
              "      <td>47.1%</td>\n",
              "      <td>26</td>\n",
              "      <td>f</td>\n",
              "      <td>0.00</td>\n",
              "      <td>0.00</td>\n",
              "      <td>5615.977674</td>\n",
              "      <td>5615.98</td>\n",
              "      <td>...</td>\n",
              "      <td>50.0</td>\n",
              "      <td>0</td>\n",
              "      <td>0</td>\n",
              "      <td>218686</td>\n",
              "      <td>34418</td>\n",
              "      <td>18200</td>\n",
              "      <td>37786</td>\n",
              "      <td>NaN</td>\n",
              "      <td>NaN</td>\n",
              "      <td>NaN</td>\n",
              "      <td>NaN</td>\n",
              "      <td>NaN</td>\n",
              "      <td>NaN</td>\n",
              "      <td>NaN</td>\n",
              "      <td>NaN</td>\n",
              "      <td>NaN</td>\n",
              "      <td>NaN</td>\n",
              "      <td>NaN</td>\n",
              "      <td>N</td>\n",
              "      <td>NaN</td>\n",
              "      <td>NaN</td>\n",
              "      <td>NaN</td>\n",
              "      <td>NaN</td>\n",
              "      <td>NaN</td>\n",
              "      <td>NaN</td>\n",
              "      <td>NaN</td>\n",
              "      <td>NaN</td>\n",
              "      <td>NaN</td>\n",
              "      <td>NaN</td>\n",
              "      <td>NaN</td>\n",
              "      <td>NaN</td>\n",
              "      <td>NaN</td>\n",
              "      <td>NaN</td>\n",
              "      <td>N</td>\n",
              "      <td>NaN</td>\n",
              "      <td>NaN</td>\n",
              "      <td>NaN</td>\n",
              "      <td>NaN</td>\n",
              "      <td>NaN</td>\n",
              "      <td>NaN</td>\n",
              "    </tr>\n",
              "    <tr>\n",
              "      <th>2</th>\n",
              "      <td>NaN</td>\n",
              "      <td>NaN</td>\n",
              "      <td>10000</td>\n",
              "      <td>10000</td>\n",
              "      <td>10000.0</td>\n",
              "      <td>60 months</td>\n",
              "      <td>23.40%</td>\n",
              "      <td>284.21</td>\n",
              "      <td>E</td>\n",
              "      <td>E1</td>\n",
              "      <td>NaN</td>\n",
              "      <td>&lt; 1 year</td>\n",
              "      <td>RENT</td>\n",
              "      <td>55000.0</td>\n",
              "      <td>Source Verified</td>\n",
              "      <td>Dec-2018</td>\n",
              "      <td>Current</td>\n",
              "      <td>n</td>\n",
              "      <td>NaN</td>\n",
              "      <td>NaN</td>\n",
              "      <td>debt_consolidation</td>\n",
              "      <td>Debt consolidation</td>\n",
              "      <td>902xx</td>\n",
              "      <td>CA</td>\n",
              "      <td>13.51</td>\n",
              "      <td>0</td>\n",
              "      <td>Apr-2007</td>\n",
              "      <td>0</td>\n",
              "      <td>44.0</td>\n",
              "      <td>88.0</td>\n",
              "      <td>9</td>\n",
              "      <td>1</td>\n",
              "      <td>11859</td>\n",
              "      <td>53.9%</td>\n",
              "      <td>11</td>\n",
              "      <td>w</td>\n",
              "      <td>8694.39</td>\n",
              "      <td>8694.39</td>\n",
              "      <td>3675.230000</td>\n",
              "      <td>3675.23</td>\n",
              "      <td>...</td>\n",
              "      <td>100.0</td>\n",
              "      <td>1</td>\n",
              "      <td>0</td>\n",
              "      <td>34386</td>\n",
              "      <td>21235</td>\n",
              "      <td>10500</td>\n",
              "      <td>12386</td>\n",
              "      <td>NaN</td>\n",
              "      <td>NaN</td>\n",
              "      <td>NaN</td>\n",
              "      <td>NaN</td>\n",
              "      <td>NaN</td>\n",
              "      <td>NaN</td>\n",
              "      <td>NaN</td>\n",
              "      <td>NaN</td>\n",
              "      <td>NaN</td>\n",
              "      <td>NaN</td>\n",
              "      <td>NaN</td>\n",
              "      <td>N</td>\n",
              "      <td>NaN</td>\n",
              "      <td>NaN</td>\n",
              "      <td>NaN</td>\n",
              "      <td>NaN</td>\n",
              "      <td>NaN</td>\n",
              "      <td>NaN</td>\n",
              "      <td>NaN</td>\n",
              "      <td>NaN</td>\n",
              "      <td>NaN</td>\n",
              "      <td>NaN</td>\n",
              "      <td>NaN</td>\n",
              "      <td>NaN</td>\n",
              "      <td>NaN</td>\n",
              "      <td>NaN</td>\n",
              "      <td>N</td>\n",
              "      <td>NaN</td>\n",
              "      <td>NaN</td>\n",
              "      <td>NaN</td>\n",
              "      <td>NaN</td>\n",
              "      <td>NaN</td>\n",
              "      <td>NaN</td>\n",
              "    </tr>\n",
              "    <tr>\n",
              "      <th>3</th>\n",
              "      <td>NaN</td>\n",
              "      <td>NaN</td>\n",
              "      <td>17100</td>\n",
              "      <td>17100</td>\n",
              "      <td>17100.0</td>\n",
              "      <td>36 months</td>\n",
              "      <td>18.94%</td>\n",
              "      <td>626.30</td>\n",
              "      <td>D</td>\n",
              "      <td>D2</td>\n",
              "      <td>Receptionist</td>\n",
              "      <td>10+ years</td>\n",
              "      <td>RENT</td>\n",
              "      <td>38000.0</td>\n",
              "      <td>Verified</td>\n",
              "      <td>Dec-2018</td>\n",
              "      <td>Current</td>\n",
              "      <td>n</td>\n",
              "      <td>NaN</td>\n",
              "      <td>NaN</td>\n",
              "      <td>debt_consolidation</td>\n",
              "      <td>Debt consolidation</td>\n",
              "      <td>150xx</td>\n",
              "      <td>PA</td>\n",
              "      <td>38.09</td>\n",
              "      <td>0</td>\n",
              "      <td>Mar-1998</td>\n",
              "      <td>1</td>\n",
              "      <td>47.0</td>\n",
              "      <td>NaN</td>\n",
              "      <td>14</td>\n",
              "      <td>0</td>\n",
              "      <td>15323</td>\n",
              "      <td>53%</td>\n",
              "      <td>21</td>\n",
              "      <td>w</td>\n",
              "      <td>12001.54</td>\n",
              "      <td>12001.54</td>\n",
              "      <td>8114.910000</td>\n",
              "      <td>8114.91</td>\n",
              "      <td>...</td>\n",
              "      <td>75.0</td>\n",
              "      <td>0</td>\n",
              "      <td>0</td>\n",
              "      <td>70954</td>\n",
              "      <td>43351</td>\n",
              "      <td>16600</td>\n",
              "      <td>41784</td>\n",
              "      <td>NaN</td>\n",
              "      <td>NaN</td>\n",
              "      <td>NaN</td>\n",
              "      <td>NaN</td>\n",
              "      <td>NaN</td>\n",
              "      <td>NaN</td>\n",
              "      <td>NaN</td>\n",
              "      <td>NaN</td>\n",
              "      <td>NaN</td>\n",
              "      <td>NaN</td>\n",
              "      <td>NaN</td>\n",
              "      <td>N</td>\n",
              "      <td>NaN</td>\n",
              "      <td>NaN</td>\n",
              "      <td>NaN</td>\n",
              "      <td>NaN</td>\n",
              "      <td>NaN</td>\n",
              "      <td>NaN</td>\n",
              "      <td>NaN</td>\n",
              "      <td>NaN</td>\n",
              "      <td>NaN</td>\n",
              "      <td>NaN</td>\n",
              "      <td>NaN</td>\n",
              "      <td>NaN</td>\n",
              "      <td>NaN</td>\n",
              "      <td>NaN</td>\n",
              "      <td>N</td>\n",
              "      <td>NaN</td>\n",
              "      <td>NaN</td>\n",
              "      <td>NaN</td>\n",
              "      <td>NaN</td>\n",
              "      <td>NaN</td>\n",
              "      <td>NaN</td>\n",
              "    </tr>\n",
              "    <tr>\n",
              "      <th>4</th>\n",
              "      <td>NaN</td>\n",
              "      <td>NaN</td>\n",
              "      <td>4000</td>\n",
              "      <td>4000</td>\n",
              "      <td>4000.0</td>\n",
              "      <td>36 months</td>\n",
              "      <td>10.72%</td>\n",
              "      <td>130.43</td>\n",
              "      <td>B</td>\n",
              "      <td>B2</td>\n",
              "      <td>Extrusion assistant</td>\n",
              "      <td>10+ years</td>\n",
              "      <td>MORTGAGE</td>\n",
              "      <td>56000.0</td>\n",
              "      <td>Verified</td>\n",
              "      <td>Dec-2018</td>\n",
              "      <td>Current</td>\n",
              "      <td>n</td>\n",
              "      <td>NaN</td>\n",
              "      <td>NaN</td>\n",
              "      <td>credit_card</td>\n",
              "      <td>Credit card refinancing</td>\n",
              "      <td>301xx</td>\n",
              "      <td>GA</td>\n",
              "      <td>31.03</td>\n",
              "      <td>0</td>\n",
              "      <td>Sep-2006</td>\n",
              "      <td>0</td>\n",
              "      <td>NaN</td>\n",
              "      <td>NaN</td>\n",
              "      <td>7</td>\n",
              "      <td>0</td>\n",
              "      <td>4518</td>\n",
              "      <td>28.6%</td>\n",
              "      <td>11</td>\n",
              "      <td>w</td>\n",
              "      <td>2700.74</td>\n",
              "      <td>2700.74</td>\n",
              "      <td>1682.500000</td>\n",
              "      <td>1682.50</td>\n",
              "      <td>...</td>\n",
              "      <td>0.0</td>\n",
              "      <td>0</td>\n",
              "      <td>0</td>\n",
              "      <td>221310</td>\n",
              "      <td>71375</td>\n",
              "      <td>12300</td>\n",
              "      <td>77865</td>\n",
              "      <td>NaN</td>\n",
              "      <td>NaN</td>\n",
              "      <td>NaN</td>\n",
              "      <td>NaN</td>\n",
              "      <td>NaN</td>\n",
              "      <td>NaN</td>\n",
              "      <td>NaN</td>\n",
              "      <td>NaN</td>\n",
              "      <td>NaN</td>\n",
              "      <td>NaN</td>\n",
              "      <td>NaN</td>\n",
              "      <td>N</td>\n",
              "      <td>NaN</td>\n",
              "      <td>NaN</td>\n",
              "      <td>NaN</td>\n",
              "      <td>NaN</td>\n",
              "      <td>NaN</td>\n",
              "      <td>NaN</td>\n",
              "      <td>NaN</td>\n",
              "      <td>NaN</td>\n",
              "      <td>NaN</td>\n",
              "      <td>NaN</td>\n",
              "      <td>NaN</td>\n",
              "      <td>NaN</td>\n",
              "      <td>NaN</td>\n",
              "      <td>NaN</td>\n",
              "      <td>N</td>\n",
              "      <td>NaN</td>\n",
              "      <td>NaN</td>\n",
              "      <td>NaN</td>\n",
              "      <td>NaN</td>\n",
              "      <td>NaN</td>\n",
              "      <td>NaN</td>\n",
              "    </tr>\n",
              "  </tbody>\n",
              "</table>\n",
              "<p>5 rows × 144 columns</p>\n",
              "</div>"
            ],
            "text/plain": [
              "   id  member_id  ...  settlement_percentage  settlement_term\n",
              "0 NaN        NaN  ...                    NaN              NaN\n",
              "1 NaN        NaN  ...                    NaN              NaN\n",
              "2 NaN        NaN  ...                    NaN              NaN\n",
              "3 NaN        NaN  ...                    NaN              NaN\n",
              "4 NaN        NaN  ...                    NaN              NaN\n",
              "\n",
              "[5 rows x 144 columns]"
            ]
          },
          "metadata": {
            "tags": []
          },
          "execution_count": 72
        }
      ]
    },
    {
      "cell_type": "code",
      "metadata": {
        "id": "7seealsFA9lK",
        "colab_type": "code",
        "colab": {
          "base_uri": "https://localhost:8080/",
          "height": 1000
        },
        "outputId": "033dca52-8d8e-41fe-caa5-787e01b8dee4"
      },
      "source": [
        "df.isnull().sum().sort_values()"
      ],
      "execution_count": 73,
      "outputs": [
        {
          "output_type": "execute_result",
          "data": {
            "text/plain": [
              "inq_fi                                             0\n",
              "delinq_amnt                                        0\n",
              "chargeoff_within_12_mths                           0\n",
              "acc_open_past_24mths                               0\n",
              "inq_last_12m                                       0\n",
              "total_cu_tl                                        0\n",
              "total_rev_hi_lim                                   0\n",
              "max_bal_bc                                         0\n",
              "open_rv_24m                                        0\n",
              "open_rv_12m                                        0\n",
              "total_bal_il                                       0\n",
              "open_il_24m                                        0\n",
              "hardship_flag                                      0\n",
              "open_act_il                                        0\n",
              "open_acc_6m                                        0\n",
              "tot_cur_bal                                        0\n",
              "tot_coll_amt                                       0\n",
              "acc_now_delinq                                     0\n",
              "application_type                                   0\n",
              "policy_code                                        0\n",
              "mo_sin_old_rev_tl_op                               0\n",
              "mo_sin_rcnt_rev_tl_op                              0\n",
              "mo_sin_rcnt_tl                                     0\n",
              "mort_acc                                           0\n",
              "total_il_high_credit_limit                         0\n",
              "total_bc_limit                                     0\n",
              "total_bal_ex_mort                                  0\n",
              "tot_hi_cred_lim                                    0\n",
              "tax_liens                                          0\n",
              "pub_rec_bankruptcies                               0\n",
              "pct_tl_nvr_dlq                                     0\n",
              "num_tl_op_past_12m                                 0\n",
              "num_tl_90g_dpd_24m                                 0\n",
              "collections_12_mths_ex_med                         0\n",
              "num_tl_30dpd                                       0\n",
              "num_rev_tl_bal_gt_0                                0\n",
              "num_rev_accts                                      0\n",
              "num_op_rev_tl                                      0\n",
              "num_il_tl                                          0\n",
              "num_bc_tl                                          0\n",
              "num_bc_sats                                        0\n",
              "num_actv_rev_tl                                    0\n",
              "num_actv_bc_tl                                     0\n",
              "num_accts_ever_120_pd                              0\n",
              "num_sats                                           0\n",
              "last_pymnt_amnt                                    0\n",
              "open_il_12m                                        0\n",
              "debt_settlement_flag                               0\n",
              "pub_rec                                            0\n",
              "open_acc                                           0\n",
              "grade                                              0\n",
              "sub_grade                                          0\n",
              "home_ownership                                     0\n",
              "inq_last_6mths                                     0\n",
              "annual_inc                                         0\n",
              "verification_status                                0\n",
              "earliest_cr_line                                   0\n",
              "delinq_2yrs                                        0\n",
              "issue_d                                            0\n",
              "addr_state                                         0\n",
              "zip_code                                           0\n",
              "title                                              0\n",
              "loan_status                                        0\n",
              "pymnt_plan                                         0\n",
              "installment                                        0\n",
              "revol_bal                                          0\n",
              "term                                               0\n",
              "collection_recovery_fee                            0\n",
              "loan_amnt                                          0\n",
              "recoveries                                         0\n",
              "total_rec_late_fee                                 0\n",
              "funded_amnt                                        0\n",
              "funded_amnt_inv                                    0\n",
              "total_acc                                          0\n",
              "total_rec_int                                      0\n",
              "purpose                                            0\n",
              "total_rec_prncp                                    0\n",
              "total_pymnt_inv                                    0\n",
              "total_pymnt                                        0\n",
              "out_prncp_inv                                      0\n",
              "out_prncp                                          0\n",
              "initial_list_status                                0\n",
              "int_rate                                           0\n",
              "last_credit_pull_d                                 1\n",
              "avg_cur_bal                                       13\n",
              "all_util                                          37\n",
              "revol_util                                       156\n",
              "last_pymnt_d                                     159\n",
              "dti                                              237\n",
              "mths_since_recent_bc                            1591\n",
              "bc_open_to_buy                                  1691\n",
              "percent_bc_gt_75                                1692\n",
              "bc_util                                         1754\n",
              "num_tl_120dpd_2m                                2859\n",
              "mths_since_rcnt_il                              4478\n",
              "mo_sin_old_il_acct                              4478\n",
              "emp_length                                     11704\n",
              "mths_since_recent_inq                          16047\n",
              "il_util                                        20274\n",
              "emp_title                                      20947\n",
              "next_pymnt_d                                   29644\n",
              "mths_since_last_delinq                         72196\n",
              "mths_since_recent_revol_delinq                 91630\n",
              "mths_since_last_major_derog                    99232\n",
              "mths_since_recent_bc_dlq                      103243\n",
              "sec_app_open_acc                              111630\n",
              "sec_app_mort_acc                              111630\n",
              "sec_app_inq_last_6mths                        111630\n",
              "sec_app_earliest_cr_line                      111630\n",
              "revol_bal_joint                               111630\n",
              "sec_app_open_act_il                           111630\n",
              "annual_inc_joint                              111630\n",
              "dti_joint                                     111630\n",
              "sec_app_collections_12_mths_ex_med            111630\n",
              "sec_app_chargeoff_within_12_mths              111630\n",
              "sec_app_num_rev_accts                         111630\n",
              "sec_app_revol_util                            111888\n",
              "mths_since_last_record                        112962\n",
              "verification_status_joint                     113564\n",
              "sec_app_mths_since_last_major_derog           123258\n",
              "debt_settlement_flag_date                     127857\n",
              "settlement_date                               127857\n",
              "settlement_amount                             127857\n",
              "settlement_status                             127857\n",
              "settlement_term                               127857\n",
              "settlement_percentage                         127857\n",
              "hardship_status                               128130\n",
              "deferral_term                                 128130\n",
              "hardship_amount                               128130\n",
              "hardship_start_date                           128130\n",
              "hardship_end_date                             128130\n",
              "payment_plan_start_date                       128130\n",
              "hardship_length                               128130\n",
              "hardship_dpd                                  128130\n",
              "hardship_loan_status                          128130\n",
              "hardship_reason                               128130\n",
              "hardship_payoff_balance_amount                128130\n",
              "hardship_last_payment_amount                  128130\n",
              "hardship_type                                 128130\n",
              "orig_projected_additional_accrued_interest    128172\n",
              "url                                           128412\n",
              "member_id                                     128412\n",
              "desc                                          128412\n",
              "id                                            128412\n",
              "dtype: int64"
            ]
          },
          "metadata": {
            "tags": []
          },
          "execution_count": 73
        }
      ]
    },
    {
      "cell_type": "markdown",
      "metadata": {
        "id": "XzPuC7jUstVF",
        "colab_type": "text"
      },
      "source": [
        "For good measure, we'll also drop some columns that are made up completely of NaN values.\n",
        "\n",
        "Why might LendingClub have included columns in their dataset that are 100% blank?"
      ]
    },
    {
      "cell_type": "code",
      "metadata": {
        "id": "HubXTHZ3sj6n",
        "colab_type": "code",
        "colab": {}
      },
      "source": [
        "df = df.drop(['url','member_id','desc','id'], axis=1)"
      ],
      "execution_count": 0,
      "outputs": []
    },
    {
      "cell_type": "code",
      "metadata": {
        "id": "kYCp2UN3BdXb",
        "colab_type": "code",
        "colab": {
          "base_uri": "https://localhost:8080/",
          "height": 338
        },
        "outputId": "79709303-868b-40b0-d7d5-51aac5e83fd5"
      },
      "source": [
        "df.head()"
      ],
      "execution_count": 75,
      "outputs": [
        {
          "output_type": "execute_result",
          "data": {
            "text/html": [
              "<div>\n",
              "<style scoped>\n",
              "    .dataframe tbody tr th:only-of-type {\n",
              "        vertical-align: middle;\n",
              "    }\n",
              "\n",
              "    .dataframe tbody tr th {\n",
              "        vertical-align: top;\n",
              "    }\n",
              "\n",
              "    .dataframe thead th {\n",
              "        text-align: right;\n",
              "    }\n",
              "</style>\n",
              "<table border=\"1\" class=\"dataframe\">\n",
              "  <thead>\n",
              "    <tr style=\"text-align: right;\">\n",
              "      <th></th>\n",
              "      <th>loan_amnt</th>\n",
              "      <th>funded_amnt</th>\n",
              "      <th>funded_amnt_inv</th>\n",
              "      <th>term</th>\n",
              "      <th>int_rate</th>\n",
              "      <th>installment</th>\n",
              "      <th>grade</th>\n",
              "      <th>sub_grade</th>\n",
              "      <th>emp_title</th>\n",
              "      <th>emp_length</th>\n",
              "      <th>home_ownership</th>\n",
              "      <th>annual_inc</th>\n",
              "      <th>verification_status</th>\n",
              "      <th>issue_d</th>\n",
              "      <th>loan_status</th>\n",
              "      <th>pymnt_plan</th>\n",
              "      <th>purpose</th>\n",
              "      <th>title</th>\n",
              "      <th>zip_code</th>\n",
              "      <th>addr_state</th>\n",
              "      <th>dti</th>\n",
              "      <th>delinq_2yrs</th>\n",
              "      <th>earliest_cr_line</th>\n",
              "      <th>inq_last_6mths</th>\n",
              "      <th>mths_since_last_delinq</th>\n",
              "      <th>mths_since_last_record</th>\n",
              "      <th>open_acc</th>\n",
              "      <th>pub_rec</th>\n",
              "      <th>revol_bal</th>\n",
              "      <th>revol_util</th>\n",
              "      <th>total_acc</th>\n",
              "      <th>initial_list_status</th>\n",
              "      <th>out_prncp</th>\n",
              "      <th>out_prncp_inv</th>\n",
              "      <th>total_pymnt</th>\n",
              "      <th>total_pymnt_inv</th>\n",
              "      <th>total_rec_prncp</th>\n",
              "      <th>total_rec_int</th>\n",
              "      <th>total_rec_late_fee</th>\n",
              "      <th>recoveries</th>\n",
              "      <th>...</th>\n",
              "      <th>percent_bc_gt_75</th>\n",
              "      <th>pub_rec_bankruptcies</th>\n",
              "      <th>tax_liens</th>\n",
              "      <th>tot_hi_cred_lim</th>\n",
              "      <th>total_bal_ex_mort</th>\n",
              "      <th>total_bc_limit</th>\n",
              "      <th>total_il_high_credit_limit</th>\n",
              "      <th>revol_bal_joint</th>\n",
              "      <th>sec_app_earliest_cr_line</th>\n",
              "      <th>sec_app_inq_last_6mths</th>\n",
              "      <th>sec_app_mort_acc</th>\n",
              "      <th>sec_app_open_acc</th>\n",
              "      <th>sec_app_revol_util</th>\n",
              "      <th>sec_app_open_act_il</th>\n",
              "      <th>sec_app_num_rev_accts</th>\n",
              "      <th>sec_app_chargeoff_within_12_mths</th>\n",
              "      <th>sec_app_collections_12_mths_ex_med</th>\n",
              "      <th>sec_app_mths_since_last_major_derog</th>\n",
              "      <th>hardship_flag</th>\n",
              "      <th>hardship_type</th>\n",
              "      <th>hardship_reason</th>\n",
              "      <th>hardship_status</th>\n",
              "      <th>deferral_term</th>\n",
              "      <th>hardship_amount</th>\n",
              "      <th>hardship_start_date</th>\n",
              "      <th>hardship_end_date</th>\n",
              "      <th>payment_plan_start_date</th>\n",
              "      <th>hardship_length</th>\n",
              "      <th>hardship_dpd</th>\n",
              "      <th>hardship_loan_status</th>\n",
              "      <th>orig_projected_additional_accrued_interest</th>\n",
              "      <th>hardship_payoff_balance_amount</th>\n",
              "      <th>hardship_last_payment_amount</th>\n",
              "      <th>debt_settlement_flag</th>\n",
              "      <th>debt_settlement_flag_date</th>\n",
              "      <th>settlement_status</th>\n",
              "      <th>settlement_date</th>\n",
              "      <th>settlement_amount</th>\n",
              "      <th>settlement_percentage</th>\n",
              "      <th>settlement_term</th>\n",
              "    </tr>\n",
              "  </thead>\n",
              "  <tbody>\n",
              "    <tr>\n",
              "      <th>0</th>\n",
              "      <td>35000</td>\n",
              "      <td>35000</td>\n",
              "      <td>35000.0</td>\n",
              "      <td>36 months</td>\n",
              "      <td>14.47%</td>\n",
              "      <td>1204.23</td>\n",
              "      <td>C</td>\n",
              "      <td>C2</td>\n",
              "      <td>Staff Physician</td>\n",
              "      <td>8 years</td>\n",
              "      <td>MORTGAGE</td>\n",
              "      <td>360000.0</td>\n",
              "      <td>Verified</td>\n",
              "      <td>Dec-2018</td>\n",
              "      <td>Fully Paid</td>\n",
              "      <td>n</td>\n",
              "      <td>credit_card</td>\n",
              "      <td>Credit card refinancing</td>\n",
              "      <td>336xx</td>\n",
              "      <td>FL</td>\n",
              "      <td>19.90</td>\n",
              "      <td>0</td>\n",
              "      <td>Apr-1995</td>\n",
              "      <td>1</td>\n",
              "      <td>NaN</td>\n",
              "      <td>NaN</td>\n",
              "      <td>24</td>\n",
              "      <td>0</td>\n",
              "      <td>57259</td>\n",
              "      <td>43.2%</td>\n",
              "      <td>51</td>\n",
              "      <td>w</td>\n",
              "      <td>0.00</td>\n",
              "      <td>0.00</td>\n",
              "      <td>38187.046837</td>\n",
              "      <td>38187.05</td>\n",
              "      <td>35000.00</td>\n",
              "      <td>3187.05</td>\n",
              "      <td>0.0</td>\n",
              "      <td>0.0</td>\n",
              "      <td>...</td>\n",
              "      <td>30.8</td>\n",
              "      <td>0</td>\n",
              "      <td>0</td>\n",
              "      <td>1222051</td>\n",
              "      <td>169286</td>\n",
              "      <td>124600</td>\n",
              "      <td>258401</td>\n",
              "      <td>NaN</td>\n",
              "      <td>NaN</td>\n",
              "      <td>NaN</td>\n",
              "      <td>NaN</td>\n",
              "      <td>NaN</td>\n",
              "      <td>NaN</td>\n",
              "      <td>NaN</td>\n",
              "      <td>NaN</td>\n",
              "      <td>NaN</td>\n",
              "      <td>NaN</td>\n",
              "      <td>NaN</td>\n",
              "      <td>N</td>\n",
              "      <td>NaN</td>\n",
              "      <td>NaN</td>\n",
              "      <td>NaN</td>\n",
              "      <td>NaN</td>\n",
              "      <td>NaN</td>\n",
              "      <td>NaN</td>\n",
              "      <td>NaN</td>\n",
              "      <td>NaN</td>\n",
              "      <td>NaN</td>\n",
              "      <td>NaN</td>\n",
              "      <td>NaN</td>\n",
              "      <td>NaN</td>\n",
              "      <td>NaN</td>\n",
              "      <td>NaN</td>\n",
              "      <td>N</td>\n",
              "      <td>NaN</td>\n",
              "      <td>NaN</td>\n",
              "      <td>NaN</td>\n",
              "      <td>NaN</td>\n",
              "      <td>NaN</td>\n",
              "      <td>NaN</td>\n",
              "    </tr>\n",
              "    <tr>\n",
              "      <th>1</th>\n",
              "      <td>5000</td>\n",
              "      <td>5000</td>\n",
              "      <td>5000.0</td>\n",
              "      <td>36 months</td>\n",
              "      <td>22.35%</td>\n",
              "      <td>191.86</td>\n",
              "      <td>D</td>\n",
              "      <td>D5</td>\n",
              "      <td>Director of Sales</td>\n",
              "      <td>10+ years</td>\n",
              "      <td>MORTGAGE</td>\n",
              "      <td>72000.0</td>\n",
              "      <td>Source Verified</td>\n",
              "      <td>Dec-2018</td>\n",
              "      <td>Fully Paid</td>\n",
              "      <td>n</td>\n",
              "      <td>debt_consolidation</td>\n",
              "      <td>Debt consolidation</td>\n",
              "      <td>333xx</td>\n",
              "      <td>FL</td>\n",
              "      <td>20.12</td>\n",
              "      <td>0</td>\n",
              "      <td>Mar-2010</td>\n",
              "      <td>0</td>\n",
              "      <td>NaN</td>\n",
              "      <td>NaN</td>\n",
              "      <td>13</td>\n",
              "      <td>0</td>\n",
              "      <td>11720</td>\n",
              "      <td>47.1%</td>\n",
              "      <td>26</td>\n",
              "      <td>f</td>\n",
              "      <td>0.00</td>\n",
              "      <td>0.00</td>\n",
              "      <td>5615.977674</td>\n",
              "      <td>5615.98</td>\n",
              "      <td>5000.00</td>\n",
              "      <td>615.98</td>\n",
              "      <td>0.0</td>\n",
              "      <td>0.0</td>\n",
              "      <td>...</td>\n",
              "      <td>50.0</td>\n",
              "      <td>0</td>\n",
              "      <td>0</td>\n",
              "      <td>218686</td>\n",
              "      <td>34418</td>\n",
              "      <td>18200</td>\n",
              "      <td>37786</td>\n",
              "      <td>NaN</td>\n",
              "      <td>NaN</td>\n",
              "      <td>NaN</td>\n",
              "      <td>NaN</td>\n",
              "      <td>NaN</td>\n",
              "      <td>NaN</td>\n",
              "      <td>NaN</td>\n",
              "      <td>NaN</td>\n",
              "      <td>NaN</td>\n",
              "      <td>NaN</td>\n",
              "      <td>NaN</td>\n",
              "      <td>N</td>\n",
              "      <td>NaN</td>\n",
              "      <td>NaN</td>\n",
              "      <td>NaN</td>\n",
              "      <td>NaN</td>\n",
              "      <td>NaN</td>\n",
              "      <td>NaN</td>\n",
              "      <td>NaN</td>\n",
              "      <td>NaN</td>\n",
              "      <td>NaN</td>\n",
              "      <td>NaN</td>\n",
              "      <td>NaN</td>\n",
              "      <td>NaN</td>\n",
              "      <td>NaN</td>\n",
              "      <td>NaN</td>\n",
              "      <td>N</td>\n",
              "      <td>NaN</td>\n",
              "      <td>NaN</td>\n",
              "      <td>NaN</td>\n",
              "      <td>NaN</td>\n",
              "      <td>NaN</td>\n",
              "      <td>NaN</td>\n",
              "    </tr>\n",
              "    <tr>\n",
              "      <th>2</th>\n",
              "      <td>10000</td>\n",
              "      <td>10000</td>\n",
              "      <td>10000.0</td>\n",
              "      <td>60 months</td>\n",
              "      <td>23.40%</td>\n",
              "      <td>284.21</td>\n",
              "      <td>E</td>\n",
              "      <td>E1</td>\n",
              "      <td>NaN</td>\n",
              "      <td>&lt; 1 year</td>\n",
              "      <td>RENT</td>\n",
              "      <td>55000.0</td>\n",
              "      <td>Source Verified</td>\n",
              "      <td>Dec-2018</td>\n",
              "      <td>Current</td>\n",
              "      <td>n</td>\n",
              "      <td>debt_consolidation</td>\n",
              "      <td>Debt consolidation</td>\n",
              "      <td>902xx</td>\n",
              "      <td>CA</td>\n",
              "      <td>13.51</td>\n",
              "      <td>0</td>\n",
              "      <td>Apr-2007</td>\n",
              "      <td>0</td>\n",
              "      <td>44.0</td>\n",
              "      <td>88.0</td>\n",
              "      <td>9</td>\n",
              "      <td>1</td>\n",
              "      <td>11859</td>\n",
              "      <td>53.9%</td>\n",
              "      <td>11</td>\n",
              "      <td>w</td>\n",
              "      <td>8694.39</td>\n",
              "      <td>8694.39</td>\n",
              "      <td>3675.230000</td>\n",
              "      <td>3675.23</td>\n",
              "      <td>1305.61</td>\n",
              "      <td>2369.62</td>\n",
              "      <td>0.0</td>\n",
              "      <td>0.0</td>\n",
              "      <td>...</td>\n",
              "      <td>100.0</td>\n",
              "      <td>1</td>\n",
              "      <td>0</td>\n",
              "      <td>34386</td>\n",
              "      <td>21235</td>\n",
              "      <td>10500</td>\n",
              "      <td>12386</td>\n",
              "      <td>NaN</td>\n",
              "      <td>NaN</td>\n",
              "      <td>NaN</td>\n",
              "      <td>NaN</td>\n",
              "      <td>NaN</td>\n",
              "      <td>NaN</td>\n",
              "      <td>NaN</td>\n",
              "      <td>NaN</td>\n",
              "      <td>NaN</td>\n",
              "      <td>NaN</td>\n",
              "      <td>NaN</td>\n",
              "      <td>N</td>\n",
              "      <td>NaN</td>\n",
              "      <td>NaN</td>\n",
              "      <td>NaN</td>\n",
              "      <td>NaN</td>\n",
              "      <td>NaN</td>\n",
              "      <td>NaN</td>\n",
              "      <td>NaN</td>\n",
              "      <td>NaN</td>\n",
              "      <td>NaN</td>\n",
              "      <td>NaN</td>\n",
              "      <td>NaN</td>\n",
              "      <td>NaN</td>\n",
              "      <td>NaN</td>\n",
              "      <td>NaN</td>\n",
              "      <td>N</td>\n",
              "      <td>NaN</td>\n",
              "      <td>NaN</td>\n",
              "      <td>NaN</td>\n",
              "      <td>NaN</td>\n",
              "      <td>NaN</td>\n",
              "      <td>NaN</td>\n",
              "    </tr>\n",
              "    <tr>\n",
              "      <th>3</th>\n",
              "      <td>17100</td>\n",
              "      <td>17100</td>\n",
              "      <td>17100.0</td>\n",
              "      <td>36 months</td>\n",
              "      <td>18.94%</td>\n",
              "      <td>626.30</td>\n",
              "      <td>D</td>\n",
              "      <td>D2</td>\n",
              "      <td>Receptionist</td>\n",
              "      <td>10+ years</td>\n",
              "      <td>RENT</td>\n",
              "      <td>38000.0</td>\n",
              "      <td>Verified</td>\n",
              "      <td>Dec-2018</td>\n",
              "      <td>Current</td>\n",
              "      <td>n</td>\n",
              "      <td>debt_consolidation</td>\n",
              "      <td>Debt consolidation</td>\n",
              "      <td>150xx</td>\n",
              "      <td>PA</td>\n",
              "      <td>38.09</td>\n",
              "      <td>0</td>\n",
              "      <td>Mar-1998</td>\n",
              "      <td>1</td>\n",
              "      <td>47.0</td>\n",
              "      <td>NaN</td>\n",
              "      <td>14</td>\n",
              "      <td>0</td>\n",
              "      <td>15323</td>\n",
              "      <td>53%</td>\n",
              "      <td>21</td>\n",
              "      <td>w</td>\n",
              "      <td>12001.54</td>\n",
              "      <td>12001.54</td>\n",
              "      <td>8114.910000</td>\n",
              "      <td>8114.91</td>\n",
              "      <td>5098.46</td>\n",
              "      <td>3016.45</td>\n",
              "      <td>0.0</td>\n",
              "      <td>0.0</td>\n",
              "      <td>...</td>\n",
              "      <td>75.0</td>\n",
              "      <td>0</td>\n",
              "      <td>0</td>\n",
              "      <td>70954</td>\n",
              "      <td>43351</td>\n",
              "      <td>16600</td>\n",
              "      <td>41784</td>\n",
              "      <td>NaN</td>\n",
              "      <td>NaN</td>\n",
              "      <td>NaN</td>\n",
              "      <td>NaN</td>\n",
              "      <td>NaN</td>\n",
              "      <td>NaN</td>\n",
              "      <td>NaN</td>\n",
              "      <td>NaN</td>\n",
              "      <td>NaN</td>\n",
              "      <td>NaN</td>\n",
              "      <td>NaN</td>\n",
              "      <td>N</td>\n",
              "      <td>NaN</td>\n",
              "      <td>NaN</td>\n",
              "      <td>NaN</td>\n",
              "      <td>NaN</td>\n",
              "      <td>NaN</td>\n",
              "      <td>NaN</td>\n",
              "      <td>NaN</td>\n",
              "      <td>NaN</td>\n",
              "      <td>NaN</td>\n",
              "      <td>NaN</td>\n",
              "      <td>NaN</td>\n",
              "      <td>NaN</td>\n",
              "      <td>NaN</td>\n",
              "      <td>NaN</td>\n",
              "      <td>N</td>\n",
              "      <td>NaN</td>\n",
              "      <td>NaN</td>\n",
              "      <td>NaN</td>\n",
              "      <td>NaN</td>\n",
              "      <td>NaN</td>\n",
              "      <td>NaN</td>\n",
              "    </tr>\n",
              "    <tr>\n",
              "      <th>4</th>\n",
              "      <td>4000</td>\n",
              "      <td>4000</td>\n",
              "      <td>4000.0</td>\n",
              "      <td>36 months</td>\n",
              "      <td>10.72%</td>\n",
              "      <td>130.43</td>\n",
              "      <td>B</td>\n",
              "      <td>B2</td>\n",
              "      <td>Extrusion assistant</td>\n",
              "      <td>10+ years</td>\n",
              "      <td>MORTGAGE</td>\n",
              "      <td>56000.0</td>\n",
              "      <td>Verified</td>\n",
              "      <td>Dec-2018</td>\n",
              "      <td>Current</td>\n",
              "      <td>n</td>\n",
              "      <td>credit_card</td>\n",
              "      <td>Credit card refinancing</td>\n",
              "      <td>301xx</td>\n",
              "      <td>GA</td>\n",
              "      <td>31.03</td>\n",
              "      <td>0</td>\n",
              "      <td>Sep-2006</td>\n",
              "      <td>0</td>\n",
              "      <td>NaN</td>\n",
              "      <td>NaN</td>\n",
              "      <td>7</td>\n",
              "      <td>0</td>\n",
              "      <td>4518</td>\n",
              "      <td>28.6%</td>\n",
              "      <td>11</td>\n",
              "      <td>w</td>\n",
              "      <td>2700.74</td>\n",
              "      <td>2700.74</td>\n",
              "      <td>1682.500000</td>\n",
              "      <td>1682.50</td>\n",
              "      <td>1299.26</td>\n",
              "      <td>383.24</td>\n",
              "      <td>0.0</td>\n",
              "      <td>0.0</td>\n",
              "      <td>...</td>\n",
              "      <td>0.0</td>\n",
              "      <td>0</td>\n",
              "      <td>0</td>\n",
              "      <td>221310</td>\n",
              "      <td>71375</td>\n",
              "      <td>12300</td>\n",
              "      <td>77865</td>\n",
              "      <td>NaN</td>\n",
              "      <td>NaN</td>\n",
              "      <td>NaN</td>\n",
              "      <td>NaN</td>\n",
              "      <td>NaN</td>\n",
              "      <td>NaN</td>\n",
              "      <td>NaN</td>\n",
              "      <td>NaN</td>\n",
              "      <td>NaN</td>\n",
              "      <td>NaN</td>\n",
              "      <td>NaN</td>\n",
              "      <td>N</td>\n",
              "      <td>NaN</td>\n",
              "      <td>NaN</td>\n",
              "      <td>NaN</td>\n",
              "      <td>NaN</td>\n",
              "      <td>NaN</td>\n",
              "      <td>NaN</td>\n",
              "      <td>NaN</td>\n",
              "      <td>NaN</td>\n",
              "      <td>NaN</td>\n",
              "      <td>NaN</td>\n",
              "      <td>NaN</td>\n",
              "      <td>NaN</td>\n",
              "      <td>NaN</td>\n",
              "      <td>NaN</td>\n",
              "      <td>N</td>\n",
              "      <td>NaN</td>\n",
              "      <td>NaN</td>\n",
              "      <td>NaN</td>\n",
              "      <td>NaN</td>\n",
              "      <td>NaN</td>\n",
              "      <td>NaN</td>\n",
              "    </tr>\n",
              "  </tbody>\n",
              "</table>\n",
              "<p>5 rows × 140 columns</p>\n",
              "</div>"
            ],
            "text/plain": [
              "   loan_amnt  funded_amnt  ...  settlement_percentage settlement_term\n",
              "0      35000        35000  ...                    NaN             NaN\n",
              "1       5000         5000  ...                    NaN             NaN\n",
              "2      10000        10000  ...                    NaN             NaN\n",
              "3      17100        17100  ...                    NaN             NaN\n",
              "4       4000         4000  ...                    NaN             NaN\n",
              "\n",
              "[5 rows x 140 columns]"
            ]
          },
          "metadata": {
            "tags": []
          },
          "execution_count": 75
        }
      ]
    },
    {
      "cell_type": "markdown",
      "metadata": {
        "id": "87lzDxnCr_6j",
        "colab_type": "text"
      },
      "source": [
        "### Clean up the `int_rate` column\n",
        "\n",
        "When we're preparing a dataset for a machine learning model we typically want to represent don't want to leave any string values in our dataset --because it's hard to do math on words. \n",
        "\n",
        "Specifically, we have a column that is representing a numeric value, but currently doesn't have a numeric datatype. Lets look at the first 10 values of the `int_rate` column"
      ]
    },
    {
      "cell_type": "code",
      "metadata": {
        "id": "wQRxQs3-tnup",
        "colab_type": "code",
        "colab": {
          "base_uri": "https://localhost:8080/",
          "height": 204
        },
        "outputId": "c616ffc9-0010-4360-c0e7-f9fe8978bc76"
      },
      "source": [
        "# Look at the first 10 values of the int_rate column\n",
        "df['int_rate'].head(10)"
      ],
      "execution_count": 76,
      "outputs": [
        {
          "output_type": "execute_result",
          "data": {
            "text/plain": [
              "0     14.47%\n",
              "1     22.35%\n",
              "2     23.40%\n",
              "3     18.94%\n",
              "4     10.72%\n",
              "5     11.31%\n",
              "6     11.31%\n",
              "7     11.80%\n",
              "8     11.80%\n",
              "9     18.94%\n",
              "Name: int_rate, dtype: object"
            ]
          },
          "metadata": {
            "tags": []
          },
          "execution_count": 76
        }
      ]
    },
    {
      "cell_type": "code",
      "metadata": {
        "id": "Cu2lMR4wtt-M",
        "colab_type": "code",
        "colab": {
          "base_uri": "https://localhost:8080/",
          "height": 34
        },
        "outputId": "64205bc2-702f-48fb-ce43-c34581e1f9de"
      },
      "source": [
        "# Look at a specific value from the int_rate column\n",
        "df['int_rate'][0]"
      ],
      "execution_count": 77,
      "outputs": [
        {
          "output_type": "execute_result",
          "data": {
            "text/plain": [
              "' 14.47%'"
            ]
          },
          "metadata": {
            "tags": []
          },
          "execution_count": 77
        }
      ]
    },
    {
      "cell_type": "code",
      "metadata": {
        "id": "2kzKFVSLCTGC",
        "colab_type": "code",
        "colab": {
          "base_uri": "https://localhost:8080/",
          "height": 102
        },
        "outputId": "99d91231-cbb2-45f0-80b4-72f12de89d7e"
      },
      "source": [
        "df['int_rate'].describe()"
      ],
      "execution_count": 78,
      "outputs": [
        {
          "output_type": "execute_result",
          "data": {
            "text/plain": [
              "count      128412\n",
              "unique         46\n",
              "top        13.56%\n",
              "freq         6972\n",
              "Name: int_rate, dtype: object"
            ]
          },
          "metadata": {
            "tags": []
          },
          "execution_count": 78
        }
      ]
    },
    {
      "cell_type": "markdown",
      "metadata": {
        "id": "umnBqFa0t22W",
        "colab_type": "text"
      },
      "source": [
        "Problems that we need to address with this column:\n",
        "\n",
        "- String column that should be numeric\n",
        "- Percent Sign `%` included with the number\n",
        "- Leading space at the beginning of the string\n",
        "\n",
        "However, we're not going to try and write exactly the right code to fix this column in one go. We're going to methodically build up to the code that will help us address these problems.\n"
      ]
    },
    {
      "cell_type": "code",
      "metadata": {
        "id": "qveVttHSuVlh",
        "colab_type": "code",
        "colab": {}
      },
      "source": [
        "# Lets start with just fixing a single string.\n",
        "# If we can fix one, we can usually fix all of them"
      ],
      "execution_count": 0,
      "outputs": []
    },
    {
      "cell_type": "code",
      "metadata": {
        "id": "hfFY8nGluouN",
        "colab_type": "code",
        "colab": {}
      },
      "source": [
        "int_rate = ' 13.56%'"
      ],
      "execution_count": 0,
      "outputs": []
    },
    {
      "cell_type": "code",
      "metadata": {
        "id": "o3bRlDUbus9m",
        "colab_type": "code",
        "colab": {
          "base_uri": "https://localhost:8080/",
          "height": 34
        },
        "outputId": "63cd3e92-3825-4beb-9bf7-a52634166a7e"
      },
      "source": [
        "int_rate.strip()"
      ],
      "execution_count": 80,
      "outputs": [
        {
          "output_type": "execute_result",
          "data": {
            "text/plain": [
              "'13.56%'"
            ]
          },
          "metadata": {
            "tags": []
          },
          "execution_count": 80
        }
      ]
    },
    {
      "cell_type": "code",
      "metadata": {
        "id": "KA-FB2WEuvZr",
        "colab_type": "code",
        "colab": {
          "base_uri": "https://localhost:8080/",
          "height": 34
        },
        "outputId": "52815899-05f4-45f4-a85c-0819c0903254"
      },
      "source": [
        "int_rate.strip().strip('%')"
      ],
      "execution_count": 83,
      "outputs": [
        {
          "output_type": "execute_result",
          "data": {
            "text/plain": [
              "'13.56'"
            ]
          },
          "metadata": {
            "tags": []
          },
          "execution_count": 83
        }
      ]
    },
    {
      "cell_type": "code",
      "metadata": {
        "id": "cjhHPbDtuxtU",
        "colab_type": "code",
        "colab": {
          "base_uri": "https://localhost:8080/",
          "height": 34
        },
        "outputId": "a563b926-af07-4458-cc7b-4732dff495f5"
      },
      "source": [
        "float('13.56')"
      ],
      "execution_count": 84,
      "outputs": [
        {
          "output_type": "execute_result",
          "data": {
            "text/plain": [
              "13.56"
            ]
          },
          "metadata": {
            "tags": []
          },
          "execution_count": 84
        }
      ]
    },
    {
      "cell_type": "code",
      "metadata": {
        "id": "SJd71Boou40s",
        "colab_type": "code",
        "colab": {}
      },
      "source": [
        "# \"Cast\" the string value to a float"
      ],
      "execution_count": 0,
      "outputs": []
    },
    {
      "cell_type": "code",
      "metadata": {
        "id": "kcqneHUmvCs6",
        "colab_type": "code",
        "colab": {
          "base_uri": "https://localhost:8080/",
          "height": 34
        },
        "outputId": "dc162d80-9a89-41d5-d4f4-e7b351acea7f"
      },
      "source": [
        "float(int_rate.strip().strip('%'))"
      ],
      "execution_count": 85,
      "outputs": [
        {
          "output_type": "execute_result",
          "data": {
            "text/plain": [
              "13.56"
            ]
          },
          "metadata": {
            "tags": []
          },
          "execution_count": 85
        }
      ]
    },
    {
      "cell_type": "code",
      "metadata": {
        "id": "gvFshi0cDOZS",
        "colab_type": "code",
        "colab": {
          "base_uri": "https://localhost:8080/",
          "height": 34
        },
        "outputId": "299bc0a1-160b-44d8-8f64-b28cda0d227e"
      },
      "source": [
        "float(df['int_rate'][0].strip().strip('%'))"
      ],
      "execution_count": 86,
      "outputs": [
        {
          "output_type": "execute_result",
          "data": {
            "text/plain": [
              "14.47"
            ]
          },
          "metadata": {
            "tags": []
          },
          "execution_count": 86
        }
      ]
    },
    {
      "cell_type": "code",
      "metadata": {
        "id": "_VE8YL2zDOsS",
        "colab_type": "code",
        "colab": {
          "base_uri": "https://localhost:8080/",
          "height": 34
        },
        "outputId": "230474c3-7363-4c74-ef67-fec4513cdc39"
      },
      "source": [
        "float(df['int_rate'][1].strip().strip(\"%\"))"
      ],
      "execution_count": 90,
      "outputs": [
        {
          "output_type": "execute_result",
          "data": {
            "text/plain": [
              "22.35"
            ]
          },
          "metadata": {
            "tags": []
          },
          "execution_count": 90
        }
      ]
    },
    {
      "cell_type": "code",
      "metadata": {
        "id": "Q_2CTq6MDO2v",
        "colab_type": "code",
        "colab": {}
      },
      "source": [
        "# for loop to format int_rate column - stripping the string \n",
        "new_int_rate = []\n",
        "for cell in df['int_rate']:\n",
        "  new_int_rate.append(float(cell.strip().strip('%')))\n",
        "new_int_rate"
      ],
      "execution_count": 0,
      "outputs": []
    },
    {
      "cell_type": "markdown",
      "metadata": {
        "id": "S_bTzHIJvc8M",
        "colab_type": "text"
      },
      "source": [
        "### Write a function to make our solution reusable!"
      ]
    },
    {
      "cell_type": "code",
      "metadata": {
        "id": "GYJYsfQZvVcK",
        "colab_type": "code",
        "colab": {}
      },
      "source": [
        "# Write a function that can do what we have written above to any \n",
        "# string that is passsed to it.\n",
        "\n",
        "def int_rate_to_float(cell_content):\n",
        "  return float(cell_content.strip().strip('%'))"
      ],
      "execution_count": 0,
      "outputs": []
    },
    {
      "cell_type": "code",
      "metadata": {
        "id": "Ng3lQFD8vxQt",
        "colab_type": "code",
        "colab": {}
      },
      "source": [
        "# Test out our function by calling it on our example"
      ],
      "execution_count": 0,
      "outputs": []
    },
    {
      "cell_type": "code",
      "metadata": {
        "id": "K8d8TCrDE8aR",
        "colab_type": "code",
        "colab": {
          "base_uri": "https://localhost:8080/",
          "height": 34
        },
        "outputId": "42f29905-c34c-4402-cc1c-04f1e0d82a0a"
      },
      "source": [
        "int_rate_to_float(int_rate)"
      ],
      "execution_count": 94,
      "outputs": [
        {
          "output_type": "execute_result",
          "data": {
            "text/plain": [
              "13.56"
            ]
          },
          "metadata": {
            "tags": []
          },
          "execution_count": 94
        }
      ]
    },
    {
      "cell_type": "code",
      "metadata": {
        "id": "7cPxk1W9v2ul",
        "colab_type": "code",
        "colab": {
          "base_uri": "https://localhost:8080/",
          "height": 34
        },
        "outputId": "0cdf48cf-c21b-469e-eea6-a9afb7797bce"
      },
      "source": [
        "# is the data type correct?\n",
        "type(int_rate_to_float(int_rate))"
      ],
      "execution_count": 95,
      "outputs": [
        {
          "output_type": "execute_result",
          "data": {
            "text/plain": [
              "float"
            ]
          },
          "metadata": {
            "tags": []
          },
          "execution_count": 95
        }
      ]
    },
    {
      "cell_type": "markdown",
      "metadata": {
        "id": "hgxdjRqnv-ZH",
        "colab_type": "text"
      },
      "source": [
        "### Apply our solution to every cell in a column"
      ]
    },
    {
      "cell_type": "code",
      "metadata": {
        "id": "eGJmf1IbwE1Q",
        "colab_type": "code",
        "colab": {
          "base_uri": "https://localhost:8080/",
          "height": 338
        },
        "outputId": "40044885-0813-4507-c576-85aad269b4cc"
      },
      "source": [
        "df['int_rate_float'] = df['int_rate'].apply(int_rate_to_float)\n",
        "df.head()"
      ],
      "execution_count": 96,
      "outputs": [
        {
          "output_type": "execute_result",
          "data": {
            "text/html": [
              "<div>\n",
              "<style scoped>\n",
              "    .dataframe tbody tr th:only-of-type {\n",
              "        vertical-align: middle;\n",
              "    }\n",
              "\n",
              "    .dataframe tbody tr th {\n",
              "        vertical-align: top;\n",
              "    }\n",
              "\n",
              "    .dataframe thead th {\n",
              "        text-align: right;\n",
              "    }\n",
              "</style>\n",
              "<table border=\"1\" class=\"dataframe\">\n",
              "  <thead>\n",
              "    <tr style=\"text-align: right;\">\n",
              "      <th></th>\n",
              "      <th>loan_amnt</th>\n",
              "      <th>funded_amnt</th>\n",
              "      <th>funded_amnt_inv</th>\n",
              "      <th>term</th>\n",
              "      <th>int_rate</th>\n",
              "      <th>installment</th>\n",
              "      <th>grade</th>\n",
              "      <th>sub_grade</th>\n",
              "      <th>emp_title</th>\n",
              "      <th>emp_length</th>\n",
              "      <th>home_ownership</th>\n",
              "      <th>annual_inc</th>\n",
              "      <th>verification_status</th>\n",
              "      <th>issue_d</th>\n",
              "      <th>loan_status</th>\n",
              "      <th>pymnt_plan</th>\n",
              "      <th>purpose</th>\n",
              "      <th>title</th>\n",
              "      <th>zip_code</th>\n",
              "      <th>addr_state</th>\n",
              "      <th>dti</th>\n",
              "      <th>delinq_2yrs</th>\n",
              "      <th>earliest_cr_line</th>\n",
              "      <th>inq_last_6mths</th>\n",
              "      <th>mths_since_last_delinq</th>\n",
              "      <th>mths_since_last_record</th>\n",
              "      <th>open_acc</th>\n",
              "      <th>pub_rec</th>\n",
              "      <th>revol_bal</th>\n",
              "      <th>revol_util</th>\n",
              "      <th>total_acc</th>\n",
              "      <th>initial_list_status</th>\n",
              "      <th>out_prncp</th>\n",
              "      <th>out_prncp_inv</th>\n",
              "      <th>total_pymnt</th>\n",
              "      <th>total_pymnt_inv</th>\n",
              "      <th>total_rec_prncp</th>\n",
              "      <th>total_rec_int</th>\n",
              "      <th>total_rec_late_fee</th>\n",
              "      <th>recoveries</th>\n",
              "      <th>...</th>\n",
              "      <th>pub_rec_bankruptcies</th>\n",
              "      <th>tax_liens</th>\n",
              "      <th>tot_hi_cred_lim</th>\n",
              "      <th>total_bal_ex_mort</th>\n",
              "      <th>total_bc_limit</th>\n",
              "      <th>total_il_high_credit_limit</th>\n",
              "      <th>revol_bal_joint</th>\n",
              "      <th>sec_app_earliest_cr_line</th>\n",
              "      <th>sec_app_inq_last_6mths</th>\n",
              "      <th>sec_app_mort_acc</th>\n",
              "      <th>sec_app_open_acc</th>\n",
              "      <th>sec_app_revol_util</th>\n",
              "      <th>sec_app_open_act_il</th>\n",
              "      <th>sec_app_num_rev_accts</th>\n",
              "      <th>sec_app_chargeoff_within_12_mths</th>\n",
              "      <th>sec_app_collections_12_mths_ex_med</th>\n",
              "      <th>sec_app_mths_since_last_major_derog</th>\n",
              "      <th>hardship_flag</th>\n",
              "      <th>hardship_type</th>\n",
              "      <th>hardship_reason</th>\n",
              "      <th>hardship_status</th>\n",
              "      <th>deferral_term</th>\n",
              "      <th>hardship_amount</th>\n",
              "      <th>hardship_start_date</th>\n",
              "      <th>hardship_end_date</th>\n",
              "      <th>payment_plan_start_date</th>\n",
              "      <th>hardship_length</th>\n",
              "      <th>hardship_dpd</th>\n",
              "      <th>hardship_loan_status</th>\n",
              "      <th>orig_projected_additional_accrued_interest</th>\n",
              "      <th>hardship_payoff_balance_amount</th>\n",
              "      <th>hardship_last_payment_amount</th>\n",
              "      <th>debt_settlement_flag</th>\n",
              "      <th>debt_settlement_flag_date</th>\n",
              "      <th>settlement_status</th>\n",
              "      <th>settlement_date</th>\n",
              "      <th>settlement_amount</th>\n",
              "      <th>settlement_percentage</th>\n",
              "      <th>settlement_term</th>\n",
              "      <th>int_rate_float</th>\n",
              "    </tr>\n",
              "  </thead>\n",
              "  <tbody>\n",
              "    <tr>\n",
              "      <th>0</th>\n",
              "      <td>35000</td>\n",
              "      <td>35000</td>\n",
              "      <td>35000.0</td>\n",
              "      <td>36 months</td>\n",
              "      <td>14.47%</td>\n",
              "      <td>1204.23</td>\n",
              "      <td>C</td>\n",
              "      <td>C2</td>\n",
              "      <td>Staff Physician</td>\n",
              "      <td>8 years</td>\n",
              "      <td>MORTGAGE</td>\n",
              "      <td>360000.0</td>\n",
              "      <td>Verified</td>\n",
              "      <td>Dec-2018</td>\n",
              "      <td>Fully Paid</td>\n",
              "      <td>n</td>\n",
              "      <td>credit_card</td>\n",
              "      <td>Credit card refinancing</td>\n",
              "      <td>336xx</td>\n",
              "      <td>FL</td>\n",
              "      <td>19.90</td>\n",
              "      <td>0</td>\n",
              "      <td>Apr-1995</td>\n",
              "      <td>1</td>\n",
              "      <td>NaN</td>\n",
              "      <td>NaN</td>\n",
              "      <td>24</td>\n",
              "      <td>0</td>\n",
              "      <td>57259</td>\n",
              "      <td>43.2%</td>\n",
              "      <td>51</td>\n",
              "      <td>w</td>\n",
              "      <td>0.00</td>\n",
              "      <td>0.00</td>\n",
              "      <td>38187.046837</td>\n",
              "      <td>38187.05</td>\n",
              "      <td>35000.00</td>\n",
              "      <td>3187.05</td>\n",
              "      <td>0.0</td>\n",
              "      <td>0.0</td>\n",
              "      <td>...</td>\n",
              "      <td>0</td>\n",
              "      <td>0</td>\n",
              "      <td>1222051</td>\n",
              "      <td>169286</td>\n",
              "      <td>124600</td>\n",
              "      <td>258401</td>\n",
              "      <td>NaN</td>\n",
              "      <td>NaN</td>\n",
              "      <td>NaN</td>\n",
              "      <td>NaN</td>\n",
              "      <td>NaN</td>\n",
              "      <td>NaN</td>\n",
              "      <td>NaN</td>\n",
              "      <td>NaN</td>\n",
              "      <td>NaN</td>\n",
              "      <td>NaN</td>\n",
              "      <td>NaN</td>\n",
              "      <td>N</td>\n",
              "      <td>NaN</td>\n",
              "      <td>NaN</td>\n",
              "      <td>NaN</td>\n",
              "      <td>NaN</td>\n",
              "      <td>NaN</td>\n",
              "      <td>NaN</td>\n",
              "      <td>NaN</td>\n",
              "      <td>NaN</td>\n",
              "      <td>NaN</td>\n",
              "      <td>NaN</td>\n",
              "      <td>NaN</td>\n",
              "      <td>NaN</td>\n",
              "      <td>NaN</td>\n",
              "      <td>NaN</td>\n",
              "      <td>N</td>\n",
              "      <td>NaN</td>\n",
              "      <td>NaN</td>\n",
              "      <td>NaN</td>\n",
              "      <td>NaN</td>\n",
              "      <td>NaN</td>\n",
              "      <td>NaN</td>\n",
              "      <td>14.47</td>\n",
              "    </tr>\n",
              "    <tr>\n",
              "      <th>1</th>\n",
              "      <td>5000</td>\n",
              "      <td>5000</td>\n",
              "      <td>5000.0</td>\n",
              "      <td>36 months</td>\n",
              "      <td>22.35%</td>\n",
              "      <td>191.86</td>\n",
              "      <td>D</td>\n",
              "      <td>D5</td>\n",
              "      <td>Director of Sales</td>\n",
              "      <td>10+ years</td>\n",
              "      <td>MORTGAGE</td>\n",
              "      <td>72000.0</td>\n",
              "      <td>Source Verified</td>\n",
              "      <td>Dec-2018</td>\n",
              "      <td>Fully Paid</td>\n",
              "      <td>n</td>\n",
              "      <td>debt_consolidation</td>\n",
              "      <td>Debt consolidation</td>\n",
              "      <td>333xx</td>\n",
              "      <td>FL</td>\n",
              "      <td>20.12</td>\n",
              "      <td>0</td>\n",
              "      <td>Mar-2010</td>\n",
              "      <td>0</td>\n",
              "      <td>NaN</td>\n",
              "      <td>NaN</td>\n",
              "      <td>13</td>\n",
              "      <td>0</td>\n",
              "      <td>11720</td>\n",
              "      <td>47.1%</td>\n",
              "      <td>26</td>\n",
              "      <td>f</td>\n",
              "      <td>0.00</td>\n",
              "      <td>0.00</td>\n",
              "      <td>5615.977674</td>\n",
              "      <td>5615.98</td>\n",
              "      <td>5000.00</td>\n",
              "      <td>615.98</td>\n",
              "      <td>0.0</td>\n",
              "      <td>0.0</td>\n",
              "      <td>...</td>\n",
              "      <td>0</td>\n",
              "      <td>0</td>\n",
              "      <td>218686</td>\n",
              "      <td>34418</td>\n",
              "      <td>18200</td>\n",
              "      <td>37786</td>\n",
              "      <td>NaN</td>\n",
              "      <td>NaN</td>\n",
              "      <td>NaN</td>\n",
              "      <td>NaN</td>\n",
              "      <td>NaN</td>\n",
              "      <td>NaN</td>\n",
              "      <td>NaN</td>\n",
              "      <td>NaN</td>\n",
              "      <td>NaN</td>\n",
              "      <td>NaN</td>\n",
              "      <td>NaN</td>\n",
              "      <td>N</td>\n",
              "      <td>NaN</td>\n",
              "      <td>NaN</td>\n",
              "      <td>NaN</td>\n",
              "      <td>NaN</td>\n",
              "      <td>NaN</td>\n",
              "      <td>NaN</td>\n",
              "      <td>NaN</td>\n",
              "      <td>NaN</td>\n",
              "      <td>NaN</td>\n",
              "      <td>NaN</td>\n",
              "      <td>NaN</td>\n",
              "      <td>NaN</td>\n",
              "      <td>NaN</td>\n",
              "      <td>NaN</td>\n",
              "      <td>N</td>\n",
              "      <td>NaN</td>\n",
              "      <td>NaN</td>\n",
              "      <td>NaN</td>\n",
              "      <td>NaN</td>\n",
              "      <td>NaN</td>\n",
              "      <td>NaN</td>\n",
              "      <td>22.35</td>\n",
              "    </tr>\n",
              "    <tr>\n",
              "      <th>2</th>\n",
              "      <td>10000</td>\n",
              "      <td>10000</td>\n",
              "      <td>10000.0</td>\n",
              "      <td>60 months</td>\n",
              "      <td>23.40%</td>\n",
              "      <td>284.21</td>\n",
              "      <td>E</td>\n",
              "      <td>E1</td>\n",
              "      <td>NaN</td>\n",
              "      <td>&lt; 1 year</td>\n",
              "      <td>RENT</td>\n",
              "      <td>55000.0</td>\n",
              "      <td>Source Verified</td>\n",
              "      <td>Dec-2018</td>\n",
              "      <td>Current</td>\n",
              "      <td>n</td>\n",
              "      <td>debt_consolidation</td>\n",
              "      <td>Debt consolidation</td>\n",
              "      <td>902xx</td>\n",
              "      <td>CA</td>\n",
              "      <td>13.51</td>\n",
              "      <td>0</td>\n",
              "      <td>Apr-2007</td>\n",
              "      <td>0</td>\n",
              "      <td>44.0</td>\n",
              "      <td>88.0</td>\n",
              "      <td>9</td>\n",
              "      <td>1</td>\n",
              "      <td>11859</td>\n",
              "      <td>53.9%</td>\n",
              "      <td>11</td>\n",
              "      <td>w</td>\n",
              "      <td>8694.39</td>\n",
              "      <td>8694.39</td>\n",
              "      <td>3675.230000</td>\n",
              "      <td>3675.23</td>\n",
              "      <td>1305.61</td>\n",
              "      <td>2369.62</td>\n",
              "      <td>0.0</td>\n",
              "      <td>0.0</td>\n",
              "      <td>...</td>\n",
              "      <td>1</td>\n",
              "      <td>0</td>\n",
              "      <td>34386</td>\n",
              "      <td>21235</td>\n",
              "      <td>10500</td>\n",
              "      <td>12386</td>\n",
              "      <td>NaN</td>\n",
              "      <td>NaN</td>\n",
              "      <td>NaN</td>\n",
              "      <td>NaN</td>\n",
              "      <td>NaN</td>\n",
              "      <td>NaN</td>\n",
              "      <td>NaN</td>\n",
              "      <td>NaN</td>\n",
              "      <td>NaN</td>\n",
              "      <td>NaN</td>\n",
              "      <td>NaN</td>\n",
              "      <td>N</td>\n",
              "      <td>NaN</td>\n",
              "      <td>NaN</td>\n",
              "      <td>NaN</td>\n",
              "      <td>NaN</td>\n",
              "      <td>NaN</td>\n",
              "      <td>NaN</td>\n",
              "      <td>NaN</td>\n",
              "      <td>NaN</td>\n",
              "      <td>NaN</td>\n",
              "      <td>NaN</td>\n",
              "      <td>NaN</td>\n",
              "      <td>NaN</td>\n",
              "      <td>NaN</td>\n",
              "      <td>NaN</td>\n",
              "      <td>N</td>\n",
              "      <td>NaN</td>\n",
              "      <td>NaN</td>\n",
              "      <td>NaN</td>\n",
              "      <td>NaN</td>\n",
              "      <td>NaN</td>\n",
              "      <td>NaN</td>\n",
              "      <td>23.40</td>\n",
              "    </tr>\n",
              "    <tr>\n",
              "      <th>3</th>\n",
              "      <td>17100</td>\n",
              "      <td>17100</td>\n",
              "      <td>17100.0</td>\n",
              "      <td>36 months</td>\n",
              "      <td>18.94%</td>\n",
              "      <td>626.30</td>\n",
              "      <td>D</td>\n",
              "      <td>D2</td>\n",
              "      <td>Receptionist</td>\n",
              "      <td>10+ years</td>\n",
              "      <td>RENT</td>\n",
              "      <td>38000.0</td>\n",
              "      <td>Verified</td>\n",
              "      <td>Dec-2018</td>\n",
              "      <td>Current</td>\n",
              "      <td>n</td>\n",
              "      <td>debt_consolidation</td>\n",
              "      <td>Debt consolidation</td>\n",
              "      <td>150xx</td>\n",
              "      <td>PA</td>\n",
              "      <td>38.09</td>\n",
              "      <td>0</td>\n",
              "      <td>Mar-1998</td>\n",
              "      <td>1</td>\n",
              "      <td>47.0</td>\n",
              "      <td>NaN</td>\n",
              "      <td>14</td>\n",
              "      <td>0</td>\n",
              "      <td>15323</td>\n",
              "      <td>53%</td>\n",
              "      <td>21</td>\n",
              "      <td>w</td>\n",
              "      <td>12001.54</td>\n",
              "      <td>12001.54</td>\n",
              "      <td>8114.910000</td>\n",
              "      <td>8114.91</td>\n",
              "      <td>5098.46</td>\n",
              "      <td>3016.45</td>\n",
              "      <td>0.0</td>\n",
              "      <td>0.0</td>\n",
              "      <td>...</td>\n",
              "      <td>0</td>\n",
              "      <td>0</td>\n",
              "      <td>70954</td>\n",
              "      <td>43351</td>\n",
              "      <td>16600</td>\n",
              "      <td>41784</td>\n",
              "      <td>NaN</td>\n",
              "      <td>NaN</td>\n",
              "      <td>NaN</td>\n",
              "      <td>NaN</td>\n",
              "      <td>NaN</td>\n",
              "      <td>NaN</td>\n",
              "      <td>NaN</td>\n",
              "      <td>NaN</td>\n",
              "      <td>NaN</td>\n",
              "      <td>NaN</td>\n",
              "      <td>NaN</td>\n",
              "      <td>N</td>\n",
              "      <td>NaN</td>\n",
              "      <td>NaN</td>\n",
              "      <td>NaN</td>\n",
              "      <td>NaN</td>\n",
              "      <td>NaN</td>\n",
              "      <td>NaN</td>\n",
              "      <td>NaN</td>\n",
              "      <td>NaN</td>\n",
              "      <td>NaN</td>\n",
              "      <td>NaN</td>\n",
              "      <td>NaN</td>\n",
              "      <td>NaN</td>\n",
              "      <td>NaN</td>\n",
              "      <td>NaN</td>\n",
              "      <td>N</td>\n",
              "      <td>NaN</td>\n",
              "      <td>NaN</td>\n",
              "      <td>NaN</td>\n",
              "      <td>NaN</td>\n",
              "      <td>NaN</td>\n",
              "      <td>NaN</td>\n",
              "      <td>18.94</td>\n",
              "    </tr>\n",
              "    <tr>\n",
              "      <th>4</th>\n",
              "      <td>4000</td>\n",
              "      <td>4000</td>\n",
              "      <td>4000.0</td>\n",
              "      <td>36 months</td>\n",
              "      <td>10.72%</td>\n",
              "      <td>130.43</td>\n",
              "      <td>B</td>\n",
              "      <td>B2</td>\n",
              "      <td>Extrusion assistant</td>\n",
              "      <td>10+ years</td>\n",
              "      <td>MORTGAGE</td>\n",
              "      <td>56000.0</td>\n",
              "      <td>Verified</td>\n",
              "      <td>Dec-2018</td>\n",
              "      <td>Current</td>\n",
              "      <td>n</td>\n",
              "      <td>credit_card</td>\n",
              "      <td>Credit card refinancing</td>\n",
              "      <td>301xx</td>\n",
              "      <td>GA</td>\n",
              "      <td>31.03</td>\n",
              "      <td>0</td>\n",
              "      <td>Sep-2006</td>\n",
              "      <td>0</td>\n",
              "      <td>NaN</td>\n",
              "      <td>NaN</td>\n",
              "      <td>7</td>\n",
              "      <td>0</td>\n",
              "      <td>4518</td>\n",
              "      <td>28.6%</td>\n",
              "      <td>11</td>\n",
              "      <td>w</td>\n",
              "      <td>2700.74</td>\n",
              "      <td>2700.74</td>\n",
              "      <td>1682.500000</td>\n",
              "      <td>1682.50</td>\n",
              "      <td>1299.26</td>\n",
              "      <td>383.24</td>\n",
              "      <td>0.0</td>\n",
              "      <td>0.0</td>\n",
              "      <td>...</td>\n",
              "      <td>0</td>\n",
              "      <td>0</td>\n",
              "      <td>221310</td>\n",
              "      <td>71375</td>\n",
              "      <td>12300</td>\n",
              "      <td>77865</td>\n",
              "      <td>NaN</td>\n",
              "      <td>NaN</td>\n",
              "      <td>NaN</td>\n",
              "      <td>NaN</td>\n",
              "      <td>NaN</td>\n",
              "      <td>NaN</td>\n",
              "      <td>NaN</td>\n",
              "      <td>NaN</td>\n",
              "      <td>NaN</td>\n",
              "      <td>NaN</td>\n",
              "      <td>NaN</td>\n",
              "      <td>N</td>\n",
              "      <td>NaN</td>\n",
              "      <td>NaN</td>\n",
              "      <td>NaN</td>\n",
              "      <td>NaN</td>\n",
              "      <td>NaN</td>\n",
              "      <td>NaN</td>\n",
              "      <td>NaN</td>\n",
              "      <td>NaN</td>\n",
              "      <td>NaN</td>\n",
              "      <td>NaN</td>\n",
              "      <td>NaN</td>\n",
              "      <td>NaN</td>\n",
              "      <td>NaN</td>\n",
              "      <td>NaN</td>\n",
              "      <td>N</td>\n",
              "      <td>NaN</td>\n",
              "      <td>NaN</td>\n",
              "      <td>NaN</td>\n",
              "      <td>NaN</td>\n",
              "      <td>NaN</td>\n",
              "      <td>NaN</td>\n",
              "      <td>10.72</td>\n",
              "    </tr>\n",
              "  </tbody>\n",
              "</table>\n",
              "<p>5 rows × 141 columns</p>\n",
              "</div>"
            ],
            "text/plain": [
              "   loan_amnt  funded_amnt  ...  settlement_term int_rate_float\n",
              "0      35000        35000  ...              NaN          14.47\n",
              "1       5000         5000  ...              NaN          22.35\n",
              "2      10000        10000  ...              NaN          23.40\n",
              "3      17100        17100  ...              NaN          18.94\n",
              "4       4000         4000  ...              NaN          10.72\n",
              "\n",
              "[5 rows x 141 columns]"
            ]
          },
          "metadata": {
            "tags": []
          },
          "execution_count": 96
        }
      ]
    },
    {
      "cell_type": "code",
      "metadata": {
        "id": "hYCez3j5wLWt",
        "colab_type": "code",
        "colab": {
          "base_uri": "https://localhost:8080/",
          "height": 119
        },
        "outputId": "791b9907-ffa8-48a5-ccbb-c17993369891"
      },
      "source": [
        "# What type of data is held in our new column?\n",
        "df['int_rate_float'].head(3)\n",
        "\n",
        "# Look at the datatypes of the last 5 columns\n",
        "df['int_rate_float'].tail(5)"
      ],
      "execution_count": 98,
      "outputs": [
        {
          "output_type": "execute_result",
          "data": {
            "text/plain": [
              "128407    15.02\n",
              "128408    15.02\n",
              "128409    13.56\n",
              "128410    11.06\n",
              "128411    16.91\n",
              "Name: int_rate_float, dtype: float64"
            ]
          },
          "metadata": {
            "tags": []
          },
          "execution_count": 98
        }
      ]
    },
    {
      "cell_type": "markdown",
      "metadata": {
        "id": "FOXkc5own3LM",
        "colab_type": "text"
      },
      "source": [
        "## Challenge\n",
        "\n",
        "We can create a new column with our cleaned values or overwrite the original, whatever we think best suits our needs. On your assignment you will take the same approach in trying to methodically build up the complexity of your code until you have a few lines that will work for any cell in a column. At that point you'll contain all of that functionality in a reusable function block and then use the `.apply()` function to... well... apply those changes to an entire column."
      ]
    },
    {
      "cell_type": "markdown",
      "metadata": {
        "id": "cllyKRVOmZW1",
        "colab_type": "text"
      },
      "source": [
        "# [Objective](#pandas-apply) Modify and Create Columns using `.apply()`\n",
        "\n"
      ]
    },
    {
      "cell_type": "markdown",
      "metadata": {
        "id": "43763DCYnucE",
        "colab_type": "text"
      },
      "source": [
        "## Overview\n",
        "\n",
        "We're already seen one example of using the `.apply()` function to clean up a column. Lets see if we can do it again, but this time on a slightly more complicated use case.\n",
        "\n",
        "Remember, the goal here is to write a function that will work correctly on any **individual** cell of a specific column. Then we can reuse that function on those individual cells of a dataframe column via the `.apply()` function.\n",
        "\n",
        "Lets clean up the emp_title \"Employment Title\" column!"
      ]
    },
    {
      "cell_type": "markdown",
      "metadata": {
        "id": "mFXxzA7mnyhH",
        "colab_type": "text"
      },
      "source": [
        "## Follow Along\n",
        "\n",
        "First we'll try and diagnose how bad the problem is and what improvements we might be able to make."
      ]
    },
    {
      "cell_type": "code",
      "metadata": {
        "id": "XzkCNMOnxl4h",
        "colab_type": "code",
        "colab": {
          "base_uri": "https://localhost:8080/",
          "height": 374
        },
        "outputId": "d02b6047-48c6-452b-c96f-d2d9124f6a86"
      },
      "source": [
        "# Look at the top 20 employment titles\n",
        "df['emp_title'].head(20)"
      ],
      "execution_count": 99,
      "outputs": [
        {
          "output_type": "execute_result",
          "data": {
            "text/plain": [
              "0                         Staff Physician\n",
              "1                       Director of Sales\n",
              "2                                     NaN\n",
              "3                           Receptionist \n",
              "4                    Extrusion assistant \n",
              "5                                 Teacher\n",
              "6                              Supervisor\n",
              "7                                 Analyst\n",
              "8     Corporate Communications Strategist\n",
              "9                         Project Manager\n",
              "10                                 Server\n",
              "11                 DISTRICT SALES MANAGER\n",
              "12                          Service tech.\n",
              "13                               Security\n",
              "14                         Administrative\n",
              "15                     Nursing Supervisor\n",
              "16                       Material Handler\n",
              "17              Instructional Coordinator\n",
              "18       Financial Relationship Associate\n",
              "19                                    NaN\n",
              "Name: emp_title, dtype: object"
            ]
          },
          "metadata": {
            "tags": []
          },
          "execution_count": 99
        }
      ]
    },
    {
      "cell_type": "code",
      "metadata": {
        "id": "ja4Qul02x0Tk",
        "colab_type": "code",
        "colab": {
          "base_uri": "https://localhost:8080/",
          "height": 34
        },
        "outputId": "08fb09e0-7dd7-4ea2-cebc-03c52852dc24"
      },
      "source": [
        "# How many different unique employment titles are there currently?\n",
        "df['emp_title'].nunique(dropna=False)"
      ],
      "execution_count": 100,
      "outputs": [
        {
          "output_type": "execute_result",
          "data": {
            "text/plain": [
              "43893"
            ]
          },
          "metadata": {
            "tags": []
          },
          "execution_count": 100
        }
      ]
    },
    {
      "cell_type": "code",
      "metadata": {
        "id": "Yrj0KGupGmwG",
        "colab_type": "code",
        "colab": {
          "base_uri": "https://localhost:8080/",
          "height": 374
        },
        "outputId": "d94bb529-0e00-4bbf-c420-4d9a9448100c"
      },
      "source": [
        "df['emp_title'].value_counts(dropna=False).head(20)"
      ],
      "execution_count": 102,
      "outputs": [
        {
          "output_type": "execute_result",
          "data": {
            "text/plain": [
              "NaN                   20947\n",
              "Teacher                2090\n",
              "Manager                1773\n",
              "Registered Nurse        952\n",
              "Driver                  924\n",
              "RN                      726\n",
              "Supervisor              697\n",
              "Sales                   580\n",
              "Project Manager         526\n",
              "General Manager         523\n",
              "Office Manager          521\n",
              "Owner                   420\n",
              "Director                402\n",
              "Operations Manager      387\n",
              "Truck Driver            387\n",
              "Nurse                   326\n",
              "Engineer                325\n",
              "Sales Manager           304\n",
              "manager                 301\n",
              "Supervisor              270\n",
              "Name: emp_title, dtype: int64"
            ]
          },
          "metadata": {
            "tags": []
          },
          "execution_count": 102
        }
      ]
    },
    {
      "cell_type": "code",
      "metadata": {
        "id": "q1tC-Otax9R3",
        "colab_type": "code",
        "colab": {
          "base_uri": "https://localhost:8080/",
          "height": 34
        },
        "outputId": "660f0f19-bc49-4eb3-9d8a-97ec3b967aae"
      },
      "source": [
        "# How often is the employment_title null?\n",
        "df['emp_title'].isnull().sum()"
      ],
      "execution_count": 104,
      "outputs": [
        {
          "output_type": "execute_result",
          "data": {
            "text/plain": [
              "20947"
            ]
          },
          "metadata": {
            "tags": []
          },
          "execution_count": 104
        }
      ]
    },
    {
      "cell_type": "markdown",
      "metadata": {
        "id": "UddpRG2OyDzC",
        "colab_type": "text"
      },
      "source": [
        "What are some possible reasons as to why a person's employment title may have not been provided?"
      ]
    },
    {
      "cell_type": "code",
      "metadata": {
        "id": "331sx2kVyMwz",
        "colab_type": "code",
        "colab": {}
      },
      "source": [
        "# Create some examples that represent the cases that we want to clean up\n",
        "examples = ['owner', 'Supervisor', ' Project Manager', np.NaN]"
      ],
      "execution_count": 0,
      "outputs": []
    },
    {
      "cell_type": "code",
      "metadata": {
        "id": "yEIPIOUIyUDH",
        "colab_type": "code",
        "colab": {
          "base_uri": "https://localhost:8080/",
          "height": 34
        },
        "outputId": "d22874c8-e45f-4c2e-90ed-f4b61317f842"
      },
      "source": [
        "# Write a function to clean up these use cases and increase uniformity.\n",
        "def clean_title(title):\n",
        "  if isinstance(title,str):\n",
        "    return title.strip().title()\n",
        "  else:\n",
        "    return \"Unknown\"\n",
        "\n",
        "cleaned_titles = []\n",
        "for example in examples:\n",
        "  cleaned_titles.append(clean_title(example))\n",
        "\n",
        "cleaned_titles"
      ],
      "execution_count": 108,
      "outputs": [
        {
          "output_type": "execute_result",
          "data": {
            "text/plain": [
              "['Owner', 'Supervisor', 'Project Manager', 'Unknown']"
            ]
          },
          "metadata": {
            "tags": []
          },
          "execution_count": 108
        }
      ]
    },
    {
      "cell_type": "code",
      "metadata": {
        "id": "Sn6jfPUTylvH",
        "colab_type": "code",
        "colab": {
          "base_uri": "https://localhost:8080/",
          "height": 34
        },
        "outputId": "a218c89b-08d0-48af-e56d-05fe1efbea2e"
      },
      "source": [
        "# list comprehensions can combine function calls and for loops over lists\n",
        "# into one succinct and fairly readable single line of code.\n",
        "[clean_title(example) for example in examples]"
      ],
      "execution_count": 110,
      "outputs": [
        {
          "output_type": "execute_result",
          "data": {
            "text/plain": [
              "['Owner', 'Supervisor', 'Project Manager', 'Unknown']"
            ]
          },
          "metadata": {
            "tags": []
          },
          "execution_count": 110
        }
      ]
    },
    {
      "cell_type": "code",
      "metadata": {
        "id": "DNGJgOL4y0y7",
        "colab_type": "code",
        "colab": {
          "base_uri": "https://localhost:8080/",
          "height": 338
        },
        "outputId": "b8a5ac26-20a9-4224-e442-a966627924a6"
      },
      "source": [
        "# We have a function that works as expected. Lets apply it to our column.\n",
        "# This time we'll overwrite the original column\n",
        "\n",
        "df['emp_title'] = df['emp_title'].apply(clean_title)\n",
        "df.head()"
      ],
      "execution_count": 112,
      "outputs": [
        {
          "output_type": "execute_result",
          "data": {
            "text/html": [
              "<div>\n",
              "<style scoped>\n",
              "    .dataframe tbody tr th:only-of-type {\n",
              "        vertical-align: middle;\n",
              "    }\n",
              "\n",
              "    .dataframe tbody tr th {\n",
              "        vertical-align: top;\n",
              "    }\n",
              "\n",
              "    .dataframe thead th {\n",
              "        text-align: right;\n",
              "    }\n",
              "</style>\n",
              "<table border=\"1\" class=\"dataframe\">\n",
              "  <thead>\n",
              "    <tr style=\"text-align: right;\">\n",
              "      <th></th>\n",
              "      <th>loan_amnt</th>\n",
              "      <th>funded_amnt</th>\n",
              "      <th>funded_amnt_inv</th>\n",
              "      <th>term</th>\n",
              "      <th>int_rate</th>\n",
              "      <th>installment</th>\n",
              "      <th>grade</th>\n",
              "      <th>sub_grade</th>\n",
              "      <th>emp_title</th>\n",
              "      <th>emp_length</th>\n",
              "      <th>home_ownership</th>\n",
              "      <th>annual_inc</th>\n",
              "      <th>verification_status</th>\n",
              "      <th>issue_d</th>\n",
              "      <th>loan_status</th>\n",
              "      <th>pymnt_plan</th>\n",
              "      <th>purpose</th>\n",
              "      <th>title</th>\n",
              "      <th>zip_code</th>\n",
              "      <th>addr_state</th>\n",
              "      <th>dti</th>\n",
              "      <th>delinq_2yrs</th>\n",
              "      <th>earliest_cr_line</th>\n",
              "      <th>inq_last_6mths</th>\n",
              "      <th>mths_since_last_delinq</th>\n",
              "      <th>mths_since_last_record</th>\n",
              "      <th>open_acc</th>\n",
              "      <th>pub_rec</th>\n",
              "      <th>revol_bal</th>\n",
              "      <th>revol_util</th>\n",
              "      <th>total_acc</th>\n",
              "      <th>initial_list_status</th>\n",
              "      <th>out_prncp</th>\n",
              "      <th>out_prncp_inv</th>\n",
              "      <th>total_pymnt</th>\n",
              "      <th>total_pymnt_inv</th>\n",
              "      <th>total_rec_prncp</th>\n",
              "      <th>total_rec_int</th>\n",
              "      <th>total_rec_late_fee</th>\n",
              "      <th>recoveries</th>\n",
              "      <th>...</th>\n",
              "      <th>pub_rec_bankruptcies</th>\n",
              "      <th>tax_liens</th>\n",
              "      <th>tot_hi_cred_lim</th>\n",
              "      <th>total_bal_ex_mort</th>\n",
              "      <th>total_bc_limit</th>\n",
              "      <th>total_il_high_credit_limit</th>\n",
              "      <th>revol_bal_joint</th>\n",
              "      <th>sec_app_earliest_cr_line</th>\n",
              "      <th>sec_app_inq_last_6mths</th>\n",
              "      <th>sec_app_mort_acc</th>\n",
              "      <th>sec_app_open_acc</th>\n",
              "      <th>sec_app_revol_util</th>\n",
              "      <th>sec_app_open_act_il</th>\n",
              "      <th>sec_app_num_rev_accts</th>\n",
              "      <th>sec_app_chargeoff_within_12_mths</th>\n",
              "      <th>sec_app_collections_12_mths_ex_med</th>\n",
              "      <th>sec_app_mths_since_last_major_derog</th>\n",
              "      <th>hardship_flag</th>\n",
              "      <th>hardship_type</th>\n",
              "      <th>hardship_reason</th>\n",
              "      <th>hardship_status</th>\n",
              "      <th>deferral_term</th>\n",
              "      <th>hardship_amount</th>\n",
              "      <th>hardship_start_date</th>\n",
              "      <th>hardship_end_date</th>\n",
              "      <th>payment_plan_start_date</th>\n",
              "      <th>hardship_length</th>\n",
              "      <th>hardship_dpd</th>\n",
              "      <th>hardship_loan_status</th>\n",
              "      <th>orig_projected_additional_accrued_interest</th>\n",
              "      <th>hardship_payoff_balance_amount</th>\n",
              "      <th>hardship_last_payment_amount</th>\n",
              "      <th>debt_settlement_flag</th>\n",
              "      <th>debt_settlement_flag_date</th>\n",
              "      <th>settlement_status</th>\n",
              "      <th>settlement_date</th>\n",
              "      <th>settlement_amount</th>\n",
              "      <th>settlement_percentage</th>\n",
              "      <th>settlement_term</th>\n",
              "      <th>int_rate_float</th>\n",
              "    </tr>\n",
              "  </thead>\n",
              "  <tbody>\n",
              "    <tr>\n",
              "      <th>0</th>\n",
              "      <td>35000</td>\n",
              "      <td>35000</td>\n",
              "      <td>35000.0</td>\n",
              "      <td>36 months</td>\n",
              "      <td>14.47%</td>\n",
              "      <td>1204.23</td>\n",
              "      <td>C</td>\n",
              "      <td>C2</td>\n",
              "      <td>Staff Physician</td>\n",
              "      <td>8 years</td>\n",
              "      <td>MORTGAGE</td>\n",
              "      <td>360000.0</td>\n",
              "      <td>Verified</td>\n",
              "      <td>Dec-2018</td>\n",
              "      <td>Fully Paid</td>\n",
              "      <td>n</td>\n",
              "      <td>credit_card</td>\n",
              "      <td>Credit card refinancing</td>\n",
              "      <td>336xx</td>\n",
              "      <td>FL</td>\n",
              "      <td>19.90</td>\n",
              "      <td>0</td>\n",
              "      <td>Apr-1995</td>\n",
              "      <td>1</td>\n",
              "      <td>NaN</td>\n",
              "      <td>NaN</td>\n",
              "      <td>24</td>\n",
              "      <td>0</td>\n",
              "      <td>57259</td>\n",
              "      <td>43.2%</td>\n",
              "      <td>51</td>\n",
              "      <td>w</td>\n",
              "      <td>0.00</td>\n",
              "      <td>0.00</td>\n",
              "      <td>38187.046837</td>\n",
              "      <td>38187.05</td>\n",
              "      <td>35000.00</td>\n",
              "      <td>3187.05</td>\n",
              "      <td>0.0</td>\n",
              "      <td>0.0</td>\n",
              "      <td>...</td>\n",
              "      <td>0</td>\n",
              "      <td>0</td>\n",
              "      <td>1222051</td>\n",
              "      <td>169286</td>\n",
              "      <td>124600</td>\n",
              "      <td>258401</td>\n",
              "      <td>NaN</td>\n",
              "      <td>NaN</td>\n",
              "      <td>NaN</td>\n",
              "      <td>NaN</td>\n",
              "      <td>NaN</td>\n",
              "      <td>NaN</td>\n",
              "      <td>NaN</td>\n",
              "      <td>NaN</td>\n",
              "      <td>NaN</td>\n",
              "      <td>NaN</td>\n",
              "      <td>NaN</td>\n",
              "      <td>N</td>\n",
              "      <td>NaN</td>\n",
              "      <td>NaN</td>\n",
              "      <td>NaN</td>\n",
              "      <td>NaN</td>\n",
              "      <td>NaN</td>\n",
              "      <td>NaN</td>\n",
              "      <td>NaN</td>\n",
              "      <td>NaN</td>\n",
              "      <td>NaN</td>\n",
              "      <td>NaN</td>\n",
              "      <td>NaN</td>\n",
              "      <td>NaN</td>\n",
              "      <td>NaN</td>\n",
              "      <td>NaN</td>\n",
              "      <td>N</td>\n",
              "      <td>NaN</td>\n",
              "      <td>NaN</td>\n",
              "      <td>NaN</td>\n",
              "      <td>NaN</td>\n",
              "      <td>NaN</td>\n",
              "      <td>NaN</td>\n",
              "      <td>14.47</td>\n",
              "    </tr>\n",
              "    <tr>\n",
              "      <th>1</th>\n",
              "      <td>5000</td>\n",
              "      <td>5000</td>\n",
              "      <td>5000.0</td>\n",
              "      <td>36 months</td>\n",
              "      <td>22.35%</td>\n",
              "      <td>191.86</td>\n",
              "      <td>D</td>\n",
              "      <td>D5</td>\n",
              "      <td>Director Of Sales</td>\n",
              "      <td>10+ years</td>\n",
              "      <td>MORTGAGE</td>\n",
              "      <td>72000.0</td>\n",
              "      <td>Source Verified</td>\n",
              "      <td>Dec-2018</td>\n",
              "      <td>Fully Paid</td>\n",
              "      <td>n</td>\n",
              "      <td>debt_consolidation</td>\n",
              "      <td>Debt consolidation</td>\n",
              "      <td>333xx</td>\n",
              "      <td>FL</td>\n",
              "      <td>20.12</td>\n",
              "      <td>0</td>\n",
              "      <td>Mar-2010</td>\n",
              "      <td>0</td>\n",
              "      <td>NaN</td>\n",
              "      <td>NaN</td>\n",
              "      <td>13</td>\n",
              "      <td>0</td>\n",
              "      <td>11720</td>\n",
              "      <td>47.1%</td>\n",
              "      <td>26</td>\n",
              "      <td>f</td>\n",
              "      <td>0.00</td>\n",
              "      <td>0.00</td>\n",
              "      <td>5615.977674</td>\n",
              "      <td>5615.98</td>\n",
              "      <td>5000.00</td>\n",
              "      <td>615.98</td>\n",
              "      <td>0.0</td>\n",
              "      <td>0.0</td>\n",
              "      <td>...</td>\n",
              "      <td>0</td>\n",
              "      <td>0</td>\n",
              "      <td>218686</td>\n",
              "      <td>34418</td>\n",
              "      <td>18200</td>\n",
              "      <td>37786</td>\n",
              "      <td>NaN</td>\n",
              "      <td>NaN</td>\n",
              "      <td>NaN</td>\n",
              "      <td>NaN</td>\n",
              "      <td>NaN</td>\n",
              "      <td>NaN</td>\n",
              "      <td>NaN</td>\n",
              "      <td>NaN</td>\n",
              "      <td>NaN</td>\n",
              "      <td>NaN</td>\n",
              "      <td>NaN</td>\n",
              "      <td>N</td>\n",
              "      <td>NaN</td>\n",
              "      <td>NaN</td>\n",
              "      <td>NaN</td>\n",
              "      <td>NaN</td>\n",
              "      <td>NaN</td>\n",
              "      <td>NaN</td>\n",
              "      <td>NaN</td>\n",
              "      <td>NaN</td>\n",
              "      <td>NaN</td>\n",
              "      <td>NaN</td>\n",
              "      <td>NaN</td>\n",
              "      <td>NaN</td>\n",
              "      <td>NaN</td>\n",
              "      <td>NaN</td>\n",
              "      <td>N</td>\n",
              "      <td>NaN</td>\n",
              "      <td>NaN</td>\n",
              "      <td>NaN</td>\n",
              "      <td>NaN</td>\n",
              "      <td>NaN</td>\n",
              "      <td>NaN</td>\n",
              "      <td>22.35</td>\n",
              "    </tr>\n",
              "    <tr>\n",
              "      <th>2</th>\n",
              "      <td>10000</td>\n",
              "      <td>10000</td>\n",
              "      <td>10000.0</td>\n",
              "      <td>60 months</td>\n",
              "      <td>23.40%</td>\n",
              "      <td>284.21</td>\n",
              "      <td>E</td>\n",
              "      <td>E1</td>\n",
              "      <td>Unknown</td>\n",
              "      <td>&lt; 1 year</td>\n",
              "      <td>RENT</td>\n",
              "      <td>55000.0</td>\n",
              "      <td>Source Verified</td>\n",
              "      <td>Dec-2018</td>\n",
              "      <td>Current</td>\n",
              "      <td>n</td>\n",
              "      <td>debt_consolidation</td>\n",
              "      <td>Debt consolidation</td>\n",
              "      <td>902xx</td>\n",
              "      <td>CA</td>\n",
              "      <td>13.51</td>\n",
              "      <td>0</td>\n",
              "      <td>Apr-2007</td>\n",
              "      <td>0</td>\n",
              "      <td>44.0</td>\n",
              "      <td>88.0</td>\n",
              "      <td>9</td>\n",
              "      <td>1</td>\n",
              "      <td>11859</td>\n",
              "      <td>53.9%</td>\n",
              "      <td>11</td>\n",
              "      <td>w</td>\n",
              "      <td>8694.39</td>\n",
              "      <td>8694.39</td>\n",
              "      <td>3675.230000</td>\n",
              "      <td>3675.23</td>\n",
              "      <td>1305.61</td>\n",
              "      <td>2369.62</td>\n",
              "      <td>0.0</td>\n",
              "      <td>0.0</td>\n",
              "      <td>...</td>\n",
              "      <td>1</td>\n",
              "      <td>0</td>\n",
              "      <td>34386</td>\n",
              "      <td>21235</td>\n",
              "      <td>10500</td>\n",
              "      <td>12386</td>\n",
              "      <td>NaN</td>\n",
              "      <td>NaN</td>\n",
              "      <td>NaN</td>\n",
              "      <td>NaN</td>\n",
              "      <td>NaN</td>\n",
              "      <td>NaN</td>\n",
              "      <td>NaN</td>\n",
              "      <td>NaN</td>\n",
              "      <td>NaN</td>\n",
              "      <td>NaN</td>\n",
              "      <td>NaN</td>\n",
              "      <td>N</td>\n",
              "      <td>NaN</td>\n",
              "      <td>NaN</td>\n",
              "      <td>NaN</td>\n",
              "      <td>NaN</td>\n",
              "      <td>NaN</td>\n",
              "      <td>NaN</td>\n",
              "      <td>NaN</td>\n",
              "      <td>NaN</td>\n",
              "      <td>NaN</td>\n",
              "      <td>NaN</td>\n",
              "      <td>NaN</td>\n",
              "      <td>NaN</td>\n",
              "      <td>NaN</td>\n",
              "      <td>NaN</td>\n",
              "      <td>N</td>\n",
              "      <td>NaN</td>\n",
              "      <td>NaN</td>\n",
              "      <td>NaN</td>\n",
              "      <td>NaN</td>\n",
              "      <td>NaN</td>\n",
              "      <td>NaN</td>\n",
              "      <td>23.40</td>\n",
              "    </tr>\n",
              "    <tr>\n",
              "      <th>3</th>\n",
              "      <td>17100</td>\n",
              "      <td>17100</td>\n",
              "      <td>17100.0</td>\n",
              "      <td>36 months</td>\n",
              "      <td>18.94%</td>\n",
              "      <td>626.30</td>\n",
              "      <td>D</td>\n",
              "      <td>D2</td>\n",
              "      <td>Receptionist</td>\n",
              "      <td>10+ years</td>\n",
              "      <td>RENT</td>\n",
              "      <td>38000.0</td>\n",
              "      <td>Verified</td>\n",
              "      <td>Dec-2018</td>\n",
              "      <td>Current</td>\n",
              "      <td>n</td>\n",
              "      <td>debt_consolidation</td>\n",
              "      <td>Debt consolidation</td>\n",
              "      <td>150xx</td>\n",
              "      <td>PA</td>\n",
              "      <td>38.09</td>\n",
              "      <td>0</td>\n",
              "      <td>Mar-1998</td>\n",
              "      <td>1</td>\n",
              "      <td>47.0</td>\n",
              "      <td>NaN</td>\n",
              "      <td>14</td>\n",
              "      <td>0</td>\n",
              "      <td>15323</td>\n",
              "      <td>53%</td>\n",
              "      <td>21</td>\n",
              "      <td>w</td>\n",
              "      <td>12001.54</td>\n",
              "      <td>12001.54</td>\n",
              "      <td>8114.910000</td>\n",
              "      <td>8114.91</td>\n",
              "      <td>5098.46</td>\n",
              "      <td>3016.45</td>\n",
              "      <td>0.0</td>\n",
              "      <td>0.0</td>\n",
              "      <td>...</td>\n",
              "      <td>0</td>\n",
              "      <td>0</td>\n",
              "      <td>70954</td>\n",
              "      <td>43351</td>\n",
              "      <td>16600</td>\n",
              "      <td>41784</td>\n",
              "      <td>NaN</td>\n",
              "      <td>NaN</td>\n",
              "      <td>NaN</td>\n",
              "      <td>NaN</td>\n",
              "      <td>NaN</td>\n",
              "      <td>NaN</td>\n",
              "      <td>NaN</td>\n",
              "      <td>NaN</td>\n",
              "      <td>NaN</td>\n",
              "      <td>NaN</td>\n",
              "      <td>NaN</td>\n",
              "      <td>N</td>\n",
              "      <td>NaN</td>\n",
              "      <td>NaN</td>\n",
              "      <td>NaN</td>\n",
              "      <td>NaN</td>\n",
              "      <td>NaN</td>\n",
              "      <td>NaN</td>\n",
              "      <td>NaN</td>\n",
              "      <td>NaN</td>\n",
              "      <td>NaN</td>\n",
              "      <td>NaN</td>\n",
              "      <td>NaN</td>\n",
              "      <td>NaN</td>\n",
              "      <td>NaN</td>\n",
              "      <td>NaN</td>\n",
              "      <td>N</td>\n",
              "      <td>NaN</td>\n",
              "      <td>NaN</td>\n",
              "      <td>NaN</td>\n",
              "      <td>NaN</td>\n",
              "      <td>NaN</td>\n",
              "      <td>NaN</td>\n",
              "      <td>18.94</td>\n",
              "    </tr>\n",
              "    <tr>\n",
              "      <th>4</th>\n",
              "      <td>4000</td>\n",
              "      <td>4000</td>\n",
              "      <td>4000.0</td>\n",
              "      <td>36 months</td>\n",
              "      <td>10.72%</td>\n",
              "      <td>130.43</td>\n",
              "      <td>B</td>\n",
              "      <td>B2</td>\n",
              "      <td>Extrusion Assistant</td>\n",
              "      <td>10+ years</td>\n",
              "      <td>MORTGAGE</td>\n",
              "      <td>56000.0</td>\n",
              "      <td>Verified</td>\n",
              "      <td>Dec-2018</td>\n",
              "      <td>Current</td>\n",
              "      <td>n</td>\n",
              "      <td>credit_card</td>\n",
              "      <td>Credit card refinancing</td>\n",
              "      <td>301xx</td>\n",
              "      <td>GA</td>\n",
              "      <td>31.03</td>\n",
              "      <td>0</td>\n",
              "      <td>Sep-2006</td>\n",
              "      <td>0</td>\n",
              "      <td>NaN</td>\n",
              "      <td>NaN</td>\n",
              "      <td>7</td>\n",
              "      <td>0</td>\n",
              "      <td>4518</td>\n",
              "      <td>28.6%</td>\n",
              "      <td>11</td>\n",
              "      <td>w</td>\n",
              "      <td>2700.74</td>\n",
              "      <td>2700.74</td>\n",
              "      <td>1682.500000</td>\n",
              "      <td>1682.50</td>\n",
              "      <td>1299.26</td>\n",
              "      <td>383.24</td>\n",
              "      <td>0.0</td>\n",
              "      <td>0.0</td>\n",
              "      <td>...</td>\n",
              "      <td>0</td>\n",
              "      <td>0</td>\n",
              "      <td>221310</td>\n",
              "      <td>71375</td>\n",
              "      <td>12300</td>\n",
              "      <td>77865</td>\n",
              "      <td>NaN</td>\n",
              "      <td>NaN</td>\n",
              "      <td>NaN</td>\n",
              "      <td>NaN</td>\n",
              "      <td>NaN</td>\n",
              "      <td>NaN</td>\n",
              "      <td>NaN</td>\n",
              "      <td>NaN</td>\n",
              "      <td>NaN</td>\n",
              "      <td>NaN</td>\n",
              "      <td>NaN</td>\n",
              "      <td>N</td>\n",
              "      <td>NaN</td>\n",
              "      <td>NaN</td>\n",
              "      <td>NaN</td>\n",
              "      <td>NaN</td>\n",
              "      <td>NaN</td>\n",
              "      <td>NaN</td>\n",
              "      <td>NaN</td>\n",
              "      <td>NaN</td>\n",
              "      <td>NaN</td>\n",
              "      <td>NaN</td>\n",
              "      <td>NaN</td>\n",
              "      <td>NaN</td>\n",
              "      <td>NaN</td>\n",
              "      <td>NaN</td>\n",
              "      <td>N</td>\n",
              "      <td>NaN</td>\n",
              "      <td>NaN</td>\n",
              "      <td>NaN</td>\n",
              "      <td>NaN</td>\n",
              "      <td>NaN</td>\n",
              "      <td>NaN</td>\n",
              "      <td>10.72</td>\n",
              "    </tr>\n",
              "  </tbody>\n",
              "</table>\n",
              "<p>5 rows × 141 columns</p>\n",
              "</div>"
            ],
            "text/plain": [
              "   loan_amnt  funded_amnt  ...  settlement_term int_rate_float\n",
              "0      35000        35000  ...              NaN          14.47\n",
              "1       5000         5000  ...              NaN          22.35\n",
              "2      10000        10000  ...              NaN          23.40\n",
              "3      17100        17100  ...              NaN          18.94\n",
              "4       4000         4000  ...              NaN          10.72\n",
              "\n",
              "[5 rows x 141 columns]"
            ]
          },
          "metadata": {
            "tags": []
          },
          "execution_count": 112
        }
      ]
    },
    {
      "cell_type": "markdown",
      "metadata": {
        "id": "aPm26DvFzQak",
        "colab_type": "text"
      },
      "source": [
        "We can use the same code as we did earlier to see how much progress was made.\n"
      ]
    },
    {
      "cell_type": "code",
      "metadata": {
        "id": "SKMEkrbFzGPL",
        "colab_type": "code",
        "colab": {
          "base_uri": "https://localhost:8080/",
          "height": 374
        },
        "outputId": "3badc2aa-a3d4-4e3d-dd45-27f1223547dc"
      },
      "source": [
        "# Look at the top 20 employment titles\n",
        "df['emp_title'].value_counts(dropna=False).head(20)"
      ],
      "execution_count": 114,
      "outputs": [
        {
          "output_type": "execute_result",
          "data": {
            "text/plain": [
              "Unknown               20947\n",
              "Teacher                2557\n",
              "Manager                2395\n",
              "Registered Nurse       1418\n",
              "Driver                 1258\n",
              "Supervisor             1160\n",
              "Truck Driver            920\n",
              "Rn                      834\n",
              "Office Manager          805\n",
              "Sales                   803\n",
              "General Manager         791\n",
              "Project Manager         720\n",
              "Owner                   625\n",
              "Director                523\n",
              "Operations Manager      518\n",
              "Sales Manager           500\n",
              "Police Officer          440\n",
              "Nurse                   425\n",
              "Technician              420\n",
              "Engineer                412\n",
              "Name: emp_title, dtype: int64"
            ]
          },
          "metadata": {
            "tags": []
          },
          "execution_count": 114
        }
      ]
    },
    {
      "cell_type": "code",
      "metadata": {
        "id": "eM0oa-10zVCn",
        "colab_type": "code",
        "colab": {
          "base_uri": "https://localhost:8080/",
          "height": 34
        },
        "outputId": "a3659050-f021-466d-b4be-f963c8fa6927"
      },
      "source": [
        "# How many different unique employment titles are there currently?\n",
        "df['emp_title'].nunique()"
      ],
      "execution_count": 113,
      "outputs": [
        {
          "output_type": "execute_result",
          "data": {
            "text/plain": [
              "34902"
            ]
          },
          "metadata": {
            "tags": []
          },
          "execution_count": 113
        }
      ]
    },
    {
      "cell_type": "code",
      "metadata": {
        "id": "RKcjoiWgze2x",
        "colab_type": "code",
        "colab": {
          "base_uri": "https://localhost:8080/",
          "height": 34
        },
        "outputId": "a6692624-a618-4cf0-ecca-d07f678c8e2a"
      },
      "source": [
        "# How often is the employment_title null (NaN)?\n",
        "df['emp_title'].isnull().sum()"
      ],
      "execution_count": 115,
      "outputs": [
        {
          "output_type": "execute_result",
          "data": {
            "text/plain": [
              "0"
            ]
          },
          "metadata": {
            "tags": []
          },
          "execution_count": 115
        }
      ]
    },
    {
      "cell_type": "markdown",
      "metadata": {
        "id": "Sj8G-tVKn36v",
        "colab_type": "text"
      },
      "source": [
        "## Challenge\n",
        "\n",
        "Using the .apply() function isn't always about creating new columns on a dataframe, we can use it to clean up or modify existing columns as well. "
      ]
    },
    {
      "cell_type": "markdown",
      "metadata": {
        "id": "m0G8Kv-MmaHh",
        "colab_type": "text"
      },
      "source": [
        "# [Objective](#dates-and-times) Work with Dates and Times with Pandas"
      ]
    },
    {
      "cell_type": "markdown",
      "metadata": {
        "id": "565Xjo-RnvLm",
        "colab_type": "text"
      },
      "source": [
        "## Overview\n",
        "\n",
        "Pandas has its own datatype datatype that makes it extremely convenient to convert strings that are in standard date formates to datetime objects and then use those datetime objects to either create new features on a dataframe or work with the dataset in a timeseries fashion. \n",
        "\n",
        "This section will demonstrate how to take a column of date strings, convert it to a datetime object and then use the datetime formatting `.dt` to access specific parts of the date (year, month, day) to generate useful columns on a dataframe."
      ]
    },
    {
      "cell_type": "markdown",
      "metadata": {
        "id": "YpoU_2Gknzbz",
        "colab_type": "text"
      },
      "source": [
        "## Follow Along"
      ]
    },
    {
      "cell_type": "markdown",
      "metadata": {
        "id": "BoQ86d_R79J6",
        "colab_type": "text"
      },
      "source": [
        "### Work with Dates \n",
        "\n",
        "pandas documentation\n",
        "- [to_datetime](https://pandas.pydata.org/pandas-docs/stable/generated/pandas.to_datetime.html)\n",
        "- [Time/Date Components](https://pandas.pydata.org/pandas-docs/stable/timeseries.html#time-date-components) \"You can access these properties via the `.dt` accessor\"\n",
        "\n",
        "Many of the most useful date columns in this dataset have the suffix `_d` to indicate that they correspond to dates.\n",
        "\n",
        "We'll use a list comprehension to print them out"
      ]
    },
    {
      "cell_type": "code",
      "metadata": {
        "id": "SxOhEaEX76mY",
        "colab_type": "code",
        "colab": {
          "base_uri": "https://localhost:8080/",
          "height": 34
        },
        "outputId": "65a03b8b-1972-4313-de05-bef67dbf0e19"
      },
      "source": [
        "[col for col in df if col.endswith('_d')]"
      ],
      "execution_count": 118,
      "outputs": [
        {
          "output_type": "execute_result",
          "data": {
            "text/plain": [
              "['issue_d', 'last_pymnt_d', 'next_pymnt_d', 'last_credit_pull_d']"
            ]
          },
          "metadata": {
            "tags": []
          },
          "execution_count": 118
        }
      ]
    },
    {
      "cell_type": "markdown",
      "metadata": {
        "id": "7wccaSfx9Zo4",
        "colab_type": "text"
      },
      "source": [
        "Lets look at the string format of the `issue_d` column"
      ]
    },
    {
      "cell_type": "code",
      "metadata": {
        "id": "BVYeLIOm9dQ-",
        "colab_type": "code",
        "colab": {
          "base_uri": "https://localhost:8080/",
          "height": 119
        },
        "outputId": "9a891e75-7001-48e4-9f60-313ffca257e9"
      },
      "source": [
        "df['issue_d'].head()"
      ],
      "execution_count": 120,
      "outputs": [
        {
          "output_type": "execute_result",
          "data": {
            "text/plain": [
              "0    Dec-2018\n",
              "1    Dec-2018\n",
              "2    Dec-2018\n",
              "3    Dec-2018\n",
              "4    Dec-2018\n",
              "Name: issue_d, dtype: object"
            ]
          },
          "metadata": {
            "tags": []
          },
          "execution_count": 120
        }
      ]
    },
    {
      "cell_type": "markdown",
      "metadata": {
        "id": "DnjOcU5y9iZh",
        "colab_type": "text"
      },
      "source": [
        "Because this string format %m-%y is a common datetime format, we can just let Pandas detect this format and translate it to the appropriate datetime object."
      ]
    },
    {
      "cell_type": "code",
      "metadata": {
        "id": "cBV3Ta_79qe6",
        "colab_type": "code",
        "colab": {
          "base_uri": "https://localhost:8080/",
          "height": 289
        },
        "outputId": "82dffbcc-0d58-415c-acad-79748b20f6f1"
      },
      "source": [
        "df['issue_d'] = pd.to_datetime(df['issue_d'], infer_datetime_format=True)\n",
        "df.dtypes[:15]"
      ],
      "execution_count": 122,
      "outputs": [
        {
          "output_type": "execute_result",
          "data": {
            "text/plain": [
              "loan_amnt                       int64\n",
              "funded_amnt                     int64\n",
              "funded_amnt_inv               float64\n",
              "term                           object\n",
              "int_rate                       object\n",
              "installment                   float64\n",
              "grade                          object\n",
              "sub_grade                      object\n",
              "emp_title                      object\n",
              "emp_length                     object\n",
              "home_ownership                 object\n",
              "annual_inc                    float64\n",
              "verification_status            object\n",
              "issue_d                datetime64[ns]\n",
              "loan_status                    object\n",
              "dtype: object"
            ]
          },
          "metadata": {
            "tags": []
          },
          "execution_count": 122
        }
      ]
    },
    {
      "cell_type": "markdown",
      "metadata": {
        "id": "6hcypFMu9y4s",
        "colab_type": "text"
      },
      "source": [
        "Now we can see that the `issue_d` column has been changed to hold `datetime` objects.\n",
        "\n",
        "Lets look at one of the cells specifically to see what a datetime object looks like:"
      ]
    },
    {
      "cell_type": "code",
      "metadata": {
        "id": "fUMjhnyJ94is",
        "colab_type": "code",
        "colab": {
          "base_uri": "https://localhost:8080/",
          "height": 34
        },
        "outputId": "0fe31813-1bb6-4616-ddb1-0f9f59934963"
      },
      "source": [
        "df['issue_d'][0]"
      ],
      "execution_count": 123,
      "outputs": [
        {
          "output_type": "execute_result",
          "data": {
            "text/plain": [
              "Timestamp('2018-12-01 00:00:00')"
            ]
          },
          "metadata": {
            "tags": []
          },
          "execution_count": 123
        }
      ]
    },
    {
      "cell_type": "markdown",
      "metadata": {
        "id": "aZQiLh4O-CMN",
        "colab_type": "text"
      },
      "source": [
        "You can see how the month and year have been indicated by the strings that were contained in the column previously, and that the rest of the values have been inferred."
      ]
    },
    {
      "cell_type": "code",
      "metadata": {
        "id": "6_PhaWzb-J7X",
        "colab_type": "code",
        "colab": {
          "base_uri": "https://localhost:8080/",
          "height": 68
        },
        "outputId": "5249bdc2-2f5e-4e61-f2c7-9a4e251473b7"
      },
      "source": [
        "df['issue_d'].head().values"
      ],
      "execution_count": 124,
      "outputs": [
        {
          "output_type": "execute_result",
          "data": {
            "text/plain": [
              "array(['2018-12-01T00:00:00.000000000', '2018-12-01T00:00:00.000000000',\n",
              "       '2018-12-01T00:00:00.000000000', '2018-12-01T00:00:00.000000000',\n",
              "       '2018-12-01T00:00:00.000000000'], dtype='datetime64[ns]')"
            ]
          },
          "metadata": {
            "tags": []
          },
          "execution_count": 124
        }
      ]
    },
    {
      "cell_type": "markdown",
      "metadata": {
        "id": "V3rKmrzY-NsD",
        "colab_type": "text"
      },
      "source": [
        "We can use the `.dt` accessor to now grab specific parts of the datetime object. Lets grab just the year from the all of the cells in the `issue_d` column"
      ]
    },
    {
      "cell_type": "code",
      "metadata": {
        "id": "y4479qzj-Yj5",
        "colab_type": "code",
        "colab": {
          "base_uri": "https://localhost:8080/",
          "height": 221
        },
        "outputId": "64820b20-33d6-4d3c-dd07-b1c378e55719"
      },
      "source": [
        "pd.set_option('display.max_rows', 10)\n",
        "df['issue_d'].dt.year"
      ],
      "execution_count": 125,
      "outputs": [
        {
          "output_type": "execute_result",
          "data": {
            "text/plain": [
              "0         2018\n",
              "1         2018\n",
              "2         2018\n",
              "3         2018\n",
              "4         2018\n",
              "          ... \n",
              "128407    2018\n",
              "128408    2018\n",
              "128409    2018\n",
              "128410    2018\n",
              "128411    2018\n",
              "Name: issue_d, Length: 128412, dtype: int64"
            ]
          },
          "metadata": {
            "tags": []
          },
          "execution_count": 125
        }
      ]
    },
    {
      "cell_type": "markdown",
      "metadata": {
        "id": "coNYQvdJ-b0s",
        "colab_type": "text"
      },
      "source": [
        "Now the month."
      ]
    },
    {
      "cell_type": "code",
      "metadata": {
        "id": "D28keYR3-dJn",
        "colab_type": "code",
        "colab": {
          "base_uri": "https://localhost:8080/",
          "height": 221
        },
        "outputId": "c9ad162b-8c5f-4539-c2dd-c345c600520d"
      },
      "source": [
        "df['issue_d'].dt.month"
      ],
      "execution_count": 126,
      "outputs": [
        {
          "output_type": "execute_result",
          "data": {
            "text/plain": [
              "0         12\n",
              "1         12\n",
              "2         12\n",
              "3         12\n",
              "4         12\n",
              "          ..\n",
              "128407    10\n",
              "128408    10\n",
              "128409    10\n",
              "128410    10\n",
              "128411    10\n",
              "Name: issue_d, Length: 128412, dtype: int64"
            ]
          },
          "metadata": {
            "tags": []
          },
          "execution_count": 126
        }
      ]
    },
    {
      "cell_type": "markdown",
      "metadata": {
        "id": "g4_O0q0t-hOX",
        "colab_type": "text"
      },
      "source": [
        "It's just that easy! Now, instead of printing them out, lets add these year and month values as new columns on our dataframe. Again, you'll have to scroll all the way over to the right in the table to see the new columns."
      ]
    },
    {
      "cell_type": "code",
      "metadata": {
        "id": "VJdlhqH1-mri",
        "colab_type": "code",
        "colab": {}
      },
      "source": [
        "df['issue_year'] = df['issue_d'].dt.year\n",
        "df['issue_month'] = df['issue_d'].dt.month"
      ],
      "execution_count": 0,
      "outputs": []
    },
    {
      "cell_type": "markdown",
      "metadata": {
        "id": "LAxig0nE-1kt",
        "colab_type": "text"
      },
      "source": [
        "Because all of these dates come from Q4 of 2018, the `issue_d` column isn't all that interesting. Lets look at the `earliest_cr_line` column, which is also a string, but that could be converted to datetime format.\n",
        "\n",
        "We're going to create a new column called `days_from_earliest_credit_to_issue`\n",
        "\n",
        "It's a long column header, but think about how valuable this piece of information could be. This number will essentially indicate the length of a person's credit history and if that is correlated with repayment or other factors could be a valuable predictor!"
      ]
    },
    {
      "cell_type": "code",
      "metadata": {
        "id": "5S6BDZjp-e8-",
        "colab_type": "code",
        "colab": {
          "base_uri": "https://localhost:8080/",
          "height": 119
        },
        "outputId": "2d97048d-9deb-44da-cd4c-4fb592c00eda"
      },
      "source": [
        "df['earliest_cr_line'].head()"
      ],
      "execution_count": 128,
      "outputs": [
        {
          "output_type": "execute_result",
          "data": {
            "text/plain": [
              "0    Apr-1995\n",
              "1    Mar-2010\n",
              "2    Apr-2007\n",
              "3    Mar-1998\n",
              "4    Sep-2006\n",
              "Name: earliest_cr_line, dtype: object"
            ]
          },
          "metadata": {
            "tags": []
          },
          "execution_count": 128
        }
      ]
    },
    {
      "cell_type": "code",
      "metadata": {
        "id": "X0VwXV1F_YpZ",
        "colab_type": "code",
        "colab": {}
      },
      "source": [
        "df['earliest_cr_line'] = pd.to_datetime(df['earliest_cr_line'],infer_datetime_format=True)"
      ],
      "execution_count": 0,
      "outputs": []
    },
    {
      "cell_type": "markdown",
      "metadata": {
        "id": "ml-N769C_e_n",
        "colab_type": "text"
      },
      "source": [
        "What we're about to do is so cool! Pandas' datetime format is so smart that we can simply use the subtraction operator `-` in order to calculate the amount of time between two dates. \n",
        "\n",
        "Think about everything that's going on under the hood in order to give us such straightforward syntax! Handling months of different lengths, leap years, etc. Pandas datetime objects are seriously powerful!"
      ]
    },
    {
      "cell_type": "code",
      "metadata": {
        "id": "FWu1a57V_cHx",
        "colab_type": "code",
        "colab": {
          "base_uri": "https://localhost:8080/",
          "height": 221
        },
        "outputId": "e0254681-b84e-4700-e4bb-4330985bea3b"
      },
      "source": [
        "(df['issue_d'] - df['earliest_cr_line']).dt.days"
      ],
      "execution_count": 130,
      "outputs": [
        {
          "output_type": "execute_result",
          "data": {
            "text/plain": [
              "0          8645\n",
              "1          3197\n",
              "2          4262\n",
              "3          7580\n",
              "4          4474\n",
              "          ...  \n",
              "128407    12114\n",
              "128408    13241\n",
              "128409     4505\n",
              "128410     3652\n",
              "128411     4413\n",
              "Length: 128412, dtype: int64"
            ]
          },
          "metadata": {
            "tags": []
          },
          "execution_count": 130
        }
      ]
    },
    {
      "cell_type": "code",
      "metadata": {
        "id": "PvRjLKZo_XRq",
        "colab_type": "code",
        "colab": {}
      },
      "source": [
        "df['days_from_credit_to_issue'] = (df['issue_d'] - df['earliest_cr_line']).dt.days "
      ],
      "execution_count": 0,
      "outputs": []
    },
    {
      "cell_type": "markdown",
      "metadata": {
        "id": "FHQEQZx6_3_p",
        "colab_type": "text"
      },
      "source": [
        "What's oldest credit history that was involved in Q4 2018? "
      ]
    },
    {
      "cell_type": "code",
      "metadata": {
        "id": "nrEqk6hG_20O",
        "colab_type": "code",
        "colab": {
          "base_uri": "https://localhost:8080/",
          "height": 170
        },
        "outputId": "01f972a7-a406-4f12-8267-c9feaf074af9"
      },
      "source": [
        "df['days_from_credit_to_issue'].describe()"
      ],
      "execution_count": 132,
      "outputs": [
        {
          "output_type": "execute_result",
          "data": {
            "text/plain": [
              "count    128412.000000\n",
              "mean       5859.891490\n",
              "std        2886.535578\n",
              "min        1126.000000\n",
              "25%        4049.000000\n",
              "50%        5266.000000\n",
              "75%        7244.000000\n",
              "max       25171.000000\n",
              "Name: days_from_credit_to_issue, dtype: float64"
            ]
          },
          "metadata": {
            "tags": []
          },
          "execution_count": 132
        }
      ]
    },
    {
      "cell_type": "markdown",
      "metadata": {
        "id": "gORWK62cAF2a",
        "colab_type": "text"
      },
      "source": [
        "25,171 days is ~ 68.96 years of credit history!"
      ]
    },
    {
      "cell_type": "markdown",
      "metadata": {
        "id": "THRLJ-7Jn4om",
        "colab_type": "text"
      },
      "source": [
        "## Challenge\n",
        "\n",
        "Pandas' datetime format is so easy to work with that there's really no excuse for not using dates to make features on a dataframe! Get ready to practice more of this on your assignment."
      ]
    }
  ]
}